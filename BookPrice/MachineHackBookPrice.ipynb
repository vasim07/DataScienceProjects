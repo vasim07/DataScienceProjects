{
  "nbformat": 4,
  "nbformat_minor": 0,
  "metadata": {
    "colab": {
      "name": "Copy of 1 Simple Template.ipynb",
      "provenance": [],
      "collapsed_sections": [
        "oWDE2fUvk4Gi",
        "a2LwraaKk-f2",
        "TUu75iqsy2VW",
        "wMG4MTEvza_Z",
        "zxBRjn_R1tnL",
        "sf0xtdx_0OM8",
        "rU9QzdS4Qzgi",
        "RARcaL1Iy88i",
        "cVcYEsZhy_si",
        "6sN6540ezFEh",
        "FiK9TDZ80JTa",
        "0bUKbEY00WjY",
        "W4S_DeexzHOp",
        "-gk4sQqE0J4Q",
        "zAxVM-R40XKX",
        "pvtU9jGszJGQ",
        "GrzRndbU0LVT",
        "AzzWA0wb0Xt2",
        "EZEQP33kzN7Y",
        "IW29Sc0R0LFQ",
        "yyUOr-dt0YkB",
        "0Q1tsQyYzTYS"
      ]
    },
    "kernelspec": {
      "name": "python3",
      "display_name": "Python 3"
    }
  },
  "cells": [
    {
      "cell_type": "markdown",
      "metadata": {
        "id": "K-6dPY3MkPmu"
      },
      "source": [
        "## Initial Setup"
      ]
    },
    {
      "cell_type": "code",
      "metadata": {
        "id": "GveHu4qrkDi6"
      },
      "source": [
        "%%capture\n",
        "#%%script false\n",
        "!pip install shap==0.23.0\n",
        "!pip install xgboost==0.82\n",
        "!pip install catboost\n",
        "!pip install lightgbm==2.2.4\n",
        "#!pip install tensorboardcolab\n",
        "!pip install seaborn==0.9.0\n",
        "!pip install pandas==0.24.2\n",
        "!pip install numpy==1.16.2\n",
        "!pip install scikit-optimize==0.6\n",
        "\n",
        "#Restart Runtime"
      ],
      "execution_count": null,
      "outputs": []
    },
    {
      "cell_type": "markdown",
      "metadata": {
        "id": "FKenLVA3kTTb"
      },
      "source": [
        "## Data"
      ]
    },
    {
      "cell_type": "code",
      "metadata": {
        "id": "iMu0XDeTkS0F",
        "colab": {
          "base_uri": "https://localhost:8080/",
          "height": 70
        },
        "outputId": "dc6536fb-b7da-47e1-dfa9-54e37d6dd141"
      },
      "source": [
        "import pandas as pd\n",
        "import numpy as np\n",
        "import matplotlib.pyplot as plt\n",
        "import seaborn as sns\n",
        "%matplotlib inline\n",
        "plt.rc('figure', figsize=(20.0, 6.0))\n",
        "\n",
        "import shap\n",
        "from tqdm import tqdm_notebook as tqdm\n",
        "\n",
        "from sklearn.externals import joblib\n",
        "from sklearn.model_selection import train_test_split\n",
        "#from sklearn.model_selection import StratifiedShuffleSplit #, RepeatedKFold, StratifiedKFold, RepeatedStratifiedKFold\n",
        "\n",
        "import xgboost as xgb\n",
        "import lightgbm as lgb\n",
        "import catboost as cat\n",
        "\n",
        "import itertools\n",
        "import re\n",
        "\n",
        "#import sklearn.svm as svm\n",
        "#import sklearn.neighbors as knn\n",
        "\n",
        "\n",
        "from sklearn.model_selection import cross_val_score\n",
        "from sklearn.model_selection import GridSearchCV\n",
        "from sklearn.metrics import classification_report, confusion_matrix, roc_curve, roc_auc_score, auc\n",
        "from sklearn.metrics import mean_squared_error #, mean_squared_log_error"
      ],
      "execution_count": null,
      "outputs": [
        {
          "output_type": "stream",
          "text": [
            "/usr/local/lib/python3.6/dist-packages/sklearn/externals/joblib/__init__.py:15: DeprecationWarning: sklearn.externals.joblib is deprecated in 0.21 and will be removed in 0.23. Please import this functionality directly from joblib, which can be installed with: pip install joblib. If this warning is raised when loading pickled models, you may need to re-serialize those models with scikit-learn 0.21+.\n",
            "  warnings.warn(msg, category=DeprecationWarning)\n"
          ],
          "name": "stderr"
        }
      ]
    },
    {
      "cell_type": "code",
      "metadata": {
        "id": "psNxenViRs4F"
      },
      "source": [
        "# Change id only\n",
        "train_data_og = pd.read_csv(\"https://drive.google.com/uc?export=download&id=17GTB2h41nJn70oeCZzdsBhxdy0mv14x0\", encoding='latin')\n",
        "test_data_og = pd.read_csv(\"https://drive.google.com/uc?export=download&id=1QxBgv4UXJSajx0c1Ri7TgbLcY3PWUkmz\", encoding='latin')"
      ],
      "execution_count": null,
      "outputs": []
    },
    {
      "cell_type": "markdown",
      "metadata": {
        "id": "utAyB_I4kvlr"
      },
      "source": [
        "### Manipulation\n",
        "\n",
        "Mean Encoding.  \n",
        "Divide and Multiply columns.  \n",
        "\n",
        "\n",
        "Time Series  \n",
        "Date parts  \n",
        "Lag values  \n",
        "Difference between dates "
      ]
    },
    {
      "cell_type": "code",
      "metadata": {
        "id": "DzphKvOlzL-E",
        "colab": {
          "base_uri": "https://localhost:8080/",
          "height": 34
        },
        "outputId": "d7fd2951-983d-4d23-cde0-b341cf3cb042"
      },
      "source": [
        "test_data_og.shape"
      ],
      "execution_count": null,
      "outputs": [
        {
          "output_type": "execute_result",
          "data": {
            "text/plain": [
              "(1560, 8)"
            ]
          },
          "metadata": {
            "tags": []
          },
          "execution_count": 45
        }
      ]
    },
    {
      "cell_type": "code",
      "metadata": {
        "id": "e5r2F1xPkuKs",
        "colab": {
          "base_uri": "https://localhost:8080/",
          "height": 279
        },
        "outputId": "c0b4001b-ef70-4342-ab19-f8f17c040483"
      },
      "source": [
        "booktype = '(paperback|board book|hardcover|cards|flexibound|leather bound|library binding|loose leaf|plastic comb|product bundle|sheet music|spiral-bound|tankobon softcover)'\n",
        "\n",
        "def clean_data(dataset) :\n",
        "\n",
        "    # Outlier # Duplicate in both\n",
        "\n",
        "    op_set_1 = (dataset\n",
        "        .assign(Ratings = dataset.Ratings.str.split(\" \").str[0].replace(\",\", ).str[0].astype(\"float\"))\n",
        "        .assign(Reviews = dataset.Reviews.str.split(\" \").str[0].astype(\"float\"))\n",
        "        .assign(BookType = dataset.Edition.str.lower().str.extract(booktype))\n",
        "        .assign(TitleLen = dataset.Title.str.len())\n",
        "\n",
        "        #.drop([\"Title\", \"Edition\", \"Synopsis\"], axis = 1)\n",
        "    )\n",
        "    # dataset.NoofGenre & Noofcategory\n",
        "    # Toekenization, TF IDF\n",
        "    # No of punctuations\n",
        "    # Synopsis - Sentiment, extract entities?\n",
        "    # Edition - Date\n",
        "    # Average encoding - Author, Genre Book category & Derived columns\n",
        "\n",
        "    return op_set_1\n",
        "\n",
        "train_data = clean_data(train_data_og)\n",
        "train_data.head()"
      ],
      "execution_count": null,
      "outputs": [
        {
          "output_type": "execute_result",
          "data": {
            "text/html": [
              "<div>\n",
              "<style scoped>\n",
              "    .dataframe tbody tr th:only-of-type {\n",
              "        vertical-align: middle;\n",
              "    }\n",
              "\n",
              "    .dataframe tbody tr th {\n",
              "        vertical-align: top;\n",
              "    }\n",
              "\n",
              "    .dataframe thead th {\n",
              "        text-align: right;\n",
              "    }\n",
              "</style>\n",
              "<table border=\"1\" class=\"dataframe\">\n",
              "  <thead>\n",
              "    <tr style=\"text-align: right;\">\n",
              "      <th></th>\n",
              "      <th>Title</th>\n",
              "      <th>Author</th>\n",
              "      <th>Edition</th>\n",
              "      <th>Reviews</th>\n",
              "      <th>Ratings</th>\n",
              "      <th>Synopsis</th>\n",
              "      <th>Genre</th>\n",
              "      <th>BookCategory</th>\n",
              "      <th>Price</th>\n",
              "      <th>BookType</th>\n",
              "      <th>TitleLen</th>\n",
              "    </tr>\n",
              "  </thead>\n",
              "  <tbody>\n",
              "    <tr>\n",
              "      <th>0</th>\n",
              "      <td>The Prisoner's Gold (The Hunters 3)</td>\n",
              "      <td>Chris Kuzneski</td>\n",
              "      <td>Paperback, 10 Mar 2016</td>\n",
              "      <td>4.0</td>\n",
              "      <td>8.0</td>\n",
              "      <td>THE HUNTERS return in their third brilliant no...</td>\n",
              "      <td>Action &amp; Adventure (Books)</td>\n",
              "      <td>Action &amp; Adventure</td>\n",
              "      <td>220.00</td>\n",
              "      <td>paperback</td>\n",
              "      <td>35</td>\n",
              "    </tr>\n",
              "    <tr>\n",
              "      <th>1</th>\n",
              "      <td>Guru Dutt: A Tragedy in Three Acts</td>\n",
              "      <td>Arun Khopkar</td>\n",
              "      <td>Paperback, 7 Nov 2012</td>\n",
              "      <td>3.9</td>\n",
              "      <td>1.0</td>\n",
              "      <td>A layered portrait of a troubled genius for wh...</td>\n",
              "      <td>Cinema &amp; Broadcast (Books)</td>\n",
              "      <td>Biographies, Diaries &amp; True Accounts</td>\n",
              "      <td>202.93</td>\n",
              "      <td>paperback</td>\n",
              "      <td>34</td>\n",
              "    </tr>\n",
              "    <tr>\n",
              "      <th>2</th>\n",
              "      <td>Leviathan (Penguin Classics)</td>\n",
              "      <td>Thomas Hobbes</td>\n",
              "      <td>Paperback, 25 Feb 1982</td>\n",
              "      <td>4.8</td>\n",
              "      <td>6.0</td>\n",
              "      <td>\"During the time men live without a common Pow...</td>\n",
              "      <td>International Relations</td>\n",
              "      <td>Humour</td>\n",
              "      <td>299.00</td>\n",
              "      <td>paperback</td>\n",
              "      <td>28</td>\n",
              "    </tr>\n",
              "    <tr>\n",
              "      <th>3</th>\n",
              "      <td>A Pocket Full of Rye (Miss Marple)</td>\n",
              "      <td>Agatha Christie</td>\n",
              "      <td>Paperback, 5 Oct 2017</td>\n",
              "      <td>4.1</td>\n",
              "      <td>1.0</td>\n",
              "      <td>A handful of grain is found in the pocket of a...</td>\n",
              "      <td>Contemporary Fiction (Books)</td>\n",
              "      <td>Crime, Thriller &amp; Mystery</td>\n",
              "      <td>180.00</td>\n",
              "      <td>paperback</td>\n",
              "      <td>34</td>\n",
              "    </tr>\n",
              "    <tr>\n",
              "      <th>4</th>\n",
              "      <td>LIFE 70 Years of Extraordinary Photography</td>\n",
              "      <td>Editors of Life</td>\n",
              "      <td>Hardcover, 10 Oct 2006</td>\n",
              "      <td>5.0</td>\n",
              "      <td>1.0</td>\n",
              "      <td>For seven decades, \"Life\" has been thrilling t...</td>\n",
              "      <td>Photography Textbooks</td>\n",
              "      <td>Arts, Film &amp; Photography</td>\n",
              "      <td>965.62</td>\n",
              "      <td>hardcover</td>\n",
              "      <td>42</td>\n",
              "    </tr>\n",
              "  </tbody>\n",
              "</table>\n",
              "</div>"
            ],
            "text/plain": [
              "                                        Title  ... TitleLen\n",
              "0         The Prisoner's Gold (The Hunters 3)  ...       35\n",
              "1          Guru Dutt: A Tragedy in Three Acts  ...       34\n",
              "2                Leviathan (Penguin Classics)  ...       28\n",
              "3          A Pocket Full of Rye (Miss Marple)  ...       34\n",
              "4  LIFE 70 Years of Extraordinary Photography  ...       42\n",
              "\n",
              "[5 rows x 11 columns]"
            ]
          },
          "metadata": {
            "tags": []
          },
          "execution_count": 3
        }
      ]
    },
    {
      "cell_type": "code",
      "metadata": {
        "id": "F-jLf1llUlz1"
      },
      "source": [
        "sub_data = clean_data(test_data_og).head()"
      ],
      "execution_count": null,
      "outputs": []
    },
    {
      "cell_type": "code",
      "metadata": {
        "id": "IL32kdnznolg",
        "colab": {
          "base_uri": "https://localhost:8080/",
          "height": 34
        },
        "outputId": "37b3ad6d-5e6a-40a8-f9f3-a8522186ac60"
      },
      "source": [
        "sub_data.shape"
      ],
      "execution_count": null,
      "outputs": [
        {
          "output_type": "execute_result",
          "data": {
            "text/plain": [
              "(5, 471)"
            ]
          },
          "metadata": {
            "tags": []
          },
          "execution_count": 46
        }
      ]
    },
    {
      "cell_type": "code",
      "metadata": {
        "id": "4VwxU9UzMqd1"
      },
      "source": [
        "from sklearn.feature_extraction.text import TfidfVectorizer\n",
        "v = TfidfVectorizer(stop_words='english')\n",
        "x = v.fit_transform(train_data[\"Synopsis\"]) # x is not a dataframe\n",
        "x = pd.DataFrame(x.toarray(), columns=v.get_feature_names())\n",
        "\n",
        "w = TfidfVectorizer(stop_words='english')\n",
        "sub_x = w.fit_transform(sub_data[\"Synopsis\"])\n",
        "sub_x = pd.DataFrame(sub_x.toarray(), columns=w.get_feature_names())\n",
        "\n",
        "train_data[\"synopsisMean\"] = x.mean(axis = 1)\n",
        "sub_data[\"synopsisMean\"] = sub_x.mean(axis = 1)\n",
        "\n",
        "# train_data = pd.concat([train_data, x.mean(axis = 1)], axis = 1)\n",
        "# sub_data = pd.concat([sub_data, sub_x.mean(axis = 1)], axis = 1)"
      ],
      "execution_count": null,
      "outputs": []
    },
    {
      "cell_type": "code",
      "metadata": {
        "id": "1kG-bd4zUuTa",
        "colab": {
          "base_uri": "https://localhost:8080/",
          "height": 84
        },
        "outputId": "c1a81104-7191-4e46-a490-ff94830df578"
      },
      "source": [
        "categories = set(list(itertools.chain(*train_data.BookCategory.str.lower().str.split(\", | & \").tolist())))\n",
        "\n",
        "for cat in categories : \n",
        "    train_data[cat] = train_data.BookCategory.str.lower().str.contains( re.compile(\".*({}).*\".format(cat)) )\n",
        "    sub_data[cat] = sub_data.BookCategory.str.lower().str.contains( re.compile(\".*({}).*\".format(cat)) )\n",
        "\n",
        "    train_data.drop([\"BookCategory\"], axis = 1)\n",
        "    sub_data.drop([\"BookCategory\"], axis = 1)"
      ],
      "execution_count": null,
      "outputs": [
        {
          "output_type": "stream",
          "text": [
            "/usr/local/lib/python3.6/dist-packages/ipykernel_launcher.py:4: UserWarning: This pattern has match groups. To actually get the groups, use str.extract.\n",
            "  after removing the cwd from sys.path.\n",
            "/usr/local/lib/python3.6/dist-packages/ipykernel_launcher.py:5: UserWarning: This pattern has match groups. To actually get the groups, use str.extract.\n",
            "  \"\"\"\n"
          ],
          "name": "stderr"
        }
      ]
    },
    {
      "cell_type": "code",
      "metadata": {
        "id": "g1F4913JhiVX",
        "colab": {
          "base_uri": "https://localhost:8080/",
          "height": 714
        },
        "outputId": "2e32ee4e-dc51-4cdd-8681-e657ce2a7072"
      },
      "source": [
        "train_data[\"Genre\"] = train_data.Genre.replace(\"Visual C++ Programming\", \"Visual C Programming\" )\n",
        "\n",
        "genrecat = set(list(itertools.chain(*train_data.Genre.str.lower().str.replace('\\(books\\)', \"\").str.lower().str.split(\", | & \").tolist())))\n",
        "\n",
        "for gcat in genrecat : \n",
        "    # print(gcat)\n",
        "    train_data[gcat] = train_data.Genre.str.lower().str.replace('\\(books\\)', \"\").str.contains( re.compile(\".*({}).*\".format(gcat)) )\n",
        "    sub_data[gcat] = sub_data.Genre.str.lower().str.replace('\\(books\\)', \"\").str.contains( re.compile(\".*({}).*\".format(gcat)) )\n",
        "    \n",
        "train_data = train_data.drop([\"Genre\"], axis = 1)\n",
        "sub_data = sub_data.drop([\"Genre\"], axis = 1)\n",
        "\n",
        "train_data.head()"
      ],
      "execution_count": null,
      "outputs": [
        {
          "output_type": "stream",
          "text": [
            "/usr/local/lib/python3.6/dist-packages/ipykernel_launcher.py:7: UserWarning: This pattern has match groups. To actually get the groups, use str.extract.\n",
            "  import sys\n",
            "/usr/local/lib/python3.6/dist-packages/ipykernel_launcher.py:8: UserWarning: This pattern has match groups. To actually get the groups, use str.extract.\n",
            "  \n"
          ],
          "name": "stderr"
        },
        {
          "output_type": "execute_result",
          "data": {
            "text/html": [
              "<div>\n",
              "<style scoped>\n",
              "    .dataframe tbody tr th:only-of-type {\n",
              "        vertical-align: middle;\n",
              "    }\n",
              "\n",
              "    .dataframe tbody tr th {\n",
              "        vertical-align: top;\n",
              "    }\n",
              "\n",
              "    .dataframe thead th {\n",
              "        text-align: right;\n",
              "    }\n",
              "</style>\n",
              "<table border=\"1\" class=\"dataframe\">\n",
              "  <thead>\n",
              "    <tr style=\"text-align: right;\">\n",
              "      <th></th>\n",
              "      <th>Title</th>\n",
              "      <th>Author</th>\n",
              "      <th>Edition</th>\n",
              "      <th>Reviews</th>\n",
              "      <th>Ratings</th>\n",
              "      <th>Synopsis</th>\n",
              "      <th>BookCategory</th>\n",
              "      <th>Price</th>\n",
              "      <th>BookType</th>\n",
              "      <th>TitleLen</th>\n",
              "      <th>synopsisMean</th>\n",
              "      <th>internet</th>\n",
              "      <th>digital media</th>\n",
              "      <th>adventure</th>\n",
              "      <th>linguistics</th>\n",
              "      <th>biographies</th>\n",
              "      <th>film</th>\n",
              "      <th>humour</th>\n",
              "      <th>crime</th>\n",
              "      <th>true accounts</th>\n",
              "      <th>politics</th>\n",
              "      <th>photography</th>\n",
              "      <th>mangas</th>\n",
              "      <th>computing</th>\n",
              "      <th>action</th>\n",
              "      <th>mystery</th>\n",
              "      <th>language</th>\n",
              "      <th>thriller</th>\n",
              "      <th>sports</th>\n",
              "      <th>romance</th>\n",
              "      <th>comics</th>\n",
              "      <th>writing</th>\n",
              "      <th>diaries</th>\n",
              "      <th>arts</th>\n",
              "      <th>digital media</th>\n",
              "      <th>children's crafts</th>\n",
              "      <th>python programming</th>\n",
              "      <th>zoology</th>\n",
              "      <th>linguistics</th>\n",
              "      <th>structural engineering</th>\n",
              "      <th>...</th>\n",
              "      <th>sign language reference</th>\n",
              "      <th>business sectors</th>\n",
              "      <th>astronomy</th>\n",
              "      <th>political ideologies</th>\n",
              "      <th>spiritual healing</th>\n",
              "      <th>middle eastern history</th>\n",
              "      <th>letter</th>\n",
              "      <th>rhetoric</th>\n",
              "      <th>home</th>\n",
              "      <th>hinduism</th>\n",
              "      <th>active outdoor pursuits</th>\n",
              "      <th>spiritual fiction</th>\n",
              "      <th>gate exams</th>\n",
              "      <th>literary theory</th>\n",
              "      <th>children's painting</th>\n",
              "      <th>military sciences</th>\n",
              "      <th>translation reference</th>\n",
              "      <th>car racing</th>\n",
              "      <th>sagas</th>\n",
              "      <th>automotive</th>\n",
              "      <th>thriller</th>\n",
              "      <th>alternative medicine</th>\n",
              "      <th>software architecture</th>\n",
              "      <th>budget travel</th>\n",
              "      <th>social sciences</th>\n",
              "      <th>horse racing</th>\n",
              "      <th>security</th>\n",
              "      <th>toys</th>\n",
              "      <th>handheld devices</th>\n",
              "      <th>hunting</th>\n",
              "      <th>programming algorithms</th>\n",
              "      <th>calculus</th>\n",
              "      <th>holocaust</th>\n",
              "      <th>interface design programming</th>\n",
              "      <th>culture</th>\n",
              "      <th>romance</th>\n",
              "      <th>visual arts</th>\n",
              "      <th>science</th>\n",
              "      <th>ethics</th>\n",
              "      <th>graphic design</th>\n",
              "    </tr>\n",
              "  </thead>\n",
              "  <tbody>\n",
              "    <tr>\n",
              "      <th>0</th>\n",
              "      <td>The Prisoner's Gold (The Hunters 3)</td>\n",
              "      <td>Chris Kuzneski</td>\n",
              "      <td>Paperback, 10 Mar 2016</td>\n",
              "      <td>4.0</td>\n",
              "      <td>8.0</td>\n",
              "      <td>THE HUNTERS return in their third brilliant no...</td>\n",
              "      <td>Action &amp; Adventure</td>\n",
              "      <td>220.00</td>\n",
              "      <td>paperback</td>\n",
              "      <td>35</td>\n",
              "      <td>0.000154</td>\n",
              "      <td>False</td>\n",
              "      <td>False</td>\n",
              "      <td>True</td>\n",
              "      <td>False</td>\n",
              "      <td>False</td>\n",
              "      <td>False</td>\n",
              "      <td>False</td>\n",
              "      <td>False</td>\n",
              "      <td>False</td>\n",
              "      <td>False</td>\n",
              "      <td>False</td>\n",
              "      <td>False</td>\n",
              "      <td>False</td>\n",
              "      <td>True</td>\n",
              "      <td>False</td>\n",
              "      <td>False</td>\n",
              "      <td>False</td>\n",
              "      <td>False</td>\n",
              "      <td>False</td>\n",
              "      <td>False</td>\n",
              "      <td>False</td>\n",
              "      <td>False</td>\n",
              "      <td>False</td>\n",
              "      <td>False</td>\n",
              "      <td>False</td>\n",
              "      <td>False</td>\n",
              "      <td>False</td>\n",
              "      <td>False</td>\n",
              "      <td>False</td>\n",
              "      <td>...</td>\n",
              "      <td>False</td>\n",
              "      <td>False</td>\n",
              "      <td>False</td>\n",
              "      <td>False</td>\n",
              "      <td>False</td>\n",
              "      <td>False</td>\n",
              "      <td>False</td>\n",
              "      <td>False</td>\n",
              "      <td>False</td>\n",
              "      <td>False</td>\n",
              "      <td>False</td>\n",
              "      <td>False</td>\n",
              "      <td>False</td>\n",
              "      <td>False</td>\n",
              "      <td>False</td>\n",
              "      <td>False</td>\n",
              "      <td>False</td>\n",
              "      <td>False</td>\n",
              "      <td>False</td>\n",
              "      <td>False</td>\n",
              "      <td>False</td>\n",
              "      <td>False</td>\n",
              "      <td>False</td>\n",
              "      <td>False</td>\n",
              "      <td>False</td>\n",
              "      <td>False</td>\n",
              "      <td>False</td>\n",
              "      <td>False</td>\n",
              "      <td>False</td>\n",
              "      <td>False</td>\n",
              "      <td>False</td>\n",
              "      <td>False</td>\n",
              "      <td>False</td>\n",
              "      <td>False</td>\n",
              "      <td>False</td>\n",
              "      <td>False</td>\n",
              "      <td>False</td>\n",
              "      <td>False</td>\n",
              "      <td>False</td>\n",
              "      <td>False</td>\n",
              "    </tr>\n",
              "    <tr>\n",
              "      <th>1</th>\n",
              "      <td>Guru Dutt: A Tragedy in Three Acts</td>\n",
              "      <td>Arun Khopkar</td>\n",
              "      <td>Paperback, 7 Nov 2012</td>\n",
              "      <td>3.9</td>\n",
              "      <td>1.0</td>\n",
              "      <td>A layered portrait of a troubled genius for wh...</td>\n",
              "      <td>Biographies, Diaries &amp; True Accounts</td>\n",
              "      <td>202.93</td>\n",
              "      <td>paperback</td>\n",
              "      <td>34</td>\n",
              "      <td>0.000197</td>\n",
              "      <td>False</td>\n",
              "      <td>False</td>\n",
              "      <td>False</td>\n",
              "      <td>False</td>\n",
              "      <td>False</td>\n",
              "      <td>False</td>\n",
              "      <td>False</td>\n",
              "      <td>False</td>\n",
              "      <td>True</td>\n",
              "      <td>False</td>\n",
              "      <td>False</td>\n",
              "      <td>False</td>\n",
              "      <td>False</td>\n",
              "      <td>False</td>\n",
              "      <td>False</td>\n",
              "      <td>False</td>\n",
              "      <td>False</td>\n",
              "      <td>False</td>\n",
              "      <td>False</td>\n",
              "      <td>False</td>\n",
              "      <td>False</td>\n",
              "      <td>False</td>\n",
              "      <td>False</td>\n",
              "      <td>False</td>\n",
              "      <td>False</td>\n",
              "      <td>False</td>\n",
              "      <td>False</td>\n",
              "      <td>False</td>\n",
              "      <td>False</td>\n",
              "      <td>...</td>\n",
              "      <td>False</td>\n",
              "      <td>False</td>\n",
              "      <td>False</td>\n",
              "      <td>False</td>\n",
              "      <td>False</td>\n",
              "      <td>False</td>\n",
              "      <td>False</td>\n",
              "      <td>False</td>\n",
              "      <td>False</td>\n",
              "      <td>False</td>\n",
              "      <td>False</td>\n",
              "      <td>False</td>\n",
              "      <td>False</td>\n",
              "      <td>False</td>\n",
              "      <td>False</td>\n",
              "      <td>False</td>\n",
              "      <td>False</td>\n",
              "      <td>False</td>\n",
              "      <td>False</td>\n",
              "      <td>False</td>\n",
              "      <td>False</td>\n",
              "      <td>False</td>\n",
              "      <td>False</td>\n",
              "      <td>False</td>\n",
              "      <td>False</td>\n",
              "      <td>False</td>\n",
              "      <td>False</td>\n",
              "      <td>False</td>\n",
              "      <td>False</td>\n",
              "      <td>False</td>\n",
              "      <td>False</td>\n",
              "      <td>False</td>\n",
              "      <td>False</td>\n",
              "      <td>False</td>\n",
              "      <td>False</td>\n",
              "      <td>False</td>\n",
              "      <td>False</td>\n",
              "      <td>False</td>\n",
              "      <td>False</td>\n",
              "      <td>False</td>\n",
              "    </tr>\n",
              "    <tr>\n",
              "      <th>2</th>\n",
              "      <td>Leviathan (Penguin Classics)</td>\n",
              "      <td>Thomas Hobbes</td>\n",
              "      <td>Paperback, 25 Feb 1982</td>\n",
              "      <td>4.8</td>\n",
              "      <td>6.0</td>\n",
              "      <td>\"During the time men live without a common Pow...</td>\n",
              "      <td>Humour</td>\n",
              "      <td>299.00</td>\n",
              "      <td>paperback</td>\n",
              "      <td>28</td>\n",
              "      <td>0.000250</td>\n",
              "      <td>False</td>\n",
              "      <td>False</td>\n",
              "      <td>False</td>\n",
              "      <td>False</td>\n",
              "      <td>False</td>\n",
              "      <td>False</td>\n",
              "      <td>True</td>\n",
              "      <td>False</td>\n",
              "      <td>False</td>\n",
              "      <td>False</td>\n",
              "      <td>False</td>\n",
              "      <td>False</td>\n",
              "      <td>False</td>\n",
              "      <td>False</td>\n",
              "      <td>False</td>\n",
              "      <td>False</td>\n",
              "      <td>False</td>\n",
              "      <td>False</td>\n",
              "      <td>False</td>\n",
              "      <td>False</td>\n",
              "      <td>False</td>\n",
              "      <td>False</td>\n",
              "      <td>False</td>\n",
              "      <td>False</td>\n",
              "      <td>False</td>\n",
              "      <td>False</td>\n",
              "      <td>False</td>\n",
              "      <td>False</td>\n",
              "      <td>False</td>\n",
              "      <td>...</td>\n",
              "      <td>False</td>\n",
              "      <td>False</td>\n",
              "      <td>False</td>\n",
              "      <td>False</td>\n",
              "      <td>False</td>\n",
              "      <td>False</td>\n",
              "      <td>False</td>\n",
              "      <td>False</td>\n",
              "      <td>False</td>\n",
              "      <td>False</td>\n",
              "      <td>False</td>\n",
              "      <td>False</td>\n",
              "      <td>False</td>\n",
              "      <td>False</td>\n",
              "      <td>False</td>\n",
              "      <td>False</td>\n",
              "      <td>False</td>\n",
              "      <td>False</td>\n",
              "      <td>False</td>\n",
              "      <td>False</td>\n",
              "      <td>False</td>\n",
              "      <td>False</td>\n",
              "      <td>False</td>\n",
              "      <td>False</td>\n",
              "      <td>False</td>\n",
              "      <td>False</td>\n",
              "      <td>False</td>\n",
              "      <td>False</td>\n",
              "      <td>False</td>\n",
              "      <td>False</td>\n",
              "      <td>False</td>\n",
              "      <td>False</td>\n",
              "      <td>False</td>\n",
              "      <td>False</td>\n",
              "      <td>False</td>\n",
              "      <td>False</td>\n",
              "      <td>False</td>\n",
              "      <td>False</td>\n",
              "      <td>False</td>\n",
              "      <td>False</td>\n",
              "    </tr>\n",
              "    <tr>\n",
              "      <th>3</th>\n",
              "      <td>A Pocket Full of Rye (Miss Marple)</td>\n",
              "      <td>Agatha Christie</td>\n",
              "      <td>Paperback, 5 Oct 2017</td>\n",
              "      <td>4.1</td>\n",
              "      <td>1.0</td>\n",
              "      <td>A handful of grain is found in the pocket of a...</td>\n",
              "      <td>Crime, Thriller &amp; Mystery</td>\n",
              "      <td>180.00</td>\n",
              "      <td>paperback</td>\n",
              "      <td>34</td>\n",
              "      <td>0.000144</td>\n",
              "      <td>False</td>\n",
              "      <td>False</td>\n",
              "      <td>False</td>\n",
              "      <td>False</td>\n",
              "      <td>False</td>\n",
              "      <td>False</td>\n",
              "      <td>False</td>\n",
              "      <td>False</td>\n",
              "      <td>False</td>\n",
              "      <td>False</td>\n",
              "      <td>False</td>\n",
              "      <td>False</td>\n",
              "      <td>False</td>\n",
              "      <td>False</td>\n",
              "      <td>True</td>\n",
              "      <td>False</td>\n",
              "      <td>False</td>\n",
              "      <td>False</td>\n",
              "      <td>False</td>\n",
              "      <td>False</td>\n",
              "      <td>False</td>\n",
              "      <td>False</td>\n",
              "      <td>False</td>\n",
              "      <td>False</td>\n",
              "      <td>False</td>\n",
              "      <td>False</td>\n",
              "      <td>False</td>\n",
              "      <td>False</td>\n",
              "      <td>False</td>\n",
              "      <td>...</td>\n",
              "      <td>False</td>\n",
              "      <td>False</td>\n",
              "      <td>False</td>\n",
              "      <td>False</td>\n",
              "      <td>False</td>\n",
              "      <td>False</td>\n",
              "      <td>False</td>\n",
              "      <td>False</td>\n",
              "      <td>False</td>\n",
              "      <td>False</td>\n",
              "      <td>False</td>\n",
              "      <td>False</td>\n",
              "      <td>False</td>\n",
              "      <td>False</td>\n",
              "      <td>False</td>\n",
              "      <td>False</td>\n",
              "      <td>False</td>\n",
              "      <td>False</td>\n",
              "      <td>False</td>\n",
              "      <td>False</td>\n",
              "      <td>False</td>\n",
              "      <td>False</td>\n",
              "      <td>False</td>\n",
              "      <td>False</td>\n",
              "      <td>False</td>\n",
              "      <td>False</td>\n",
              "      <td>False</td>\n",
              "      <td>False</td>\n",
              "      <td>False</td>\n",
              "      <td>False</td>\n",
              "      <td>False</td>\n",
              "      <td>False</td>\n",
              "      <td>False</td>\n",
              "      <td>False</td>\n",
              "      <td>False</td>\n",
              "      <td>False</td>\n",
              "      <td>False</td>\n",
              "      <td>False</td>\n",
              "      <td>False</td>\n",
              "      <td>False</td>\n",
              "    </tr>\n",
              "    <tr>\n",
              "      <th>4</th>\n",
              "      <td>LIFE 70 Years of Extraordinary Photography</td>\n",
              "      <td>Editors of Life</td>\n",
              "      <td>Hardcover, 10 Oct 2006</td>\n",
              "      <td>5.0</td>\n",
              "      <td>1.0</td>\n",
              "      <td>For seven decades, \"Life\" has been thrilling t...</td>\n",
              "      <td>Arts, Film &amp; Photography</td>\n",
              "      <td>965.62</td>\n",
              "      <td>hardcover</td>\n",
              "      <td>42</td>\n",
              "      <td>0.000152</td>\n",
              "      <td>False</td>\n",
              "      <td>False</td>\n",
              "      <td>False</td>\n",
              "      <td>False</td>\n",
              "      <td>False</td>\n",
              "      <td>False</td>\n",
              "      <td>False</td>\n",
              "      <td>False</td>\n",
              "      <td>False</td>\n",
              "      <td>False</td>\n",
              "      <td>True</td>\n",
              "      <td>False</td>\n",
              "      <td>False</td>\n",
              "      <td>False</td>\n",
              "      <td>False</td>\n",
              "      <td>False</td>\n",
              "      <td>False</td>\n",
              "      <td>False</td>\n",
              "      <td>False</td>\n",
              "      <td>False</td>\n",
              "      <td>False</td>\n",
              "      <td>False</td>\n",
              "      <td>False</td>\n",
              "      <td>False</td>\n",
              "      <td>False</td>\n",
              "      <td>False</td>\n",
              "      <td>False</td>\n",
              "      <td>False</td>\n",
              "      <td>False</td>\n",
              "      <td>...</td>\n",
              "      <td>False</td>\n",
              "      <td>False</td>\n",
              "      <td>False</td>\n",
              "      <td>False</td>\n",
              "      <td>False</td>\n",
              "      <td>False</td>\n",
              "      <td>False</td>\n",
              "      <td>False</td>\n",
              "      <td>False</td>\n",
              "      <td>False</td>\n",
              "      <td>False</td>\n",
              "      <td>False</td>\n",
              "      <td>False</td>\n",
              "      <td>False</td>\n",
              "      <td>False</td>\n",
              "      <td>False</td>\n",
              "      <td>False</td>\n",
              "      <td>False</td>\n",
              "      <td>False</td>\n",
              "      <td>False</td>\n",
              "      <td>False</td>\n",
              "      <td>False</td>\n",
              "      <td>False</td>\n",
              "      <td>False</td>\n",
              "      <td>False</td>\n",
              "      <td>False</td>\n",
              "      <td>False</td>\n",
              "      <td>False</td>\n",
              "      <td>False</td>\n",
              "      <td>False</td>\n",
              "      <td>False</td>\n",
              "      <td>False</td>\n",
              "      <td>False</td>\n",
              "      <td>False</td>\n",
              "      <td>False</td>\n",
              "      <td>False</td>\n",
              "      <td>False</td>\n",
              "      <td>False</td>\n",
              "      <td>False</td>\n",
              "      <td>False</td>\n",
              "    </tr>\n",
              "  </tbody>\n",
              "</table>\n",
              "<p>5 rows × 472 columns</p>\n",
              "</div>"
            ],
            "text/plain": [
              "                                        Title  ... graphic design \n",
              "0         The Prisoner's Gold (The Hunters 3)  ...           False\n",
              "1          Guru Dutt: A Tragedy in Three Acts  ...           False\n",
              "2                Leviathan (Penguin Classics)  ...           False\n",
              "3          A Pocket Full of Rye (Miss Marple)  ...           False\n",
              "4  LIFE 70 Years of Extraordinary Photography  ...           False\n",
              "\n",
              "[5 rows x 472 columns]"
            ]
          },
          "metadata": {
            "tags": []
          },
          "execution_count": 7
        }
      ]
    },
    {
      "cell_type": "code",
      "metadata": {
        "id": "QBtYjXbtkByx"
      },
      "source": [
        "train_data = train_data.drop([\"Title\", \"Edition\", \"Synopsis\", \"BookCategory\"], axis = 1)"
      ],
      "execution_count": null,
      "outputs": []
    },
    {
      "cell_type": "code",
      "metadata": {
        "id": "NJkPK5gvptN_",
        "colab": {
          "base_uri": "https://localhost:8080/",
          "height": 362
        },
        "outputId": "5dda1834-e86d-495f-b2ea-43ad8fe90156"
      },
      "source": [
        "#train_data = train_data.fillna(0)\n",
        "train_data.head()"
      ],
      "execution_count": null,
      "outputs": [
        {
          "output_type": "execute_result",
          "data": {
            "text/html": [
              "<div>\n",
              "<style scoped>\n",
              "    .dataframe tbody tr th:only-of-type {\n",
              "        vertical-align: middle;\n",
              "    }\n",
              "\n",
              "    .dataframe tbody tr th {\n",
              "        vertical-align: top;\n",
              "    }\n",
              "\n",
              "    .dataframe thead th {\n",
              "        text-align: right;\n",
              "    }\n",
              "</style>\n",
              "<table border=\"1\" class=\"dataframe\">\n",
              "  <thead>\n",
              "    <tr style=\"text-align: right;\">\n",
              "      <th></th>\n",
              "      <th>Author</th>\n",
              "      <th>Reviews</th>\n",
              "      <th>Ratings</th>\n",
              "      <th>Price</th>\n",
              "      <th>BookType</th>\n",
              "      <th>TitleLen</th>\n",
              "      <th>synopsisMean</th>\n",
              "      <th>internet</th>\n",
              "      <th>digital media</th>\n",
              "      <th>adventure</th>\n",
              "      <th>linguistics</th>\n",
              "      <th>biographies</th>\n",
              "      <th>film</th>\n",
              "      <th>humour</th>\n",
              "      <th>crime</th>\n",
              "      <th>true accounts</th>\n",
              "      <th>politics</th>\n",
              "      <th>photography</th>\n",
              "      <th>mangas</th>\n",
              "      <th>computing</th>\n",
              "      <th>action</th>\n",
              "      <th>mystery</th>\n",
              "      <th>language</th>\n",
              "      <th>thriller</th>\n",
              "      <th>sports</th>\n",
              "      <th>romance</th>\n",
              "      <th>comics</th>\n",
              "      <th>writing</th>\n",
              "      <th>diaries</th>\n",
              "      <th>arts</th>\n",
              "      <th>digital media</th>\n",
              "      <th>children's crafts</th>\n",
              "      <th>python programming</th>\n",
              "      <th>zoology</th>\n",
              "      <th>linguistics</th>\n",
              "      <th>structural engineering</th>\n",
              "      <th>political parties</th>\n",
              "      <th>international entrance exams</th>\n",
              "      <th>italian</th>\n",
              "      <th>coaching</th>\n",
              "      <th>...</th>\n",
              "      <th>sign language reference</th>\n",
              "      <th>business sectors</th>\n",
              "      <th>astronomy</th>\n",
              "      <th>political ideologies</th>\n",
              "      <th>spiritual healing</th>\n",
              "      <th>middle eastern history</th>\n",
              "      <th>letter</th>\n",
              "      <th>rhetoric</th>\n",
              "      <th>home</th>\n",
              "      <th>hinduism</th>\n",
              "      <th>active outdoor pursuits</th>\n",
              "      <th>spiritual fiction</th>\n",
              "      <th>gate exams</th>\n",
              "      <th>literary theory</th>\n",
              "      <th>children's painting</th>\n",
              "      <th>military sciences</th>\n",
              "      <th>translation reference</th>\n",
              "      <th>car racing</th>\n",
              "      <th>sagas</th>\n",
              "      <th>automotive</th>\n",
              "      <th>thriller</th>\n",
              "      <th>alternative medicine</th>\n",
              "      <th>software architecture</th>\n",
              "      <th>budget travel</th>\n",
              "      <th>social sciences</th>\n",
              "      <th>horse racing</th>\n",
              "      <th>security</th>\n",
              "      <th>toys</th>\n",
              "      <th>handheld devices</th>\n",
              "      <th>hunting</th>\n",
              "      <th>programming algorithms</th>\n",
              "      <th>calculus</th>\n",
              "      <th>holocaust</th>\n",
              "      <th>interface design programming</th>\n",
              "      <th>culture</th>\n",
              "      <th>romance</th>\n",
              "      <th>visual arts</th>\n",
              "      <th>science</th>\n",
              "      <th>ethics</th>\n",
              "      <th>graphic design</th>\n",
              "    </tr>\n",
              "  </thead>\n",
              "  <tbody>\n",
              "    <tr>\n",
              "      <th>0</th>\n",
              "      <td>Chris Kuzneski</td>\n",
              "      <td>4.0</td>\n",
              "      <td>8.0</td>\n",
              "      <td>220.00</td>\n",
              "      <td>paperback</td>\n",
              "      <td>35</td>\n",
              "      <td>0.000154</td>\n",
              "      <td>False</td>\n",
              "      <td>False</td>\n",
              "      <td>True</td>\n",
              "      <td>False</td>\n",
              "      <td>False</td>\n",
              "      <td>False</td>\n",
              "      <td>False</td>\n",
              "      <td>False</td>\n",
              "      <td>False</td>\n",
              "      <td>False</td>\n",
              "      <td>False</td>\n",
              "      <td>False</td>\n",
              "      <td>False</td>\n",
              "      <td>True</td>\n",
              "      <td>False</td>\n",
              "      <td>False</td>\n",
              "      <td>False</td>\n",
              "      <td>False</td>\n",
              "      <td>False</td>\n",
              "      <td>False</td>\n",
              "      <td>False</td>\n",
              "      <td>False</td>\n",
              "      <td>False</td>\n",
              "      <td>False</td>\n",
              "      <td>False</td>\n",
              "      <td>False</td>\n",
              "      <td>False</td>\n",
              "      <td>False</td>\n",
              "      <td>False</td>\n",
              "      <td>False</td>\n",
              "      <td>False</td>\n",
              "      <td>False</td>\n",
              "      <td>False</td>\n",
              "      <td>...</td>\n",
              "      <td>False</td>\n",
              "      <td>False</td>\n",
              "      <td>False</td>\n",
              "      <td>False</td>\n",
              "      <td>False</td>\n",
              "      <td>False</td>\n",
              "      <td>False</td>\n",
              "      <td>False</td>\n",
              "      <td>False</td>\n",
              "      <td>False</td>\n",
              "      <td>False</td>\n",
              "      <td>False</td>\n",
              "      <td>False</td>\n",
              "      <td>False</td>\n",
              "      <td>False</td>\n",
              "      <td>False</td>\n",
              "      <td>False</td>\n",
              "      <td>False</td>\n",
              "      <td>False</td>\n",
              "      <td>False</td>\n",
              "      <td>False</td>\n",
              "      <td>False</td>\n",
              "      <td>False</td>\n",
              "      <td>False</td>\n",
              "      <td>False</td>\n",
              "      <td>False</td>\n",
              "      <td>False</td>\n",
              "      <td>False</td>\n",
              "      <td>False</td>\n",
              "      <td>False</td>\n",
              "      <td>False</td>\n",
              "      <td>False</td>\n",
              "      <td>False</td>\n",
              "      <td>False</td>\n",
              "      <td>False</td>\n",
              "      <td>False</td>\n",
              "      <td>False</td>\n",
              "      <td>False</td>\n",
              "      <td>False</td>\n",
              "      <td>False</td>\n",
              "    </tr>\n",
              "    <tr>\n",
              "      <th>1</th>\n",
              "      <td>Arun Khopkar</td>\n",
              "      <td>3.9</td>\n",
              "      <td>1.0</td>\n",
              "      <td>202.93</td>\n",
              "      <td>paperback</td>\n",
              "      <td>34</td>\n",
              "      <td>0.000197</td>\n",
              "      <td>False</td>\n",
              "      <td>False</td>\n",
              "      <td>False</td>\n",
              "      <td>False</td>\n",
              "      <td>False</td>\n",
              "      <td>False</td>\n",
              "      <td>False</td>\n",
              "      <td>False</td>\n",
              "      <td>True</td>\n",
              "      <td>False</td>\n",
              "      <td>False</td>\n",
              "      <td>False</td>\n",
              "      <td>False</td>\n",
              "      <td>False</td>\n",
              "      <td>False</td>\n",
              "      <td>False</td>\n",
              "      <td>False</td>\n",
              "      <td>False</td>\n",
              "      <td>False</td>\n",
              "      <td>False</td>\n",
              "      <td>False</td>\n",
              "      <td>False</td>\n",
              "      <td>False</td>\n",
              "      <td>False</td>\n",
              "      <td>False</td>\n",
              "      <td>False</td>\n",
              "      <td>False</td>\n",
              "      <td>False</td>\n",
              "      <td>False</td>\n",
              "      <td>False</td>\n",
              "      <td>False</td>\n",
              "      <td>False</td>\n",
              "      <td>False</td>\n",
              "      <td>...</td>\n",
              "      <td>False</td>\n",
              "      <td>False</td>\n",
              "      <td>False</td>\n",
              "      <td>False</td>\n",
              "      <td>False</td>\n",
              "      <td>False</td>\n",
              "      <td>False</td>\n",
              "      <td>False</td>\n",
              "      <td>False</td>\n",
              "      <td>False</td>\n",
              "      <td>False</td>\n",
              "      <td>False</td>\n",
              "      <td>False</td>\n",
              "      <td>False</td>\n",
              "      <td>False</td>\n",
              "      <td>False</td>\n",
              "      <td>False</td>\n",
              "      <td>False</td>\n",
              "      <td>False</td>\n",
              "      <td>False</td>\n",
              "      <td>False</td>\n",
              "      <td>False</td>\n",
              "      <td>False</td>\n",
              "      <td>False</td>\n",
              "      <td>False</td>\n",
              "      <td>False</td>\n",
              "      <td>False</td>\n",
              "      <td>False</td>\n",
              "      <td>False</td>\n",
              "      <td>False</td>\n",
              "      <td>False</td>\n",
              "      <td>False</td>\n",
              "      <td>False</td>\n",
              "      <td>False</td>\n",
              "      <td>False</td>\n",
              "      <td>False</td>\n",
              "      <td>False</td>\n",
              "      <td>False</td>\n",
              "      <td>False</td>\n",
              "      <td>False</td>\n",
              "    </tr>\n",
              "    <tr>\n",
              "      <th>2</th>\n",
              "      <td>Thomas Hobbes</td>\n",
              "      <td>4.8</td>\n",
              "      <td>6.0</td>\n",
              "      <td>299.00</td>\n",
              "      <td>paperback</td>\n",
              "      <td>28</td>\n",
              "      <td>0.000250</td>\n",
              "      <td>False</td>\n",
              "      <td>False</td>\n",
              "      <td>False</td>\n",
              "      <td>False</td>\n",
              "      <td>False</td>\n",
              "      <td>False</td>\n",
              "      <td>True</td>\n",
              "      <td>False</td>\n",
              "      <td>False</td>\n",
              "      <td>False</td>\n",
              "      <td>False</td>\n",
              "      <td>False</td>\n",
              "      <td>False</td>\n",
              "      <td>False</td>\n",
              "      <td>False</td>\n",
              "      <td>False</td>\n",
              "      <td>False</td>\n",
              "      <td>False</td>\n",
              "      <td>False</td>\n",
              "      <td>False</td>\n",
              "      <td>False</td>\n",
              "      <td>False</td>\n",
              "      <td>False</td>\n",
              "      <td>False</td>\n",
              "      <td>False</td>\n",
              "      <td>False</td>\n",
              "      <td>False</td>\n",
              "      <td>False</td>\n",
              "      <td>False</td>\n",
              "      <td>False</td>\n",
              "      <td>False</td>\n",
              "      <td>False</td>\n",
              "      <td>False</td>\n",
              "      <td>...</td>\n",
              "      <td>False</td>\n",
              "      <td>False</td>\n",
              "      <td>False</td>\n",
              "      <td>False</td>\n",
              "      <td>False</td>\n",
              "      <td>False</td>\n",
              "      <td>False</td>\n",
              "      <td>False</td>\n",
              "      <td>False</td>\n",
              "      <td>False</td>\n",
              "      <td>False</td>\n",
              "      <td>False</td>\n",
              "      <td>False</td>\n",
              "      <td>False</td>\n",
              "      <td>False</td>\n",
              "      <td>False</td>\n",
              "      <td>False</td>\n",
              "      <td>False</td>\n",
              "      <td>False</td>\n",
              "      <td>False</td>\n",
              "      <td>False</td>\n",
              "      <td>False</td>\n",
              "      <td>False</td>\n",
              "      <td>False</td>\n",
              "      <td>False</td>\n",
              "      <td>False</td>\n",
              "      <td>False</td>\n",
              "      <td>False</td>\n",
              "      <td>False</td>\n",
              "      <td>False</td>\n",
              "      <td>False</td>\n",
              "      <td>False</td>\n",
              "      <td>False</td>\n",
              "      <td>False</td>\n",
              "      <td>False</td>\n",
              "      <td>False</td>\n",
              "      <td>False</td>\n",
              "      <td>False</td>\n",
              "      <td>False</td>\n",
              "      <td>False</td>\n",
              "    </tr>\n",
              "    <tr>\n",
              "      <th>3</th>\n",
              "      <td>Agatha Christie</td>\n",
              "      <td>4.1</td>\n",
              "      <td>1.0</td>\n",
              "      <td>180.00</td>\n",
              "      <td>paperback</td>\n",
              "      <td>34</td>\n",
              "      <td>0.000144</td>\n",
              "      <td>False</td>\n",
              "      <td>False</td>\n",
              "      <td>False</td>\n",
              "      <td>False</td>\n",
              "      <td>False</td>\n",
              "      <td>False</td>\n",
              "      <td>False</td>\n",
              "      <td>False</td>\n",
              "      <td>False</td>\n",
              "      <td>False</td>\n",
              "      <td>False</td>\n",
              "      <td>False</td>\n",
              "      <td>False</td>\n",
              "      <td>False</td>\n",
              "      <td>True</td>\n",
              "      <td>False</td>\n",
              "      <td>False</td>\n",
              "      <td>False</td>\n",
              "      <td>False</td>\n",
              "      <td>False</td>\n",
              "      <td>False</td>\n",
              "      <td>False</td>\n",
              "      <td>False</td>\n",
              "      <td>False</td>\n",
              "      <td>False</td>\n",
              "      <td>False</td>\n",
              "      <td>False</td>\n",
              "      <td>False</td>\n",
              "      <td>False</td>\n",
              "      <td>False</td>\n",
              "      <td>False</td>\n",
              "      <td>False</td>\n",
              "      <td>False</td>\n",
              "      <td>...</td>\n",
              "      <td>False</td>\n",
              "      <td>False</td>\n",
              "      <td>False</td>\n",
              "      <td>False</td>\n",
              "      <td>False</td>\n",
              "      <td>False</td>\n",
              "      <td>False</td>\n",
              "      <td>False</td>\n",
              "      <td>False</td>\n",
              "      <td>False</td>\n",
              "      <td>False</td>\n",
              "      <td>False</td>\n",
              "      <td>False</td>\n",
              "      <td>False</td>\n",
              "      <td>False</td>\n",
              "      <td>False</td>\n",
              "      <td>False</td>\n",
              "      <td>False</td>\n",
              "      <td>False</td>\n",
              "      <td>False</td>\n",
              "      <td>False</td>\n",
              "      <td>False</td>\n",
              "      <td>False</td>\n",
              "      <td>False</td>\n",
              "      <td>False</td>\n",
              "      <td>False</td>\n",
              "      <td>False</td>\n",
              "      <td>False</td>\n",
              "      <td>False</td>\n",
              "      <td>False</td>\n",
              "      <td>False</td>\n",
              "      <td>False</td>\n",
              "      <td>False</td>\n",
              "      <td>False</td>\n",
              "      <td>False</td>\n",
              "      <td>False</td>\n",
              "      <td>False</td>\n",
              "      <td>False</td>\n",
              "      <td>False</td>\n",
              "      <td>False</td>\n",
              "    </tr>\n",
              "    <tr>\n",
              "      <th>4</th>\n",
              "      <td>Editors of Life</td>\n",
              "      <td>5.0</td>\n",
              "      <td>1.0</td>\n",
              "      <td>965.62</td>\n",
              "      <td>hardcover</td>\n",
              "      <td>42</td>\n",
              "      <td>0.000152</td>\n",
              "      <td>False</td>\n",
              "      <td>False</td>\n",
              "      <td>False</td>\n",
              "      <td>False</td>\n",
              "      <td>False</td>\n",
              "      <td>False</td>\n",
              "      <td>False</td>\n",
              "      <td>False</td>\n",
              "      <td>False</td>\n",
              "      <td>False</td>\n",
              "      <td>True</td>\n",
              "      <td>False</td>\n",
              "      <td>False</td>\n",
              "      <td>False</td>\n",
              "      <td>False</td>\n",
              "      <td>False</td>\n",
              "      <td>False</td>\n",
              "      <td>False</td>\n",
              "      <td>False</td>\n",
              "      <td>False</td>\n",
              "      <td>False</td>\n",
              "      <td>False</td>\n",
              "      <td>False</td>\n",
              "      <td>False</td>\n",
              "      <td>False</td>\n",
              "      <td>False</td>\n",
              "      <td>False</td>\n",
              "      <td>False</td>\n",
              "      <td>False</td>\n",
              "      <td>False</td>\n",
              "      <td>False</td>\n",
              "      <td>False</td>\n",
              "      <td>False</td>\n",
              "      <td>...</td>\n",
              "      <td>False</td>\n",
              "      <td>False</td>\n",
              "      <td>False</td>\n",
              "      <td>False</td>\n",
              "      <td>False</td>\n",
              "      <td>False</td>\n",
              "      <td>False</td>\n",
              "      <td>False</td>\n",
              "      <td>False</td>\n",
              "      <td>False</td>\n",
              "      <td>False</td>\n",
              "      <td>False</td>\n",
              "      <td>False</td>\n",
              "      <td>False</td>\n",
              "      <td>False</td>\n",
              "      <td>False</td>\n",
              "      <td>False</td>\n",
              "      <td>False</td>\n",
              "      <td>False</td>\n",
              "      <td>False</td>\n",
              "      <td>False</td>\n",
              "      <td>False</td>\n",
              "      <td>False</td>\n",
              "      <td>False</td>\n",
              "      <td>False</td>\n",
              "      <td>False</td>\n",
              "      <td>False</td>\n",
              "      <td>False</td>\n",
              "      <td>False</td>\n",
              "      <td>False</td>\n",
              "      <td>False</td>\n",
              "      <td>False</td>\n",
              "      <td>False</td>\n",
              "      <td>False</td>\n",
              "      <td>False</td>\n",
              "      <td>False</td>\n",
              "      <td>False</td>\n",
              "      <td>False</td>\n",
              "      <td>False</td>\n",
              "      <td>False</td>\n",
              "    </tr>\n",
              "  </tbody>\n",
              "</table>\n",
              "<p>5 rows × 468 columns</p>\n",
              "</div>"
            ],
            "text/plain": [
              "            Author  Reviews  Ratings  ...  science ethics  graphic design \n",
              "0   Chris Kuzneski      4.0      8.0  ...    False  False            False\n",
              "1     Arun Khopkar      3.9      1.0  ...    False  False            False\n",
              "2    Thomas Hobbes      4.8      6.0  ...    False  False            False\n",
              "3  Agatha Christie      4.1      1.0  ...    False  False            False\n",
              "4  Editors of Life      5.0      1.0  ...    False  False            False\n",
              "\n",
              "[5 rows x 468 columns]"
            ]
          },
          "metadata": {
            "tags": []
          },
          "execution_count": 9
        }
      ]
    },
    {
      "cell_type": "code",
      "metadata": {
        "id": "T8uu65gQpzHm",
        "colab": {
          "base_uri": "https://localhost:8080/",
          "height": 34
        },
        "outputId": "23b88caa-cc05-49a7-e845-8eb5f549e652"
      },
      "source": [
        "len(np.unique(sub_data.Author))"
      ],
      "execution_count": null,
      "outputs": [
        {
          "output_type": "execute_result",
          "data": {
            "text/plain": [
              "5"
            ]
          },
          "metadata": {
            "tags": []
          },
          "execution_count": 44
        }
      ]
    },
    {
      "cell_type": "code",
      "metadata": {
        "id": "X4Hwe7Y3y-iG",
        "colab": {
          "base_uri": "https://localhost:8080/",
          "height": 67
        },
        "outputId": "6f7860dc-3260-4ed4-81ea-5983bee86f52"
      },
      "source": [
        "sub_data.Author.value_counts().index"
      ],
      "execution_count": null,
      "outputs": [
        {
          "output_type": "execute_result",
          "data": {
            "text/plain": [
              "Index(['Redman Gairns', 'Sir Arthur Conan Doyle', 'Allen B. Downey',\n",
              "       'Danielle Steel', 'Gabriel N. Schenker'],\n",
              "      dtype='object')"
            ]
          },
          "metadata": {
            "tags": []
          },
          "execution_count": 43
        }
      ]
    },
    {
      "cell_type": "code",
      "metadata": {
        "id": "l_G5kmUlr7oL",
        "colab": {
          "base_uri": "https://localhost:8080/",
          "height": 168
        },
        "outputId": "209aee80-4e98-41cc-9e8a-6e5d2a417762"
      },
      "source": [
        "train_data.Author.value_counts().index"
      ],
      "execution_count": null,
      "outputs": [
        {
          "output_type": "execute_result",
          "data": {
            "text/plain": [
              "Index(['Agatha Christie', 'Ladybird', 'DK', 'Herge', 'Albert Uderzo',\n",
              "       'James Patterson', 'John Grisham', 'Bill Watterson', 'P.G. Wodehouse',\n",
              "       'Sidney Sheldon',\n",
              "       ...\n",
              "       'Longman', 'Nikhil Mahajan', 'Bose Sisir K., Bose Sugata',\n",
              "       'Walter Andersen, Shridhar Damle', 'Hannah Fry', 'Katie Alender',\n",
              "       'Deborah Harkness', 'Charles Harrington Elster', 'David Mamet',\n",
              "       'Alavala Chennakesava R'],\n",
              "      dtype='object', length=3679)"
            ]
          },
          "metadata": {
            "tags": []
          },
          "execution_count": 42
        }
      ]
    },
    {
      "cell_type": "markdown",
      "metadata": {
        "id": "LIr82FI6kylK"
      },
      "source": [
        "## EDA\n",
        "\n",
        "seaborn or pandas plot as required.  \n",
        "verify labels truth - a new column called sample_weights may be helpful for noisy data."
      ]
    },
    {
      "cell_type": "markdown",
      "metadata": {
        "id": "-8RfdmJcvA5l"
      },
      "source": [
        "### Distribution"
      ]
    },
    {
      "cell_type": "code",
      "metadata": {
        "id": "9oGBGthMvBgu",
        "colab": {
          "base_uri": "https://localhost:8080/",
          "height": 392
        },
        "outputId": "795600db-b45a-49ce-dd4d-cee85cfcce06"
      },
      "source": [
        "plt.subplot(1,2,1)\n",
        "sns.distplot(train_data.Price)\n",
        "plt.subplot(1,2,2)\n",
        "sns.distplot(np.log(train_data.Price))\n",
        "plt.show()"
      ],
      "execution_count": null,
      "outputs": [
        {
          "output_type": "display_data",
          "data": {
            "image/png": "[encoded data removed]",
            "text/plain": [
              "<Figure size 1440x432 with 2 Axes>"
            ]
          },
          "metadata": {
            "tags": []
          }
        }
      ]
    },
    {
      "cell_type": "markdown",
      "metadata": {
        "id": "1CwMozOik13K"
      },
      "source": [
        "### Univariate\n",
        "\n",
        "Distributions, Outliers"
      ]
    },
    {
      "cell_type": "code",
      "metadata": {
        "id": "qNAP-ENbw0ND"
      },
      "source": [
        "plt.subplot(1,2,1)\n",
        "sns.barplot(train_data.Author, train_data.Price)\n",
        "plt.subplot(1,2,2)\n",
        "sns.barplot(sub_data.Author, sub_data.Price)\n",
        "plt.show()"
      ],
      "execution_count": null,
      "outputs": []
    },
    {
      "cell_type": "code",
      "metadata": {
        "id": "pcLVCZt3xNDE",
        "colab": {
          "base_uri": "https://localhost:8080/",
          "height": 392
        },
        "outputId": "653baf7b-9a82-459a-e7bf-8daa0fc3ccaf"
      },
      "source": [
        "# plt.subplot(1,2,1)\n",
        "sns.boxplot(train_data.BookType, np.log(train_data.Price))\n",
        "# plt.subplot(1,2,2)\n",
        "# sns.boxplot(sub_data.BookType, sub_data.Price)\n",
        "plt.show()"
      ],
      "execution_count": null,
      "outputs": [
        {
          "output_type": "display_data",
          "data": {
            "image/png": "[encoded data removed]",
            "text/plain": [
              "<Figure size 1440x432 with 1 Axes>"
            ]
          },
          "metadata": {
            "tags": []
          }
        }
      ]
    },
    {
      "cell_type": "markdown",
      "metadata": {
        "id": "oWDE2fUvk4Gi"
      },
      "source": [
        "### Bivariate\n",
        "\n",
        "Comparision, corelation"
      ]
    },
    {
      "cell_type": "code",
      "metadata": {
        "id": "ZRRAHHJ9k9uZ"
      },
      "source": [
        "plt.subplot(1,2,1)\n",
        "sns.countplot(train_data.XXX, order = train_data.xxx.values_count().index )\n",
        "plt.subplot(1,2,2)\n",
        "sns.countplot(sub_data.XXX, order = [1,2,3,4])\n",
        "plt.show()"
      ],
      "execution_count": null,
      "outputs": []
    },
    {
      "cell_type": "markdown",
      "metadata": {
        "id": "a2LwraaKk-f2"
      },
      "source": [
        "### With sub_data\n",
        "\n",
        "Submit pattern, cv on, splitted on"
      ]
    },
    {
      "cell_type": "code",
      "metadata": {
        "id": "PHvJLxC3lDC-"
      },
      "source": [
        ""
      ],
      "execution_count": null,
      "outputs": []
    },
    {
      "cell_type": "markdown",
      "metadata": {
        "id": "POPDGccol9av"
      },
      "source": [
        "## Data Validation\n",
        "\n",
        "Replace xxx with proper data  \n",
        "\n",
        "1) Random split\n",
        "2) Catogorical split\n",
        "3) Time based split"
      ]
    },
    {
      "cell_type": "code",
      "metadata": {
        "id": "PjZWAWq3mA6_"
      },
      "source": [
        "X = train_data.drop(['Price'], axis = 1)\n",
        "y = np.log(train_data[\"Price\"])\n",
        "\n",
        "cat_train, cat_test, y_train, y_test = train_test_split(X, y, test_size = 0.25, train_size = 0.75) #, stratify = train_data[\"xxx\"])\n",
        "\n",
        "X = pd.get_dummies(X) #, dummy_na = True\n",
        "X_sub = pd.get_dummies(sub_data)\n",
        "\n",
        "X_train, X_test, y_train, y_test = train_test_split(X, y, test_size = 0.25, train_size = 0.75) # , stratify = train_data[\"xxx\"]"
      ],
      "execution_count": null,
      "outputs": []
    },
    {
      "cell_type": "code",
      "metadata": {
        "id": "oWov4F1X4fS4",
        "colab": {
          "base_uri": "https://localhost:8080/",
          "height": 67
        },
        "outputId": "cdd383ca-616d-4972-d4b4-7074e8a99f00"
      },
      "source": [
        "print(\"Train set rows %s, cols %s and y is %s\" % (X_train.shape[0], X_train.shape[1], y_train.shape[0]))\n",
        "print(\"Test set rows %s, cols %s and y is %s\" % (X_test.shape[0], X_test.shape[1], y_test.shape[0]))\n",
        "print(\"Submission set rows %s, cols %s and y is to be predicted\" % (X_sub.shape[0], X_sub.shape[1]))"
      ],
      "execution_count": null,
      "outputs": [
        {
          "output_type": "stream",
          "text": [
            "Train set rows 4677, cols 4157 and y is 4677\n",
            "Test set rows 1560, cols 4157 and y is 1560\n",
            "Submission set rows 5, cols 490 and y is to be predicted\n"
          ],
          "name": "stdout"
        }
      ]
    },
    {
      "cell_type": "code",
      "metadata": {
        "id": "E4srHMrg256_"
      },
      "source": [
        "# # Run only if required\n",
        "\n",
        "# for x in set(X_train.columns) - set(X_sub.columns) :\n",
        "#     X_sub[x] = 0\n",
        "\n",
        "# X_sub = X_sub[X.columns]\n",
        "    \n",
        "# print(\"Submission set rows %s, cols %s and y is to be predicted\" % (X_sub.shape[0], X_sub.shape[1]))"
      ],
      "execution_count": null,
      "outputs": []
    },
    {
      "cell_type": "markdown",
      "metadata": {
        "id": "TUu75iqsy2VW"
      },
      "source": [
        "### Validataion EDA"
      ]
    },
    {
      "cell_type": "code",
      "metadata": {
        "id": "hdCMjXFJy1wc"
      },
      "source": [
        ""
      ],
      "execution_count": null,
      "outputs": []
    },
    {
      "cell_type": "markdown",
      "metadata": {
        "id": "QOYLC_QQyISa"
      },
      "source": [
        "## Modeling\n",
        "\n",
        "For Regression verify distribution.  \n",
        "For Classification verify confusion matrix.  \n",
        "Use 10 fold cross validation to verify final model.  "
      ]
    },
    {
      "cell_type": "markdown",
      "metadata": {
        "id": "wMG4MTEvza_Z"
      },
      "source": [
        "### Submission Part\n",
        "\n",
        "Ensure that model is trained on whole set"
      ]
    },
    {
      "cell_type": "code",
      "metadata": {
        "id": "fh274m4HzbfZ"
      },
      "source": [
        ""
      ],
      "execution_count": null,
      "outputs": []
    },
    {
      "cell_type": "markdown",
      "metadata": {
        "id": "7bUgq588y6cz"
      },
      "source": [
        "### XGBoost\n",
        "\n",
        "Monitor metric performance on both train and test.  "
      ]
    },
    {
      "cell_type": "code",
      "metadata": {
        "id": "kg1n1eXnsuuh"
      },
      "source": [
        "pd.DataFrame(y).info()"
      ],
      "execution_count": null,
      "outputs": []
    },
    {
      "cell_type": "code",
      "metadata": {
        "id": "Dey0Yx9Dy8fK",
        "colab": {
          "base_uri": "https://localhost:8080/",
          "height": 336
        },
        "outputId": "64e59733-f609-482b-d3fe-21ad3e38c66b"
      },
      "source": [
        "xgb_model = xgb.XGBRegressor(learning_rate = 0.1, n_estimators = 1000) #learning_rate=0.01, scale_pos_weight = weight, n_estimators = 100000)\n",
        "#xgb_model.fit(X_train, y_train)\n",
        "xgb_model.fit(X_train, y_train, eval_metric = \"rmse\", eval_set = [(X_train, y_train), (X_test, y_test)], verbose = 100, early_stopping_rounds=10)\n",
        "\n",
        "#joblib.dump(xgb_model, \"drive/My Drive/PyColab Work/xxx/xgb_model.sav\")\n",
        "#confusion_matrix(y_train, xgb_model.predict(X_train))"
      ],
      "execution_count": null,
      "outputs": [
        {
          "output_type": "stream",
          "text": [
            "/usr/local/lib/python3.6/dist-packages/xgboost/core.py:587: FutureWarning: Series.base is deprecated and will be removed in a future version\n",
            "  if getattr(data, 'base', None) is not None and \\\n"
          ],
          "name": "stderr"
        },
        {
          "output_type": "stream",
          "text": [
            "[0]\tvalidation_0-rmse:4.9969\tvalidation_1-rmse:5.00555\n",
            "Multiple eval metrics have been passed: 'validation_1-rmse' will be used for early stopping.\n",
            "\n",
            "Will train until validation_1-rmse hasn't improved in 10 rounds.\n",
            "[100]\tvalidation_0-rmse:0.58887\tvalidation_1-rmse:0.636587\n",
            "[200]\tvalidation_0-rmse:0.560757\tvalidation_1-rmse:0.627417\n",
            "[300]\tvalidation_0-rmse:0.541993\tvalidation_1-rmse:0.621468\n",
            "Stopping. Best iteration:\n",
            "[381]\tvalidation_0-rmse:0.529413\tvalidation_1-rmse:0.617003\n",
            "\n"
          ],
          "name": "stdout"
        },
        {
          "output_type": "execute_result",
          "data": {
            "text/plain": [
              "XGBRegressor(base_score=0.5, booster='gbtree', colsample_bylevel=1,\n",
              "             colsample_bytree=1, gamma=0, importance_type='gain',\n",
              "             learning_rate=0.1, max_delta_step=0, max_depth=3,\n",
              "             min_child_weight=1, missing=None, n_estimators=1000, n_jobs=1,\n",
              "             nthread=None, objective='reg:linear', random_state=0, reg_alpha=0,\n",
              "             reg_lambda=1, scale_pos_weight=1, seed=None, silent=True,\n",
              "             subsample=1)"
            ]
          },
          "metadata": {
            "tags": []
          },
          "execution_count": 21
        }
      ]
    },
    {
      "cell_type": "code",
      "metadata": {
        "id": "PNhNI6Aw2iJa",
        "colab": {
          "base_uri": "https://localhost:8080/",
          "height": 34
        },
        "outputId": "2a6d51c8-4813-49a1-cdc0-4a9a70c0fd9d"
      },
      "source": [
        "1 - np.sqrt(mean_squared_error(y_train, xgb_model.predict(X_train)))"
      ],
      "execution_count": null,
      "outputs": [
        {
          "output_type": "execute_result",
          "data": {
            "text/plain": [
              "0.47058734634836685"
            ]
          },
          "metadata": {
            "tags": []
          },
          "execution_count": 22
        }
      ]
    },
    {
      "cell_type": "code",
      "metadata": {
        "id": "Kit_SVbB2otO",
        "colab": {
          "base_uri": "https://localhost:8080/",
          "height": 34
        },
        "outputId": "603aed8f-4de4-48ce-e5f1-f68ceccf169e"
      },
      "source": [
        "1 - np.sqrt(mean_squared_error(y_test, xgb_model.predict(X_test)))"
      ],
      "execution_count": null,
      "outputs": [
        {
          "output_type": "execute_result",
          "data": {
            "text/plain": [
              "0.38299719184733627"
            ]
          },
          "metadata": {
            "tags": []
          },
          "execution_count": 23
        }
      ]
    },
    {
      "cell_type": "code",
      "metadata": {
        "id": "berHY8Ws2q5w"
      },
      "source": [
        "cross_val_score(xgb_model, X_train, y_train, cv = 5, groups = groups) # Add Fuel Type as well"
      ],
      "execution_count": null,
      "outputs": []
    },
    {
      "cell_type": "code",
      "metadata": {
        "id": "6j2M1Nh008Ei"
      },
      "source": [
        "plt.figure(figsize = (20, 5))\n",
        "sns.barplot(\"feature\", \"imp\", data = pd.DataFrame( {'feature' : X_train.columns, 'imp' : xgb_model.feature_importances_ }).sort_values(\"imp\", ascending = False) )\n",
        "plt.xticks(rotation = 90)\n",
        "plt.show()"
      ],
      "execution_count": null,
      "outputs": []
    },
    {
      "cell_type": "markdown",
      "metadata": {
        "id": "tcqsa8qGz-HH"
      },
      "source": [
        "#### SHAP"
      ]
    },
    {
      "cell_type": "code",
      "metadata": {
        "id": "lkAGzGL6z9vF"
      },
      "source": [
        "explainer = shap.TreeExplainer(xgb_model)\n",
        "\n",
        "nsize = 1000\n",
        "\n",
        "shap_values = explainer.shap_values(X_train.iloc[0:nsize,:])\n",
        "shap.summary_plot(shap_values, X_train.iloc[0:nsize,:])\n",
        "\n",
        "plt.show()"
      ],
      "execution_count": null,
      "outputs": []
    },
    {
      "cell_type": "code",
      "metadata": {
        "id": "Gypbmna9uTil"
      },
      "source": [
        "shap_values = explainer.shap_values(X_test.iloc[0:nsize,:])\n",
        "b = shap.summary_plot(shap_values, X_test.iloc[0:nsize,:])"
      ],
      "execution_count": null,
      "outputs": []
    },
    {
      "cell_type": "markdown",
      "metadata": {
        "id": "zxBRjn_R1tnL"
      },
      "source": [
        "#### Hyperparameter Tuning\n",
        "\n",
        "Draw appropriate graph to understand impact of two hyperparameters.  \n",
        "eg: rounds to maxdepth can give an idea where it overfits."
      ]
    },
    {
      "cell_type": "markdown",
      "metadata": {
        "id": "sf0xtdx_0OM8"
      },
      "source": [
        "##### GridSearchCV"
      ]
    },
    {
      "cell_type": "code",
      "metadata": {
        "id": "mUf0tNJs0N86"
      },
      "source": [
        "cv= RepeatedKFold(2, 2)\n",
        "xgb_engine = xgb.XGBRegressor() #n_estimator not used\n",
        "xgb_params = {'booster' : ['gbtree'],\n",
        "              'max_depth' : [3, 4], \n",
        "              'gamma' : [0], \n",
        "              'learning_rate' : [0.3], \n",
        "              \"n_estimators\" : [100000], \n",
        "              'min_child_weight' : [5, 10], \n",
        "              'subsample' : [1], \n",
        "              'colsample_bytree' : [0.7, 1], \n",
        "              'colsample_bylevel' : [1], \n",
        "              'colsample_bynode' : [1], \n",
        "              'reg_lambda' : [0], \n",
        "              'reg_alpha' : [0]}\n",
        "\n",
        "xgb_grid = GridSearchCV(xgb_engine, xgb_params, cv = cv, n_jobs = 4, verbose = 0, return_train_score  = True)\n",
        "xgb_grid.fit(X_train, y_train, eval_set = [(X_train, y_train)], early_stopping_rounds=10, verbose = 1000)\n",
        "\n",
        "#joblib.dump(xgb_grid, \"F:/Vasim/Python Stuff/Flight/gridxgboost.sav\")\n",
        "\n",
        "#print( np.sqrt( -cross_val_score(xgb_grid.best_estimator_, X_train, y_train, cv = cv, scoring = \"neg_mean_squared_error\") ) )\n",
        "#print( np.sqrt( mean_squared_error(y_test, xgb_grid.predict(X_test)) ) )"
      ],
      "execution_count": null,
      "outputs": []
    },
    {
      "cell_type": "markdown",
      "metadata": {
        "id": "rU9QzdS4Qzgi"
      },
      "source": [
        "##### Skopt"
      ]
    },
    {
      "cell_type": "code",
      "metadata": {
        "id": "XxdS8V-6QyyW"
      },
      "source": [
        "from skopt.space import Integer, Categorical, Real\n",
        "from skopt.utils import use_named_args\n",
        "from skopt import gp_minimize\n",
        "\n",
        "# set up hyperparameter space\n",
        "space = [Integer(3, 50, name='max_depth'),\n",
        "         Integer(8, 200, name='n_estimators'),\n",
        "         Integer(3, 50, name='min_child_weight'),\n",
        "         Real(0.001, 1.0, name='learning_rate')]\n",
        "\n",
        "regressor = xgb.XGBRegressor()\n",
        "\n",
        "from sklearn.model_selection import cross_val_score\n",
        "\n",
        "@use_named_args(space)\n",
        "def objective(**params):\n",
        "    regressor.set_params(**params)\n",
        "    return -np.mean(cross_val_score(regressor, X_train, y_train, cv=5, n_jobs=1, scoring='neg_mean_squared_error'))"
      ],
      "execution_count": null,
      "outputs": []
    },
    {
      "cell_type": "code",
      "metadata": {
        "id": "ZI0edKA0Q2v9"
      },
      "source": [
        "reg_gp = gp_minimize(objective, space, verbose=False)\n",
        "\n",
        "print('best score: {}'.format(reg_gp.fun))\n",
        "\n",
        "print('best params:')\n",
        "print('        max_depth: {}'.format(reg_gp.x[0]))\n",
        "print('     n_estimators: {}'.format(reg_gp.x[1]))\n",
        "print(' min_child_weight: {}'.format(reg_gp.x[2]))\n",
        "print('    learning_rate: {}'.format(reg_gp.x[3]))"
      ],
      "execution_count": null,
      "outputs": []
    },
    {
      "cell_type": "code",
      "metadata": {
        "id": "F-JY6U5rQ4jX"
      },
      "source": [
        "import skopt.plots\n",
        "skopt.plots.plot_convergence(reg_gp)"
      ],
      "execution_count": null,
      "outputs": []
    },
    {
      "cell_type": "code",
      "metadata": {
        "id": "oDO1SkeOQ6Cc"
      },
      "source": [
        "skopt.plots.plot_evaluations(reg_gp, bins = 20)\n",
        "plt.show()"
      ],
      "execution_count": null,
      "outputs": []
    },
    {
      "cell_type": "code",
      "metadata": {
        "id": "U4KPJyRrQ8TC"
      },
      "source": [
        "skopt.plots.plot_objective(reg_gp)\n",
        "plt.show()"
      ],
      "execution_count": null,
      "outputs": []
    },
    {
      "cell_type": "markdown",
      "metadata": {
        "id": "XNj62WgORNi5"
      },
      "source": [
        "##### Hyperopt"
      ]
    },
    {
      "cell_type": "code",
      "metadata": {
        "id": "kFsi83NARPw4"
      },
      "source": [
        ""
      ],
      "execution_count": null,
      "outputs": []
    },
    {
      "cell_type": "markdown",
      "metadata": {
        "id": "RARcaL1Iy88i"
      },
      "source": [
        "### LightGBM\n",
        "Inbuilt Categorical features"
      ]
    },
    {
      "cell_type": "code",
      "metadata": {
        "id": "7B1rRAyVy-_y"
      },
      "source": [
        "lgbm_model = lgb.LGBMRegressor(learning_rate=0.01, n_estimators=100000)\n",
        "lgbm_model.fit(X_train, y_train, eval_set = [(X_test, y_test)], early_stopping_rounds=100, verbose = 1000)"
      ],
      "execution_count": null,
      "outputs": []
    },
    {
      "cell_type": "markdown",
      "metadata": {
        "id": "pgavaNvY0IZm"
      },
      "source": [
        "#### SHAP"
      ]
    },
    {
      "cell_type": "code",
      "metadata": {
        "id": "C7wBWbN90IZn"
      },
      "source": [
        "explainer = shap.TreeExplainer(lgbm_model)\n",
        "\n",
        "nsize = 1000\n",
        "\n",
        "shap_values = explainer.shap_values(X_train.iloc[0:nsize,:])\n",
        "shap.summary_plot(shap_values, X_train.iloc[0:nsize,:])\n",
        "\n",
        "plt.show()"
      ],
      "execution_count": null,
      "outputs": []
    },
    {
      "cell_type": "markdown",
      "metadata": {
        "id": "nTyrMKfY0VG8"
      },
      "source": [
        "#### Hyperparamter Tuning"
      ]
    },
    {
      "cell_type": "code",
      "metadata": {
        "id": "IfEqthrB0VG9"
      },
      "source": [
        "lgbm_engine = lgb.LGBMRegressor()\n",
        "lgbm_params = {'max_depth' : [17], 'learning_rate' : [0.05], 'n_estimators': [100000],  'min_child_samples' : [3], 'num_leaves' : [40], 'min_child_weight' : [0.001], \n",
        "               'min_split_gain' : [0], 'colsample_bytree' : [0.3], 'reg_alpha' : [0], 'reg_lamba' : [0], 'importance_type' : ['split'] }\n",
        "\n",
        "lgbm_grid = GridSearchCV(lgbm_engine, lgbm_params, cv = 4, n_jobs = 4, verbose = 0)\n",
        "lgbm_grid.fit(X_train, y_train, eval_set = [(X_test, y_test)], early_stopping_rounds=100, verbose = 1000)\n",
        "#print( np.sqrt( -cross_val_score(lgbm_grid.best_estimator_, X_train, y_train, cv = 5, scoring = \"neg_mean_squared_error\") ) )\n",
        "#print( np.sqrt( mean_squared_error(y_test, lgbm_grid.predict(X_test)) ) )"
      ],
      "execution_count": null,
      "outputs": []
    },
    {
      "cell_type": "markdown",
      "metadata": {
        "id": "cVcYEsZhy_si"
      },
      "source": [
        "### CatBoost\n",
        "\n",
        "Inbuilt Categorical features  \n",
        "\n",
        "The cat.cv - inbuilt cross validation gives cross validated result on each iterations.   \n",
        "The only hyperparameter we can select from in built cv is no of iteration.  \n",
        "Try sklearn cv type with for loop for cv score or skopt or hyperopt module.  "
      ]
    },
    {
      "cell_type": "code",
      "metadata": {
        "id": "8S5NYLszzAIS"
      },
      "source": [
        "from catboost import CatBoostRegressor, Pool\n",
        "categorical_features_indices = np.where(cat_train.dtypes == 'object')[0]\n",
        "\n",
        "cat_model = CatBoostRegressor(iterations = 100000, learning_rate = 0.01)\n",
        "cat_model.fit(cat_train, y_train, eval_set = (cat_test, y_test), cat_features = categorical_features_indices, plot = True, verbose = 1000, early_stopping_rounds=100)\n",
        "\n",
        "#print( np.sqrt( -cross_val_score(cat_model, X_train, y_train, cv = 5, scoring = \"neg_mean_squared_error\", verbose = False) ) )\n",
        "#np.sqrt(mean_squared_error(y_test, cat_model.predict(X_test)))"
      ],
      "execution_count": null,
      "outputs": []
    },
    {
      "cell_type": "markdown",
      "metadata": {
        "id": "oQWOgbKL0Gji"
      },
      "source": [
        "#### SHAP"
      ]
    },
    {
      "cell_type": "code",
      "metadata": {
        "id": "TjAHY8u-0Gjj"
      },
      "source": [
        "explainer = shap.TreeExplainer(cat_model)\n",
        "\n",
        "nsize = 1000\n",
        "\n",
        "shap_values = explainer.shap_values(X_train.iloc[0:nsize,:])\n",
        "shap.summary_plot(shap_values, X_train.iloc[0:nsize,:])\n",
        "\n",
        "plt.show()"
      ],
      "execution_count": null,
      "outputs": []
    },
    {
      "cell_type": "markdown",
      "metadata": {
        "id": "pLT0C72m0Vjh"
      },
      "source": [
        "#### Hyperparamter Tuning"
      ]
    },
    {
      "cell_type": "code",
      "metadata": {
        "id": "9X3_BBk50Vji"
      },
      "source": [
        "cat_engine = CatBoostRegressor()\n",
        "cat_params = {'max_depth' : [4], 'learning_rate' : [0.1], 'iterations': [100000], 'colsample_bylevel' : [1]}\n",
        "    \n",
        "cat_grid = GridSearchCV(cat_engine, cat_params, cv = 4, n_jobs = 4, verbose = False)\n",
        "cat_grid.fit(cat_train, y_train, eval_set = (cat_val, y_val), cat_features = categorical_features_indices, plot = True, verbose = 1000, early_stopping_rounds=100)"
      ],
      "execution_count": null,
      "outputs": []
    },
    {
      "cell_type": "markdown",
      "metadata": {
        "id": "6sN6540ezFEh"
      },
      "source": [
        "### SVM\n",
        "\n",
        "Apply scaling"
      ]
    },
    {
      "cell_type": "code",
      "metadata": {
        "id": "8q_mgTlJzEqJ"
      },
      "source": [
        "#%%script false\n",
        "\n",
        "from sklearn.svm import SVR\n",
        "from sklearn.preprocessing import StandardScaler, MinMaxScaler\n",
        "\n",
        "#Scaling only on numeric data.\n",
        "svmpipe = Pipeline([ ( \"std\", StandardScaler() ), (\"mimax\", MinMaxScaler()) , ( \"svm\", SVR(gamma = 'scale', kernel = 'rbf', C = 1.5, epsilon = 0.1, max_iter=-1) ) ])\n",
        "svmpipe.fit(X_train, y_train)\n",
        "\n",
        "#np.sqrt( -cross_val_score(svmpipe, X_train.astype(float), y_train.astype(float), cv = 5, scoring = \"neg_mean_squared_error\") )\n",
        "np.sqrt( mean_squared_error(y_test, svmpipe.predict(X_test))) "
      ],
      "execution_count": null,
      "outputs": []
    },
    {
      "cell_type": "markdown",
      "metadata": {
        "id": "FiK9TDZ80JTa"
      },
      "source": [
        "#### SHAP"
      ]
    },
    {
      "cell_type": "code",
      "metadata": {
        "id": "1PEvvBai0JTb"
      },
      "source": [
        ""
      ],
      "execution_count": null,
      "outputs": []
    },
    {
      "cell_type": "markdown",
      "metadata": {
        "id": "0bUKbEY00WjY"
      },
      "source": [
        "#### Hyperparamter Tuning"
      ]
    },
    {
      "cell_type": "code",
      "metadata": {
        "id": "F-Otyq-80WjZ"
      },
      "source": [
        ""
      ],
      "execution_count": null,
      "outputs": []
    },
    {
      "cell_type": "markdown",
      "metadata": {
        "id": "W4S_DeexzHOp"
      },
      "source": [
        "### KNN\n",
        "\n",
        "Apply scaling"
      ]
    },
    {
      "cell_type": "code",
      "metadata": {
        "id": "EVi3EkpIzG7J"
      },
      "source": [
        "from sklearn.neighbors import KNeighborsRegressor\n",
        "from sklearn.preprocessing import StandardScaler, normalize, MinMaxScaler\n",
        "\n",
        "#Scaling on numeric data only\n",
        "neigh = KNeighborsRegressor(n_neighbors=5)\n",
        "knnpipe = Pipeline([ ( \"std\", StandardScaler() ), (\"minmax\", MinMaxScaler() ), ( \"knn\", neigh ) ])\n",
        "\n",
        "#scale data\n",
        "knnpipe.fit(X_train, y_train) \n",
        "print( np.sqrt( -cross_val_score(neigh, X_train, y_train, cv = 5, scoring = \"neg_mean_squared_error\") ) )\n",
        "#np.sqrt(mean_squared_error(y_test, neigh.predict(X_test)))"
      ],
      "execution_count": null,
      "outputs": []
    },
    {
      "cell_type": "markdown",
      "metadata": {
        "id": "-gk4sQqE0J4Q"
      },
      "source": [
        "#### SHAP"
      ]
    },
    {
      "cell_type": "code",
      "metadata": {
        "id": "4stKspHI0J4T"
      },
      "source": [
        ""
      ],
      "execution_count": null,
      "outputs": []
    },
    {
      "cell_type": "markdown",
      "metadata": {
        "id": "zAxVM-R40XKX"
      },
      "source": [
        "#### Hyperparamter Tuning"
      ]
    },
    {
      "cell_type": "code",
      "metadata": {
        "id": "s08daRE-0XKY"
      },
      "source": [
        ""
      ],
      "execution_count": null,
      "outputs": []
    },
    {
      "cell_type": "markdown",
      "metadata": {
        "id": "pvtU9jGszJGQ"
      },
      "source": [
        "### Keras\n",
        "\n",
        "Apply scaling"
      ]
    },
    {
      "cell_type": "code",
      "metadata": {
        "id": "FDS42j5JzI6p"
      },
      "source": [
        "#!pip install tensorboardcolab\n",
        "# Apply scaling\n",
        "\n",
        "from tensorboardcolab import TensorBoardColab, TensorBoardColabCallback\n",
        "from keras.models import Sequential\n",
        "from keras.layers import Dense, Dropout\n",
        "#tbc=TensorBoardColab()\n",
        "\n",
        "model2 = Sequential()\n",
        "model2.add(Dense(200, input_dim=X_train.shape[1], kernel_initializer='normal', activation='relu'))\n",
        "model2.add(Dense(30, kernel_initializer='normal', activation='relu'))\n",
        "model2.add(Dropout(.10))\n",
        "#model.add(Dense(10, kernel_initializer='normal', activation='relu'))\n",
        "#model.add(Dropout(.10))\n",
        "model2.add(Dense(1, kernel_initializer='normal'))\n",
        "\n",
        "model2.compile(loss='mean_squared_error', optimizer='adam')\n",
        "\n",
        "model2.fit(X_train, y_train, epochs = 18, verbose = 0) #callbacks=[TensorBoardColabCallback(tbc)]\n",
        "pd.DataFrame( {\"Actual\" : np.exp(y_test), \"Predict\" : np.exp(model2.predict(X_test)[0:,0])} ).describe()"
      ],
      "execution_count": null,
      "outputs": []
    },
    {
      "cell_type": "markdown",
      "metadata": {
        "id": "GrzRndbU0LVT"
      },
      "source": [
        "#### SHAP"
      ]
    },
    {
      "cell_type": "code",
      "metadata": {
        "id": "rJm320f60LVU"
      },
      "source": [
        ""
      ],
      "execution_count": null,
      "outputs": []
    },
    {
      "cell_type": "markdown",
      "metadata": {
        "id": "AzzWA0wb0Xt2"
      },
      "source": [
        "#### Hyperparamter Tuning"
      ]
    },
    {
      "cell_type": "code",
      "metadata": {
        "id": "dTxCbRg80Xt4"
      },
      "source": [
        ""
      ],
      "execution_count": null,
      "outputs": []
    },
    {
      "cell_type": "markdown",
      "metadata": {
        "id": "EZEQP33kzN7Y"
      },
      "source": [
        "### Linear\n",
        "\n",
        "inludes - Logistic  \n",
        "Panelty - Ridge, Lasso and ElasticNet  \n"
      ]
    },
    {
      "cell_type": "code",
      "metadata": {
        "id": "K1ROVFVuzNrh"
      },
      "source": [
        ""
      ],
      "execution_count": null,
      "outputs": []
    },
    {
      "cell_type": "markdown",
      "metadata": {
        "id": "IW29Sc0R0LFQ"
      },
      "source": [
        "#### SHAP"
      ]
    },
    {
      "cell_type": "code",
      "metadata": {
        "id": "Ot0Fme0_0LFR"
      },
      "source": [
        ""
      ],
      "execution_count": null,
      "outputs": []
    },
    {
      "cell_type": "markdown",
      "metadata": {
        "id": "yyUOr-dt0YkB"
      },
      "source": [
        "#### Hyperparamter Tuning"
      ]
    },
    {
      "cell_type": "code",
      "metadata": {
        "id": "8jP8Ft880YkC"
      },
      "source": [
        ""
      ],
      "execution_count": null,
      "outputs": []
    },
    {
      "cell_type": "markdown",
      "metadata": {
        "id": "0Q1tsQyYzTYS"
      },
      "source": [
        "## Stacking"
      ]
    },
    {
      "cell_type": "code",
      "metadata": {
        "id": "p_XTtKjLzTMB"
      },
      "source": [
        "#mlextend"
      ],
      "execution_count": null,
      "outputs": []
    }
  ]
}