{
  "nbformat": 4,
  "nbformat_minor": 0,
  "metadata": {
    "colab": {
      "name": "DHVL V0.1.ipynb",
      "version": "0.3.2",
      "provenance": [],
      "collapsed_sections": []
    },
    "kernelspec": {
      "name": "python3",
      "display_name": "Python 3"
    },
    "accelerator": "GPU"
  },
  "cells": [
    {
      "metadata": {
        "id": "1LsCJ6Zu7-TB",
        "colab_type": "text"
      },
      "cell_type": "markdown",
      "source": [
        "## About Company\n",
        "Dream Housing Finance company deals in all home loans. They have presence across all urban, semi urban and rural areas.   \n",
        "Customer first apply for home loan after that company validates the customer eligibility for loan.\n"
      ]
    },
    {
      "metadata": {
        "id": "Jh68JN6x6zVK",
        "colab_type": "text"
      },
      "cell_type": "markdown",
      "source": [
        "## Problem Statement\n",
        "\n",
        "Company wants to automate the loan eligibility process (real time) based on customer detail provided while filling online application form. These details are Gender, Marital Status, Education, Number of Dependents, Income, Loan Amount, Credit History and others. To automate this process, they have given a problem to identify the customers segments, those are eligible for loan amount so that they can specifically target these customers. Here they have provided a partial data set.\n"
      ]
    },
    {
      "metadata": {
        "id": "rbRLyAERZxTK",
        "colab_type": "code",
        "colab": {}
      },
      "cell_type": "code",
      "source": [
        "import pandas as pd\n",
        "import numpy as np\n",
        "import matplotlib.pyplot as plt\n",
        "import matplotlib.ticker as mtick\n",
        "import seaborn as sns\n",
        "\n",
        "import warnings\n",
        "warnings.filterwarnings(\"ignore\", category=DeprecationWarning)\n",
        "%matplotlib inline"
      ],
      "execution_count": 0,
      "outputs": []
    },
    {
      "metadata": {
        "id": "alKPreHUcOdc",
        "colab_type": "code",
        "colab": {}
      },
      "cell_type": "code",
      "source": [
        "from sklearn.model_selection import train_test_split\n",
        "from sklearn.model_selection import cross_val_score\n",
        "from sklearn.metrics import accuracy_score\n",
        "from sklearn.preprocessing import LabelEncoder\n",
        "\n",
        "from sklearn.ensemble import GradientBoostingClassifier\n",
        "from sklearn.ensemble import RandomForestClassifier\n",
        "from sklearn.model_selection import GridSearchCV, RepeatedStratifiedKFold\n",
        "\n",
        "import xgboost as xgb\n",
        "from xgboost import XGBClassifier"
      ],
      "execution_count": 0,
      "outputs": []
    },
    {
      "metadata": {
        "id": "6NLR_HMHZ9yy",
        "colab_type": "code",
        "outputId": "db3c9906-8a98-4b13-b752-990e2b5d425c",
        "colab": {
          "base_uri": "https://localhost:8080/",
          "height": 54
        }
      },
      "cell_type": "code",
      "source": [
        "# Model have being trained on Google Colab\n",
        "from google.colab import drive\n",
        "drive.mount('/content/drive')"
      ],
      "execution_count": 3,
      "outputs": [
        {
          "output_type": "stream",
          "text": [
            "Drive already mounted at /content/drive; to attempt to forcibly remount, call drive.mount(\"/content/drive\", force_remount=True).\n"
          ],
          "name": "stdout"
        }
      ]
    },
    {
      "metadata": {
        "id": "AYl9u_whdC18",
        "colab_type": "text"
      },
      "cell_type": "markdown",
      "source": [
        "## Read files\n",
        "\n",
        "We have two csv file, a train set and a submission set."
      ]
    },
    {
      "metadata": {
        "id": "aKt-N63QbZlg",
        "colab_type": "code",
        "colab": {}
      },
      "cell_type": "code",
      "source": [
        "df_train = pd.read_csv('drive/My Drive/Tech Mahindra/Loan Train.csv')\n",
        "df_test = pd.read_csv('drive/My Drive/Tech Mahindra/Loan Test.csv')\n",
        "df_test_copy = df_test.copy()"
      ],
      "execution_count": 0,
      "outputs": []
    },
    {
      "metadata": {
        "id": "js0-o7c17qo7",
        "colab_type": "code",
        "outputId": "3d81137b-88e5-4a4d-fa17-3e5685a6b920",
        "colab": {
          "base_uri": "https://localhost:8080/",
          "height": 397
        }
      },
      "cell_type": "code",
      "source": [
        "df_train.head(n = 10)"
      ],
      "execution_count": 5,
      "outputs": [
        {
          "output_type": "execute_result",
          "data": {
            "text/html": [
              "<div>\n",
              "<style scoped>\n",
              "    .dataframe tbody tr th:only-of-type {\n",
              "        vertical-align: middle;\n",
              "    }\n",
              "\n",
              "    .dataframe tbody tr th {\n",
              "        vertical-align: top;\n",
              "    }\n",
              "\n",
              "    .dataframe thead th {\n",
              "        text-align: right;\n",
              "    }\n",
              "</style>\n",
              "<table border=\"1\" class=\"dataframe\">\n",
              "  <thead>\n",
              "    <tr style=\"text-align: right;\">\n",
              "      <th></th>\n",
              "      <th>Loan_ID</th>\n",
              "      <th>Gender</th>\n",
              "      <th>Married</th>\n",
              "      <th>Dependents</th>\n",
              "      <th>Education</th>\n",
              "      <th>Self_Employed</th>\n",
              "      <th>ApplicantIncome</th>\n",
              "      <th>CoapplicantIncome</th>\n",
              "      <th>LoanAmount</th>\n",
              "      <th>Loan_Amount_Term</th>\n",
              "      <th>Credit_History</th>\n",
              "      <th>Property_Area</th>\n",
              "      <th>Loan_Status</th>\n",
              "    </tr>\n",
              "  </thead>\n",
              "  <tbody>\n",
              "    <tr>\n",
              "      <th>0</th>\n",
              "      <td>LP001002</td>\n",
              "      <td>Male</td>\n",
              "      <td>No</td>\n",
              "      <td>0</td>\n",
              "      <td>Graduate</td>\n",
              "      <td>No</td>\n",
              "      <td>5849</td>\n",
              "      <td>0.0</td>\n",
              "      <td>NaN</td>\n",
              "      <td>360.0</td>\n",
              "      <td>1.0</td>\n",
              "      <td>Urban</td>\n",
              "      <td>Y</td>\n",
              "    </tr>\n",
              "    <tr>\n",
              "      <th>1</th>\n",
              "      <td>LP001003</td>\n",
              "      <td>Male</td>\n",
              "      <td>Yes</td>\n",
              "      <td>1</td>\n",
              "      <td>Graduate</td>\n",
              "      <td>No</td>\n",
              "      <td>4583</td>\n",
              "      <td>1508.0</td>\n",
              "      <td>128.0</td>\n",
              "      <td>360.0</td>\n",
              "      <td>1.0</td>\n",
              "      <td>Rural</td>\n",
              "      <td>N</td>\n",
              "    </tr>\n",
              "    <tr>\n",
              "      <th>2</th>\n",
              "      <td>LP001005</td>\n",
              "      <td>Male</td>\n",
              "      <td>Yes</td>\n",
              "      <td>0</td>\n",
              "      <td>Graduate</td>\n",
              "      <td>Yes</td>\n",
              "      <td>3000</td>\n",
              "      <td>0.0</td>\n",
              "      <td>66.0</td>\n",
              "      <td>360.0</td>\n",
              "      <td>1.0</td>\n",
              "      <td>Urban</td>\n",
              "      <td>Y</td>\n",
              "    </tr>\n",
              "    <tr>\n",
              "      <th>3</th>\n",
              "      <td>LP001006</td>\n",
              "      <td>Male</td>\n",
              "      <td>Yes</td>\n",
              "      <td>0</td>\n",
              "      <td>Not Graduate</td>\n",
              "      <td>No</td>\n",
              "      <td>2583</td>\n",
              "      <td>2358.0</td>\n",
              "      <td>120.0</td>\n",
              "      <td>360.0</td>\n",
              "      <td>1.0</td>\n",
              "      <td>Urban</td>\n",
              "      <td>Y</td>\n",
              "    </tr>\n",
              "    <tr>\n",
              "      <th>4</th>\n",
              "      <td>LP001008</td>\n",
              "      <td>Male</td>\n",
              "      <td>No</td>\n",
              "      <td>0</td>\n",
              "      <td>Graduate</td>\n",
              "      <td>No</td>\n",
              "      <td>6000</td>\n",
              "      <td>0.0</td>\n",
              "      <td>141.0</td>\n",
              "      <td>360.0</td>\n",
              "      <td>1.0</td>\n",
              "      <td>Urban</td>\n",
              "      <td>Y</td>\n",
              "    </tr>\n",
              "    <tr>\n",
              "      <th>5</th>\n",
              "      <td>LP001011</td>\n",
              "      <td>Male</td>\n",
              "      <td>Yes</td>\n",
              "      <td>2</td>\n",
              "      <td>Graduate</td>\n",
              "      <td>Yes</td>\n",
              "      <td>5417</td>\n",
              "      <td>4196.0</td>\n",
              "      <td>267.0</td>\n",
              "      <td>360.0</td>\n",
              "      <td>1.0</td>\n",
              "      <td>Urban</td>\n",
              "      <td>Y</td>\n",
              "    </tr>\n",
              "    <tr>\n",
              "      <th>6</th>\n",
              "      <td>LP001013</td>\n",
              "      <td>Male</td>\n",
              "      <td>Yes</td>\n",
              "      <td>0</td>\n",
              "      <td>Not Graduate</td>\n",
              "      <td>No</td>\n",
              "      <td>2333</td>\n",
              "      <td>1516.0</td>\n",
              "      <td>95.0</td>\n",
              "      <td>360.0</td>\n",
              "      <td>1.0</td>\n",
              "      <td>Urban</td>\n",
              "      <td>Y</td>\n",
              "    </tr>\n",
              "    <tr>\n",
              "      <th>7</th>\n",
              "      <td>LP001014</td>\n",
              "      <td>Male</td>\n",
              "      <td>Yes</td>\n",
              "      <td>3+</td>\n",
              "      <td>Graduate</td>\n",
              "      <td>No</td>\n",
              "      <td>3036</td>\n",
              "      <td>2504.0</td>\n",
              "      <td>158.0</td>\n",
              "      <td>360.0</td>\n",
              "      <td>0.0</td>\n",
              "      <td>Semiurban</td>\n",
              "      <td>N</td>\n",
              "    </tr>\n",
              "    <tr>\n",
              "      <th>8</th>\n",
              "      <td>LP001018</td>\n",
              "      <td>Male</td>\n",
              "      <td>Yes</td>\n",
              "      <td>2</td>\n",
              "      <td>Graduate</td>\n",
              "      <td>No</td>\n",
              "      <td>4006</td>\n",
              "      <td>1526.0</td>\n",
              "      <td>168.0</td>\n",
              "      <td>360.0</td>\n",
              "      <td>1.0</td>\n",
              "      <td>Urban</td>\n",
              "      <td>Y</td>\n",
              "    </tr>\n",
              "    <tr>\n",
              "      <th>9</th>\n",
              "      <td>LP001020</td>\n",
              "      <td>Male</td>\n",
              "      <td>Yes</td>\n",
              "      <td>1</td>\n",
              "      <td>Graduate</td>\n",
              "      <td>No</td>\n",
              "      <td>12841</td>\n",
              "      <td>10968.0</td>\n",
              "      <td>349.0</td>\n",
              "      <td>360.0</td>\n",
              "      <td>1.0</td>\n",
              "      <td>Semiurban</td>\n",
              "      <td>N</td>\n",
              "    </tr>\n",
              "  </tbody>\n",
              "</table>\n",
              "</div>"
            ],
            "text/plain": [
              "    Loan_ID Gender Married Dependents     Education Self_Employed  \\\n",
              "0  LP001002   Male      No          0      Graduate            No   \n",
              "1  LP001003   Male     Yes          1      Graduate            No   \n",
              "2  LP001005   Male     Yes          0      Graduate           Yes   \n",
              "3  LP001006   Male     Yes          0  Not Graduate            No   \n",
              "4  LP001008   Male      No          0      Graduate            No   \n",
              "5  LP001011   Male     Yes          2      Graduate           Yes   \n",
              "6  LP001013   Male     Yes          0  Not Graduate            No   \n",
              "7  LP001014   Male     Yes         3+      Graduate            No   \n",
              "8  LP001018   Male     Yes          2      Graduate            No   \n",
              "9  LP001020   Male     Yes          1      Graduate            No   \n",
              "\n",
              "   ApplicantIncome  CoapplicantIncome  LoanAmount  Loan_Amount_Term  \\\n",
              "0             5849                0.0         NaN             360.0   \n",
              "1             4583             1508.0       128.0             360.0   \n",
              "2             3000                0.0        66.0             360.0   \n",
              "3             2583             2358.0       120.0             360.0   \n",
              "4             6000                0.0       141.0             360.0   \n",
              "5             5417             4196.0       267.0             360.0   \n",
              "6             2333             1516.0        95.0             360.0   \n",
              "7             3036             2504.0       158.0             360.0   \n",
              "8             4006             1526.0       168.0             360.0   \n",
              "9            12841            10968.0       349.0             360.0   \n",
              "\n",
              "   Credit_History Property_Area Loan_Status  \n",
              "0             1.0         Urban           Y  \n",
              "1             1.0         Rural           N  \n",
              "2             1.0         Urban           Y  \n",
              "3             1.0         Urban           Y  \n",
              "4             1.0         Urban           Y  \n",
              "5             1.0         Urban           Y  \n",
              "6             1.0         Urban           Y  \n",
              "7             0.0     Semiurban           N  \n",
              "8             1.0         Urban           Y  \n",
              "9             1.0     Semiurban           N  "
            ]
          },
          "metadata": {
            "tags": []
          },
          "execution_count": 5
        }
      ]
    },
    {
      "metadata": {
        "id": "zPR1F9rV9F1i",
        "colab_type": "text"
      },
      "cell_type": "markdown",
      "source": [
        "## Exploratory Data Analysis"
      ]
    },
    {
      "metadata": {
        "id": "wvj1DUZ29U_y",
        "colab_type": "text"
      },
      "cell_type": "markdown",
      "source": [
        "### Class imbalanced\n",
        "\n",
        "Loan_Status has 70% positive and 30% negative cases. Although this are imbalanced, they cannot be termed as highly imbalanced class.  "
      ]
    },
    {
      "metadata": {
        "id": "V6r9wqze9I31",
        "colab_type": "code",
        "outputId": "0db2b3e7-8ce4-490f-8f2f-ea9059ad37de",
        "colab": {
          "base_uri": "https://localhost:8080/",
          "height": 263
        }
      },
      "cell_type": "code",
      "source": [
        "df_train['Loan_Status'].value_counts(normalize=True).plot.bar().yaxis.set_major_formatter(mtick.PercentFormatter(1.0))\n",
        "\n",
        "#sns.barplot(df_train['Loan_Status'])"
      ],
      "execution_count": 6,
      "outputs": [
        {
          "output_type": "display_data",
          "data": {
            "image/png": "[encoded data removed]",
            "text/plain": [
              "<Figure size 432x288 with 1 Axes>"
            ]
          },
          "metadata": {
            "tags": []
          }
        }
      ]
    },
    {
      "metadata": {
        "id": "1zDHXamjPqUN",
        "colab_type": "text"
      },
      "cell_type": "markdown",
      "source": [
        "### Outlier\n",
        "\n",
        "From the below plots, we notice that Applicant Income and Co-applicant Income has some outliers.   \n",
        "In few application, despite having high incomes their loan were rejected.\n",
        "\n",
        "We can either remove them considering mistakes or transform them to remove their effect on statistics."
      ]
    },
    {
      "metadata": {
        "id": "E4cqJ2QcMC0T",
        "colab_type": "code",
        "outputId": "2b756dd8-cf74-4966-dad7-21c19b32faae",
        "colab": {
          "base_uri": "https://localhost:8080/",
          "height": 330
        }
      },
      "cell_type": "code",
      "source": [
        "plt.figure(figsize=(20, 4))\n",
        "\n",
        "plt.subplot(1,3,1)\n",
        "sns.boxplot(x = df_train[\"ApplicantIncome\"], y = df_train[\"Loan_Status\"])\n",
        "plt.subplot(1,3,2)\n",
        "sns.boxplot(x = df_train[\"CoapplicantIncome\"], y = df_train[\"Loan_Status\"])\n",
        "plt.subplot(1,3,3)\n",
        "sns.boxplot(x = (df_train[\"ApplicantIncome\"] + df_train[\"CoapplicantIncome\"]), y = df_train[\"Loan_Status\"]).set(xlabel='Combined Income')"
      ],
      "execution_count": 7,
      "outputs": [
        {
          "output_type": "stream",
          "text": [
            "/usr/local/lib/python3.6/dist-packages/seaborn/categorical.py:454: FutureWarning: remove_na is deprecated and is a private function. Do not use.\n",
            "  box_data = remove_na(group_data)\n"
          ],
          "name": "stderr"
        },
        {
          "output_type": "execute_result",
          "data": {
            "text/plain": [
              "[Text(0.5, 0, 'Combined Income')]"
            ]
          },
          "metadata": {
            "tags": []
          },
          "execution_count": 7
        },
        {
          "output_type": "display_data",
          "data": {
            "image/png": "[encoded data removed]",
            "text/plain": [
              "<Figure size 1440x288 with 3 Axes>"
            ]
          },
          "metadata": {
            "tags": []
          }
        }
      ]
    },
    {
      "metadata": {
        "id": "B4NIYzvFOBCt",
        "colab_type": "code",
        "outputId": "af6e9dbd-b03d-4bff-a58d-74fea9073d7a",
        "colab": {
          "base_uri": "https://localhost:8080/",
          "height": 330
        }
      },
      "cell_type": "code",
      "source": [
        "sns.boxplot(x = df_train[\"LoanAmount\"], y = df_train[\"Loan_Status\"])\n",
        "\n",
        "#sns.heatmap(x = df_train[\"Property_Area\"], y = df_train[\"Loan_Status\"], data = df_train)\n"
      ],
      "execution_count": 8,
      "outputs": [
        {
          "output_type": "stream",
          "text": [
            "/usr/local/lib/python3.6/dist-packages/seaborn/categorical.py:454: FutureWarning: remove_na is deprecated and is a private function. Do not use.\n",
            "  box_data = remove_na(group_data)\n"
          ],
          "name": "stderr"
        },
        {
          "output_type": "execute_result",
          "data": {
            "text/plain": [
              "<matplotlib.axes._subplots.AxesSubplot at 0x7fdbac88ecc0>"
            ]
          },
          "metadata": {
            "tags": []
          },
          "execution_count": 8
        },
        {
          "output_type": "display_data",
          "data": {
            "image/png": "[encoded data removed]",
            "text/plain": [
              "<Figure size 432x288 with 1 Axes>"
            ]
          },
          "metadata": {
            "tags": []
          }
        }
      ]
    },
    {
      "metadata": {
        "id": "59isYPslHvoM",
        "colab_type": "text"
      },
      "cell_type": "markdown",
      "source": [
        "### Feature Engineering\n",
        "\n",
        "Income - The applicant and co-applicant are two different people. But since the loan is issued as a combined entity. Both these varaibles can be summed up.\n",
        "\n",
        "EMI - The installment paid by applicant. This may help us to detect cases with high EMI but low Income. \n",
        "We assume interest is 8.65% for male and 8.6% for female."
      ]
    },
    {
      "metadata": {
        "id": "8uuMy45gHynR",
        "colab_type": "code",
        "colab": {}
      },
      "cell_type": "code",
      "source": [
        "# Loan Amount * Interest rate * (1 + int rate) ^ Period/(( 1 + r)) ^ Period - 1\n",
        "#P*r*(1 + r)**n/((1 + r)**n - 1)\n",
        "mr = 8.65/(12*100)\n",
        "fr = 8.6/(12*100)\n",
        "\n",
        "#mr = df_train[\"LoanAmount\"] * 1000 * r * (1 + mr) ** df_train[\"Loan_Amount_Term\"]/(( 1 + mr)) ** df_train[\"Loan_Amount_Term\"] -1\n",
        "#fmr = df_train[\"LoanAmount\"] * 1000 * r * (1 + fr) ** df_train[\"Loan_Amount_Term\"]/(( 1 + fr)) ** df_train[\"Loan_Amount_Term\"] -1\n",
        "\n",
        "df_train['EMI'] = np.where(df_train['Gender']=='Male', df_train[\"LoanAmount\"] * 1000 * mr * (1 + mr) ** df_train[\"Loan_Amount_Term\"]/(( 1 + mr)) ** df_train[\"Loan_Amount_Term\"] -1, df_train[\"LoanAmount\"] * 1000 * fr * (1 + fr) ** df_train[\"Loan_Amount_Term\"]/(( 1 + fr)) ** df_train[\"Loan_Amount_Term\"] -1)\n",
        "df_test['EMI'] = np.where(df_test['Gender']=='Male', df_test[\"LoanAmount\"] * 1000 * mr * (1 + mr) ** df_test[\"Loan_Amount_Term\"]/(( 1 + mr)) ** df_test[\"Loan_Amount_Term\"] -1, df_test[\"LoanAmount\"] * 1000 * fr * (1 + fr) ** df_test[\"Loan_Amount_Term\"]/(( 1 + fr)) ** df_test[\"Loan_Amount_Term\"] -1)\n",
        "#df_train[\"EMI\"] = (df_train[\"LoanAmount\"] * 1000) * r * (1 + r) ** df_train[\"Loan_Amount_Term\"]/(( 1 + r)) ** df_train[\"Loan_Amount_Term\"] -1\n",
        "#df_test[\"EMI\"] = (df_test[\"LoanAmount\"] * 1000) * r * (1 + r) ** df_test[\"Loan_Amount_Term\"]/(( 1 + r)) ** df_test[\"Loan_Amount_Term\"] -1\n",
        "\n",
        "df_train[\"Income\"] = df_train[\"ApplicantIncome\"] + df_train[\"CoapplicantIncome\"]\n",
        "df_test[\"Income\"] = df_test[\"ApplicantIncome\"] + df_test[\"CoapplicantIncome\"]\n",
        "df_train.drop([\"CoapplicantIncome\", \"ApplicantIncome\"], axis = 1, inplace = True)\n",
        "df_test.drop([\"CoapplicantIncome\", \"ApplicantIncome\"], axis = 1, inplace = True)"
      ],
      "execution_count": 0,
      "outputs": []
    },
    {
      "metadata": {
        "id": "xUBvmcTiqWjK",
        "colab_type": "text"
      },
      "cell_type": "markdown",
      "source": [
        "Dependent column has 3+, because of which it is termed as a string variable. Lets convert all 3+ values to 4. In a real world, we cap number of childern to four."
      ]
    },
    {
      "metadata": {
        "id": "9ykMatCWpdE_",
        "colab_type": "code",
        "colab": {}
      },
      "cell_type": "code",
      "source": [
        "df_train[\"Dependents\"] = df_train[\"Dependents\"].replace(\"3+\",  4)\n",
        "df_train[\"Dependents\"] = pd.to_numeric(df_train[\"Dependents\"])\n",
        "\n",
        "df_test[\"Dependents\"] = df_test[\"Dependents\"].replace(\"3+\",  4)\n",
        "df_test[\"Dependents\"] = pd.to_numeric(df_test[\"Dependents\"])"
      ],
      "execution_count": 0,
      "outputs": []
    },
    {
      "metadata": {
        "id": "_86VsD3S89tS",
        "colab_type": "text"
      },
      "cell_type": "markdown",
      "source": [
        "### Missing Value\n",
        "\n",
        "Now that we have our new features as well, lets impute missing values.  \n",
        "Categorical variables with missing data -  Gender, Married, Dependents, Self_employed and Credit_history  \n",
        "Numerical variable with missing data - LoanAmount and Loan_Amount_Term  \n",
        "\n",
        "Credit_History (8.14%) - is the maximum missing variable in the dataset"
      ]
    },
    {
      "metadata": {
        "id": "-P45E43d8_0t",
        "colab_type": "code",
        "outputId": "2e493fac-919a-4e8c-e6a7-17e2387b86bf",
        "colab": {
          "base_uri": "https://localhost:8080/",
          "height": 252
        }
      },
      "cell_type": "code",
      "source": [
        "df_train.isnull().sum() * 100 / len(df_train)"
      ],
      "execution_count": 11,
      "outputs": [
        {
          "output_type": "execute_result",
          "data": {
            "text/plain": [
              "Loan_ID             0.000000\n",
              "Gender              2.117264\n",
              "Married             0.488599\n",
              "Dependents          2.442997\n",
              "Education           0.000000\n",
              "Self_Employed       5.211726\n",
              "LoanAmount          3.583062\n",
              "Loan_Amount_Term    2.280130\n",
              "Credit_History      8.143322\n",
              "Property_Area       0.000000\n",
              "Loan_Status         0.000000\n",
              "EMI                 5.863192\n",
              "Income              0.000000\n",
              "dtype: float64"
            ]
          },
          "metadata": {
            "tags": []
          },
          "execution_count": 11
        }
      ]
    },
    {
      "metadata": {
        "id": "nNkdoKwv_7NS",
        "colab_type": "text"
      },
      "cell_type": "markdown",
      "source": [
        "Impute missing value  \n",
        "For categorical data we will impute 'Mode' - the maximum occurred category.  \n",
        "For numerical we simly will use mean.\n",
        "Note: Since objective is prediction and not interpretation, we plan to use decision trees for modelling; they have no assumption."
      ]
    },
    {
      "metadata": {
        "id": "Ls8T92lhAjya",
        "colab_type": "code",
        "outputId": "b6dbf385-8665-4422-c2b2-bea9864426f3",
        "colab": {
          "base_uri": "https://localhost:8080/",
          "height": 562
        }
      },
      "cell_type": "code",
      "source": [
        "#https://stackoverflow.com/questions/22483588/how-can-i-plot-separate-pandas-dataframes-as-subplots\n",
        "plt.figure(figsize=(20, 4))\n",
        "\n",
        "plt.subplot(1, 3, 1)\n",
        "df_train[\"LoanAmount\"].hist(bins = 30)\n",
        "plt.subplot(1, 3, 2)\n",
        "df_train[\"Loan_Amount_Term\"].hist(bins = 30)\n",
        "#plt.subplot(1, 3, 3)\n",
        "pd.DataFrame(np.log(df_train[\"LoanAmount\"])).hist(bins = 30)"
      ],
      "execution_count": 12,
      "outputs": [
        {
          "output_type": "execute_result",
          "data": {
            "text/plain": [
              "array([[<matplotlib.axes._subplots.AxesSubplot object at 0x7fdba8b66cf8>]],\n",
              "      dtype=object)"
            ]
          },
          "metadata": {
            "tags": []
          },
          "execution_count": 12
        },
        {
          "output_type": "display_data",
          "data": {
            "image/png": "[encoded data removed]",
            "text/plain": [
              "<Figure size 1440x288 with 2 Axes>"
            ]
          },
          "metadata": {
            "tags": []
          }
        },
        {
          "output_type": "display_data",
          "data": {
            "image/png": "[encoded data removed]",
            "text/plain": [
              "<Figure size 432x288 with 1 Axes>"
            ]
          },
          "metadata": {
            "tags": []
          }
        }
      ]
    },
    {
      "metadata": {
        "id": "UvI2X_DcBJdC",
        "colab_type": "text"
      },
      "cell_type": "markdown",
      "source": [
        "From above plots we confirm that Loan Amount variable is skwed and hence need log transformation for a normal distribution.  \n",
        "\n",
        "Although Loan Amount Term is a numerical variable, a lot of people prefer 360 (30 year) loan period.  \n",
        "As such, instead of mean/median, we will use mode imputation."
      ]
    },
    {
      "metadata": {
        "id": "5YVtuRdcbBup",
        "colab_type": "code",
        "colab": {}
      },
      "cell_type": "code",
      "source": [
        "# We need this information to be imputed in test set and submission set as well.\n",
        "GenderMode = df_train['Gender'].mode()[0]\n",
        "MarriedMode = df_train['Married'].mode()[0]\n",
        "DependentsMode = df_train['Dependents'].mode()[0]\n",
        "SelfEmployedMode = df_train['Self_Employed'].mode()[0]\n",
        "CreditHistoryMode = df_train['Credit_History'].mode()[0]\n",
        "LoanTermMode = df_train['Loan_Amount_Term'].mode()[0]\n",
        "LoanAmountMean = df_train['LoanAmount'].mean()\n",
        "EMIMean = df_train['EMI'].mean()"
      ],
      "execution_count": 0,
      "outputs": []
    },
    {
      "metadata": {
        "id": "yONA-JuIEL_K",
        "colab_type": "code",
        "colab": {}
      },
      "cell_type": "code",
      "source": [
        "df_train['Gender'].fillna(GenderMode, inplace=True)\n",
        "df_train['Married'].fillna(MarriedMode, inplace=True)\n",
        "df_train['Dependents'].fillna(DependentsMode, inplace=True)\n",
        "df_train['Self_Employed'].fillna(SelfEmployedMode, inplace=True)\n",
        "df_train['Credit_History'].fillna(CreditHistoryMode, inplace=True)\n",
        "df_train['Loan_Amount_Term'].fillna(LoanTermMode, inplace=True)\n",
        "\n",
        "df_train['LoanAmount'].fillna(LoanAmountMean, inplace=True)\n",
        "df_train['EMI'].fillna(EMIMean, inplace=True)\n",
        "\n",
        "# Test set\n",
        "df_test['Gender'].fillna(GenderMode, inplace=True)\n",
        "df_test['Married'].fillna(MarriedMode, inplace=True)\n",
        "df_test['Dependents'].fillna(DependentsMode, inplace=True)\n",
        "df_test['Self_Employed'].fillna(SelfEmployedMode, inplace=True)\n",
        "df_test['Credit_History'].fillna(CreditHistoryMode, inplace=True)\n",
        "df_test['Loan_Amount_Term'].fillna(LoanTermMode, inplace=True)\n",
        "\n",
        "df_test['LoanAmount'].fillna(LoanAmountMean, inplace=True)\n",
        "df_test['EMI'].fillna(EMIMean, inplace=True)"
      ],
      "execution_count": 0,
      "outputs": []
    },
    {
      "metadata": {
        "id": "KoudO3jzsdqq",
        "colab_type": "code",
        "colab": {}
      },
      "cell_type": "code",
      "source": [
        "# This feature engineering is here, since it is calculated after imputing missing values\n",
        "df_train[\"incomeToLoan\"] = df_train[\"Income\"]/df_train[\"LoanAmount\"]\n",
        "df_test[\"incomeToLoan\"] = df_test[\"Income\"]/df_test[\"LoanAmount\"]"
      ],
      "execution_count": 0,
      "outputs": []
    },
    {
      "metadata": {
        "id": "BQ2t8PZ8S9A_",
        "colab_type": "text"
      },
      "cell_type": "markdown",
      "source": [
        "## Manage Outlier\n",
        "We remember that Applicant Income and Co-applicant income had a few outliers which can be either removed or transformed.\n",
        "\n",
        "From below plots, we can confirm that upon transformation even though the outliers are not completely removed but their effects are controlled."
      ]
    },
    {
      "metadata": {
        "id": "bAmS2TbITnFI",
        "colab_type": "code",
        "outputId": "e0f566e6-77f4-4aaf-f761-928e71e72886",
        "colab": {
          "base_uri": "https://localhost:8080/",
          "height": 327
        }
      },
      "cell_type": "code",
      "source": [
        "plt.figure(figsize=(20, 4))\n",
        "\n",
        "plt.subplot(1, 2, 1)\n",
        "sns.boxplot(df_train[\"Income\"], df_train[\"Loan_Status\"]).set_title('Before Log Transformation')\n",
        "\n",
        "plt.subplot(1, 2, 2)\n",
        "sns.boxplot(np.log(df_train[\"Income\"]), df_train[\"Loan_Status\"]).set_title('After Log Transformation')\n",
        "\n",
        "df_train[\"Income\"] = np.log(df_train[\"Income\"])\n",
        "df_test[\"Income\"] = np.log(df_test[\"Income\"])\n",
        "plt.show()"
      ],
      "execution_count": 16,
      "outputs": [
        {
          "output_type": "stream",
          "text": [
            "/usr/local/lib/python3.6/dist-packages/seaborn/categorical.py:454: FutureWarning: remove_na is deprecated and is a private function. Do not use.\n",
            "  box_data = remove_na(group_data)\n"
          ],
          "name": "stderr"
        },
        {
          "output_type": "display_data",
          "data": {
            "image/png": "[encoded data removed]",
            "text/plain": [
              "<Figure size 1440x288 with 2 Axes>"
            ]
          },
          "metadata": {
            "tags": []
          }
        }
      ]
    },
    {
      "metadata": {
        "id": "uumKtWqTLgum",
        "colab_type": "text"
      },
      "cell_type": "markdown",
      "source": [
        "## Convert text to label\n",
        "\n",
        "Scikit-learn needs all numeric variables. Hence lets convert all categories to numerical (nominal) values."
      ]
    },
    {
      "metadata": {
        "id": "7sOZ19HBmgbn",
        "colab_type": "code",
        "colab": {}
      },
      "cell_type": "code",
      "source": [
        "le = LabelEncoder()\n",
        "df_train[\"Gender\"] = le.fit_transform(df_train[\"Gender\"])\n",
        "df_train[\"Education\"] = le.fit_transform(df_train[\"Education\"])\n",
        "df_train[\"Property_Area\"] = le.fit_transform(df_train[\"Property_Area\"])\n",
        "df_train[\"Married\"] = le.fit_transform(df_train[\"Married\"])\n",
        "df_train[\"Self_Employed\"] = le.fit_transform(df_train[\"Self_Employed\"])\n",
        "\n",
        "df_test[\"Gender\"] = le.fit_transform(df_test[\"Gender\"])\n",
        "df_test[\"Education\"] = le.fit_transform(df_test[\"Education\"])\n",
        "df_test[\"Property_Area\"] = le.fit_transform(df_test[\"Property_Area\"])\n",
        "df_test[\"Married\"] = le.fit_transform(df_test[\"Married\"])\n",
        "df_test[\"Self_Employed\"] = le.fit_transform(df_test[\"Self_Employed\"])"
      ],
      "execution_count": 0,
      "outputs": []
    },
    {
      "metadata": {
        "id": "UD7831kJIfs6",
        "colab_type": "code",
        "outputId": "1bf98a6b-0aa7-437a-d54f-456fdf31313b",
        "colab": {
          "base_uri": "https://localhost:8080/",
          "height": 195
        }
      },
      "cell_type": "code",
      "source": [
        "df_train.head()"
      ],
      "execution_count": 18,
      "outputs": [
        {
          "output_type": "execute_result",
          "data": {
            "text/html": [
              "<div>\n",
              "<style scoped>\n",
              "    .dataframe tbody tr th:only-of-type {\n",
              "        vertical-align: middle;\n",
              "    }\n",
              "\n",
              "    .dataframe tbody tr th {\n",
              "        vertical-align: top;\n",
              "    }\n",
              "\n",
              "    .dataframe thead th {\n",
              "        text-align: right;\n",
              "    }\n",
              "</style>\n",
              "<table border=\"1\" class=\"dataframe\">\n",
              "  <thead>\n",
              "    <tr style=\"text-align: right;\">\n",
              "      <th></th>\n",
              "      <th>Loan_ID</th>\n",
              "      <th>Gender</th>\n",
              "      <th>Married</th>\n",
              "      <th>Dependents</th>\n",
              "      <th>Education</th>\n",
              "      <th>Self_Employed</th>\n",
              "      <th>LoanAmount</th>\n",
              "      <th>Loan_Amount_Term</th>\n",
              "      <th>Credit_History</th>\n",
              "      <th>Property_Area</th>\n",
              "      <th>Loan_Status</th>\n",
              "      <th>EMI</th>\n",
              "      <th>Income</th>\n",
              "      <th>incomeToLoan</th>\n",
              "    </tr>\n",
              "  </thead>\n",
              "  <tbody>\n",
              "    <tr>\n",
              "      <th>0</th>\n",
              "      <td>LP001002</td>\n",
              "      <td>1</td>\n",
              "      <td>0</td>\n",
              "      <td>0.0</td>\n",
              "      <td>0</td>\n",
              "      <td>0</td>\n",
              "      <td>146.412162</td>\n",
              "      <td>360.0</td>\n",
              "      <td>1.0</td>\n",
              "      <td>2</td>\n",
              "      <td>Y</td>\n",
              "      <td>1058.489908</td>\n",
              "      <td>8.674026</td>\n",
              "      <td>39.948867</td>\n",
              "    </tr>\n",
              "    <tr>\n",
              "      <th>1</th>\n",
              "      <td>LP001003</td>\n",
              "      <td>1</td>\n",
              "      <td>1</td>\n",
              "      <td>1.0</td>\n",
              "      <td>0</td>\n",
              "      <td>0</td>\n",
              "      <td>128.000000</td>\n",
              "      <td>360.0</td>\n",
              "      <td>1.0</td>\n",
              "      <td>0</td>\n",
              "      <td>N</td>\n",
              "      <td>921.666667</td>\n",
              "      <td>8.714568</td>\n",
              "      <td>47.585938</td>\n",
              "    </tr>\n",
              "    <tr>\n",
              "      <th>2</th>\n",
              "      <td>LP001005</td>\n",
              "      <td>1</td>\n",
              "      <td>1</td>\n",
              "      <td>0.0</td>\n",
              "      <td>0</td>\n",
              "      <td>1</td>\n",
              "      <td>66.000000</td>\n",
              "      <td>360.0</td>\n",
              "      <td>1.0</td>\n",
              "      <td>2</td>\n",
              "      <td>Y</td>\n",
              "      <td>474.750000</td>\n",
              "      <td>8.006368</td>\n",
              "      <td>45.454545</td>\n",
              "    </tr>\n",
              "    <tr>\n",
              "      <th>3</th>\n",
              "      <td>LP001006</td>\n",
              "      <td>1</td>\n",
              "      <td>1</td>\n",
              "      <td>0.0</td>\n",
              "      <td>1</td>\n",
              "      <td>0</td>\n",
              "      <td>120.000000</td>\n",
              "      <td>360.0</td>\n",
              "      <td>1.0</td>\n",
              "      <td>2</td>\n",
              "      <td>Y</td>\n",
              "      <td>864.000000</td>\n",
              "      <td>8.505323</td>\n",
              "      <td>41.175000</td>\n",
              "    </tr>\n",
              "    <tr>\n",
              "      <th>4</th>\n",
              "      <td>LP001008</td>\n",
              "      <td>1</td>\n",
              "      <td>0</td>\n",
              "      <td>0.0</td>\n",
              "      <td>0</td>\n",
              "      <td>0</td>\n",
              "      <td>141.000000</td>\n",
              "      <td>360.0</td>\n",
              "      <td>1.0</td>\n",
              "      <td>2</td>\n",
              "      <td>Y</td>\n",
              "      <td>1015.375000</td>\n",
              "      <td>8.699515</td>\n",
              "      <td>42.553191</td>\n",
              "    </tr>\n",
              "  </tbody>\n",
              "</table>\n",
              "</div>"
            ],
            "text/plain": [
              "    Loan_ID  Gender  Married  Dependents  Education  Self_Employed  \\\n",
              "0  LP001002       1        0         0.0          0              0   \n",
              "1  LP001003       1        1         1.0          0              0   \n",
              "2  LP001005       1        1         0.0          0              1   \n",
              "3  LP001006       1        1         0.0          1              0   \n",
              "4  LP001008       1        0         0.0          0              0   \n",
              "\n",
              "   LoanAmount  Loan_Amount_Term  Credit_History  Property_Area Loan_Status  \\\n",
              "0  146.412162             360.0             1.0              2           Y   \n",
              "1  128.000000             360.0             1.0              0           N   \n",
              "2   66.000000             360.0             1.0              2           Y   \n",
              "3  120.000000             360.0             1.0              2           Y   \n",
              "4  141.000000             360.0             1.0              2           Y   \n",
              "\n",
              "           EMI    Income  incomeToLoan  \n",
              "0  1058.489908  8.674026     39.948867  \n",
              "1   921.666667  8.714568     47.585938  \n",
              "2   474.750000  8.006368     45.454545  \n",
              "3   864.000000  8.505323     41.175000  \n",
              "4  1015.375000  8.699515     42.553191  "
            ]
          },
          "metadata": {
            "tags": []
          },
          "execution_count": 18
        }
      ]
    },
    {
      "metadata": {
        "id": "1Cm8BdECGlIh",
        "colab_type": "text"
      },
      "cell_type": "markdown",
      "source": [
        "## Split Data"
      ]
    },
    {
      "metadata": {
        "id": "jBFzjS0jGPOS",
        "colab_type": "code",
        "outputId": "17430215-be45-4d45-eff5-36b1f8ec57b5",
        "colab": {
          "base_uri": "https://localhost:8080/",
          "height": 70
        }
      },
      "cell_type": "code",
      "source": [
        "X = df_train.drop([\"Loan_ID\", \"Loan_Status\"], axis=1)\n",
        "y = df_train[\"Loan_Status\"]\n",
        "\n",
        "df_test = df_test.drop([\"Loan_ID\"], axis=1)\n",
        "\n",
        "X_train, X_test, y_train, y_test = train_test_split(X, y, train_size = .75, random_state = 42)"
      ],
      "execution_count": 19,
      "outputs": [
        {
          "output_type": "stream",
          "text": [
            "/usr/local/lib/python3.6/dist-packages/sklearn/model_selection/_split.py:2179: FutureWarning: From version 0.21, test_size will always complement train_size unless both are specified.\n",
            "  FutureWarning)\n"
          ],
          "name": "stderr"
        }
      ]
    },
    {
      "metadata": {
        "id": "3rCa11g2fS-4",
        "colab_type": "text"
      },
      "cell_type": "markdown",
      "source": [
        "## Random Forest"
      ]
    },
    {
      "metadata": {
        "id": "1pbFk16WIu-a",
        "colab_type": "code",
        "outputId": "edfac041-c4c3-40b0-d78f-049ea2b2885b",
        "colab": {
          "base_uri": "https://localhost:8080/",
          "height": 151
        }
      },
      "cell_type": "code",
      "source": [
        "rand_forest = RandomForestClassifier( random_state = 42 )\n",
        "rand_forest.fit(X_train, y_train)"
      ],
      "execution_count": 20,
      "outputs": [
        {
          "output_type": "stream",
          "text": [
            "/usr/local/lib/python3.6/dist-packages/sklearn/ensemble/forest.py:246: FutureWarning: The default value of n_estimators will change from 10 in version 0.20 to 100 in 0.22.\n",
            "  \"10 in version 0.20 to 100 in 0.22.\", FutureWarning)\n"
          ],
          "name": "stderr"
        },
        {
          "output_type": "execute_result",
          "data": {
            "text/plain": [
              "RandomForestClassifier(bootstrap=True, class_weight=None, criterion='gini',\n",
              "            max_depth=None, max_features='auto', max_leaf_nodes=None,\n",
              "            min_impurity_decrease=0.0, min_impurity_split=None,\n",
              "            min_samples_leaf=1, min_samples_split=2,\n",
              "            min_weight_fraction_leaf=0.0, n_estimators=10, n_jobs=None,\n",
              "            oob_score=False, random_state=42, verbose=0, warm_start=False)"
            ]
          },
          "metadata": {
            "tags": []
          },
          "execution_count": 20
        }
      ]
    },
    {
      "metadata": {
        "id": "ghsRTlUQgf-9",
        "colab_type": "code",
        "outputId": "d174b486-2eb8-4c8b-c6c5-f61f3e11cc73",
        "colab": {
          "base_uri": "https://localhost:8080/",
          "height": 34
        }
      },
      "cell_type": "code",
      "source": [
        "accuracy_score(y_test, rand_forest.predict(X_test))"
      ],
      "execution_count": 21,
      "outputs": [
        {
          "output_type": "execute_result",
          "data": {
            "text/plain": [
              "0.7727272727272727"
            ]
          },
          "metadata": {
            "tags": []
          },
          "execution_count": 21
        }
      ]
    },
    {
      "metadata": {
        "id": "fMEM68JZi-UR",
        "colab_type": "text"
      },
      "cell_type": "markdown",
      "source": [
        "### Random Forest Hyper parameters tuning\n",
        "\n",
        "Random Forest has a lot of tuning parameters, we tune the model for max_depth, n_estimators and  \n",
        "We will use a five cross validation approach, repeated over 10 times."
      ]
    },
    {
      "metadata": {
        "id": "BhoUMpwZqm8U",
        "colab_type": "code",
        "colab": {}
      },
      "cell_type": "code",
      "source": [
        "repeatcv = RepeatedStratifiedKFold(n_splits=5, n_repeats=10)"
      ],
      "execution_count": 0,
      "outputs": []
    },
    {
      "metadata": {
        "id": "UHVd3dkki0O2",
        "colab_type": "code",
        "outputId": "d968e50f-8b04-41e0-c358-47eefa9b4210",
        "colab": {
          "base_uri": "https://localhost:8080/",
          "height": 202
        }
      },
      "cell_type": "code",
      "source": [
        "paramgrid = {'max_depth': list(range(1, 5, 2)), 'n_estimators': list(range(100, 200, 20)), 'max_features': ['auto', 'sqrt', 'log2'], 'oob_score' :['True', 'False']}\n",
        "\n",
        "rand_grid = GridSearchCV (rand_forest, paramgrid, cv = 3, scoring = 'accuracy' ) \n",
        "\n",
        "rand_grid.fit(X_train, y_train)"
      ],
      "execution_count": 23,
      "outputs": [
        {
          "output_type": "execute_result",
          "data": {
            "text/plain": [
              "GridSearchCV(cv=3, error_score='raise-deprecating',\n",
              "       estimator=RandomForestClassifier(bootstrap=True, class_weight=None, criterion='gini',\n",
              "            max_depth=None, max_features='auto', max_leaf_nodes=None,\n",
              "            min_impurity_decrease=0.0, min_impurity_split=None,\n",
              "            min_samples_leaf=1, min_samples_split=2,\n",
              "            min_weight_fraction_leaf=0.0, n_estimators=10, n_jobs=None,\n",
              "            oob_score=False, random_state=42, verbose=0, warm_start=False),\n",
              "       fit_params=None, iid='warn', n_jobs=None,\n",
              "       param_grid={'max_depth': [1, 3], 'n_estimators': [100, 120, 140, 160, 180], 'max_features': ['auto', 'sqrt', 'log2'], 'oob_score': ['True', 'False']},\n",
              "       pre_dispatch='2*n_jobs', refit=True, return_train_score='warn',\n",
              "       scoring='accuracy', verbose=0)"
            ]
          },
          "metadata": {
            "tags": []
          },
          "execution_count": 23
        }
      ]
    },
    {
      "metadata": {
        "id": "e5hAP0WtqZXb",
        "colab_type": "code",
        "colab": {}
      },
      "cell_type": "code",
      "source": [
        "#rand_model_grid_score = cross_val_score(rand_grid, X_train, y_train, scoring = \"accuracy\", cv = repeatcv )"
      ],
      "execution_count": 0,
      "outputs": []
    },
    {
      "metadata": {
        "id": "_DCKCA6TrO-f",
        "colab_type": "code",
        "outputId": "0b3f38ca-3297-4335-8402-b243d9086ca2",
        "colab": {
          "base_uri": "https://localhost:8080/",
          "height": 34
        }
      },
      "cell_type": "code",
      "source": [
        "accuracy_score(y_test, rand_grid.predict(X_test))"
      ],
      "execution_count": 25,
      "outputs": [
        {
          "output_type": "execute_result",
          "data": {
            "text/plain": [
              "0.7727272727272727"
            ]
          },
          "metadata": {
            "tags": []
          },
          "execution_count": 25
        }
      ]
    },
    {
      "metadata": {
        "id": "jz1XDCvDZpdk",
        "colab_type": "code",
        "colab": {}
      },
      "cell_type": "code",
      "source": [
        "from sklearn import metrics\n",
        "rand_proba = rand_grid.predict_proba(X_test)[::,1]\n",
        "randfpr, randtpr, _ = metrics.roc_curve(y_test,  rand_proba, pos_label='Y')\n",
        "randauc = metrics.roc_auc_score(y_test, rand_proba)"
      ],
      "execution_count": 0,
      "outputs": []
    },
    {
      "metadata": {
        "id": "CSu3e0-gmNhi",
        "colab_type": "text"
      },
      "cell_type": "markdown",
      "source": [
        "## Gradient Boosting"
      ]
    },
    {
      "metadata": {
        "id": "I9LgOQQpkgcK",
        "colab_type": "code",
        "outputId": "3990f54a-e0a6-4d27-a8a0-2bad9a847fcd",
        "colab": {
          "base_uri": "https://localhost:8080/",
          "height": 168
        }
      },
      "cell_type": "code",
      "source": [
        "gbModel = GradientBoostingClassifier()\n",
        "gbModel.fit(X_train, y_train)"
      ],
      "execution_count": 27,
      "outputs": [
        {
          "output_type": "execute_result",
          "data": {
            "text/plain": [
              "GradientBoostingClassifier(criterion='friedman_mse', init=None,\n",
              "              learning_rate=0.1, loss='deviance', max_depth=3,\n",
              "              max_features=None, max_leaf_nodes=None,\n",
              "              min_impurity_decrease=0.0, min_impurity_split=None,\n",
              "              min_samples_leaf=1, min_samples_split=2,\n",
              "              min_weight_fraction_leaf=0.0, n_estimators=100,\n",
              "              n_iter_no_change=None, presort='auto', random_state=None,\n",
              "              subsample=1.0, tol=0.0001, validation_fraction=0.1,\n",
              "              verbose=0, warm_start=False)"
            ]
          },
          "metadata": {
            "tags": []
          },
          "execution_count": 27
        }
      ]
    },
    {
      "metadata": {
        "id": "1nBRMXhzmgwr",
        "colab_type": "code",
        "outputId": "3e37a7cf-d87f-440b-bf25-082f0b8c88bf",
        "colab": {
          "base_uri": "https://localhost:8080/",
          "height": 34
        }
      },
      "cell_type": "code",
      "source": [
        "accuracy_score(y_test, gbModel.predict(X_test))"
      ],
      "execution_count": 28,
      "outputs": [
        {
          "output_type": "execute_result",
          "data": {
            "text/plain": [
              "0.7857142857142857"
            ]
          },
          "metadata": {
            "tags": []
          },
          "execution_count": 28
        }
      ]
    },
    {
      "metadata": {
        "id": "cBeIJ6RUmz_0",
        "colab_type": "text"
      },
      "cell_type": "markdown",
      "source": [
        "### Gradient Boosting Hyperparameters tuning"
      ]
    },
    {
      "metadata": {
        "id": "72WwCKI1lcfw",
        "colab_type": "code",
        "outputId": "0e896b71-107d-44f7-eb2a-16d4f3faa3a3",
        "colab": {
          "base_uri": "https://localhost:8080/",
          "height": 202
        }
      },
      "cell_type": "code",
      "source": [
        "params = {'max_depth': list(range(1, 5, 2)), 'n_estimators': list(range(1, 10, 2)), 'subsample': [0.8, 1.0], 'min_samples_split' : list(range(2, 10, 1))}\n",
        "\n",
        "gbModel_grid = GridSearchCV(gbModel, params, cv = 3, scoring = 'accuracy') \n",
        "\n",
        "gbModel_grid.fit (X_train, y_train)"
      ],
      "execution_count": 29,
      "outputs": [
        {
          "output_type": "execute_result",
          "data": {
            "text/plain": [
              "GridSearchCV(cv=3, error_score='raise-deprecating',\n",
              "       estimator=GradientBoostingClassifier(criterion='friedman_mse', init=None,\n",
              "              learning_rate=0.1, loss='deviance', max_depth=3,\n",
              "              max_features=None, max_leaf_nodes=None,\n",
              "              min_impurity_decrease=0.0, min_impurity_split=None,\n",
              "              min_samples_leaf=1, min_sampl...      subsample=1.0, tol=0.0001, validation_fraction=0.1,\n",
              "              verbose=0, warm_start=False),\n",
              "       fit_params=None, iid='warn', n_jobs=None,\n",
              "       param_grid={'max_depth': [1, 3], 'n_estimators': [1, 3, 5, 7, 9], 'subsample': [0.8, 1.0], 'min_samples_split': [2, 3, 4, 5, 6, 7, 8, 9]},\n",
              "       pre_dispatch='2*n_jobs', refit=True, return_train_score='warn',\n",
              "       scoring='accuracy', verbose=0)"
            ]
          },
          "metadata": {
            "tags": []
          },
          "execution_count": 29
        }
      ]
    },
    {
      "metadata": {
        "id": "YXyp_8YftiTt",
        "colab_type": "code",
        "colab": {}
      },
      "cell_type": "code",
      "source": [
        "#xgb_model_grid_score = cross_val_score(xgb_grid, X_train, y_train, scoring = \"accuracy\", cv = repeatcv )"
      ],
      "execution_count": 0,
      "outputs": []
    },
    {
      "metadata": {
        "id": "DH7gsYXHtwJE",
        "colab_type": "code",
        "outputId": "40641d3a-9d01-4cf1-eb84-d2ae2e14609a",
        "colab": {
          "base_uri": "https://localhost:8080/",
          "height": 34
        }
      },
      "cell_type": "code",
      "source": [
        "accuracy_score(y_test, gbModel_grid.predict(X_test))"
      ],
      "execution_count": 31,
      "outputs": [
        {
          "output_type": "execute_result",
          "data": {
            "text/plain": [
              "0.7727272727272727"
            ]
          },
          "metadata": {
            "tags": []
          },
          "execution_count": 31
        }
      ]
    },
    {
      "metadata": {
        "id": "I_5yKNsRZgzW",
        "colab_type": "code",
        "colab": {}
      },
      "cell_type": "code",
      "source": [
        "gbModel_proba = gbModel_grid.predict_proba(X_test)[::,1]\n",
        "gbmfpr, gbmtpr, _ = metrics.roc_curve(y_test,  gbModel_proba, pos_label='Y')\n",
        "gbmauc = metrics.roc_auc_score(y_test, gbModel_proba)"
      ],
      "execution_count": 0,
      "outputs": []
    },
    {
      "metadata": {
        "id": "QXaz6erf2Tv_",
        "colab_type": "text"
      },
      "cell_type": "markdown",
      "source": [
        "## XGBoost"
      ]
    },
    {
      "metadata": {
        "id": "f8WVqNdW2WrK",
        "colab_type": "code",
        "outputId": "c6b72d11-9f29-4bb6-c2a9-2912a04626f7",
        "colab": {
          "base_uri": "https://localhost:8080/",
          "height": 118
        }
      },
      "cell_type": "code",
      "source": [
        "xgb_model = XGBClassifier()\n",
        "xgb_model.fit(X_train, y_train)"
      ],
      "execution_count": 33,
      "outputs": [
        {
          "output_type": "execute_result",
          "data": {
            "text/plain": [
              "XGBClassifier(base_score=0.5, booster='gbtree', colsample_bylevel=1,\n",
              "       colsample_bytree=1, gamma=0, learning_rate=0.1, max_delta_step=0,\n",
              "       max_depth=3, min_child_weight=1, missing=None, n_estimators=100,\n",
              "       n_jobs=1, nthread=None, objective='binary:logistic', random_state=0,\n",
              "       reg_alpha=0, reg_lambda=1, scale_pos_weight=1, seed=None,\n",
              "       silent=True, subsample=1)"
            ]
          },
          "metadata": {
            "tags": []
          },
          "execution_count": 33
        }
      ]
    },
    {
      "metadata": {
        "id": "EUoQZvAQ3JB3",
        "colab_type": "code",
        "outputId": "f7e3e051-65f2-453d-f755-1df596bca0d3",
        "colab": {
          "base_uri": "https://localhost:8080/",
          "height": 34
        }
      },
      "cell_type": "code",
      "source": [
        "accuracy_score(y_test, xgb_model.predict(X_test))"
      ],
      "execution_count": 34,
      "outputs": [
        {
          "output_type": "execute_result",
          "data": {
            "text/plain": [
              "0.7922077922077922"
            ]
          },
          "metadata": {
            "tags": []
          },
          "execution_count": 34
        }
      ]
    },
    {
      "metadata": {
        "id": "UgtYl97X4Ovr",
        "colab_type": "text"
      },
      "cell_type": "markdown",
      "source": [
        "### XGBoost HyperParameter"
      ]
    },
    {
      "metadata": {
        "id": "Lr_2nU3H3Nis",
        "colab_type": "code",
        "colab": {
          "base_uri": "https://localhost:8080/",
          "height": 202
        },
        "outputId": "3d66ae59-92b4-4cdc-faef-6223477f3199"
      },
      "cell_type": "code",
      "source": [
        "params = {'max_depth': list(range(1, 5, 2)), 'n_estimators': list(range(10, 200, 20)), 'subsample': [0.8, 1.0]}\n",
        "\n",
        "xgb_model_grid = GridSearchCV(xgb_model, params, cv = 3, scoring = 'accuracy') \n",
        "\n",
        "xgb_model_grid.fit (X_train, y_train)"
      ],
      "execution_count": 35,
      "outputs": [
        {
          "output_type": "execute_result",
          "data": {
            "text/plain": [
              "GridSearchCV(cv=3, error_score='raise-deprecating',\n",
              "       estimator=XGBClassifier(base_score=0.5, booster='gbtree', colsample_bylevel=1,\n",
              "       colsample_bytree=1, gamma=0, learning_rate=0.1, max_delta_step=0,\n",
              "       max_depth=3, min_child_weight=1, missing=None, n_estimators=100,\n",
              "       n_jobs=1, nthread=None, objective='binary:logistic', random_state=0,\n",
              "       reg_alpha=0, reg_lambda=1, scale_pos_weight=1, seed=None,\n",
              "       silent=True, subsample=1),\n",
              "       fit_params=None, iid='warn', n_jobs=None,\n",
              "       param_grid={'max_depth': [1, 3], 'n_estimators': [10, 30, 50, 70, 90, 110, 130, 150, 170, 190], 'subsample': [0.8, 1.0]},\n",
              "       pre_dispatch='2*n_jobs', refit=True, return_train_score='warn',\n",
              "       scoring='accuracy', verbose=0)"
            ]
          },
          "metadata": {
            "tags": []
          },
          "execution_count": 35
        }
      ]
    },
    {
      "metadata": {
        "id": "pi2H89qoZYDe",
        "colab_type": "code",
        "colab": {}
      },
      "cell_type": "code",
      "source": [
        "xgb_proba = xgb_model_grid.predict_proba(X_test)[::,1]\n",
        "xgbfpr, xgbtpr, _ = metrics.roc_curve(y_test,  xgb_proba, pos_label='Y')\n",
        "xgbauc = metrics.roc_auc_score(y_test, xgb_proba)"
      ],
      "execution_count": 0,
      "outputs": []
    },
    {
      "metadata": {
        "id": "OERUqxM335jA",
        "colab_type": "code",
        "colab": {
          "base_uri": "https://localhost:8080/",
          "height": 34
        },
        "outputId": "5728357a-3d97-40c3-9beb-7f3b7b402db8"
      },
      "cell_type": "code",
      "source": [
        "accuracy_score(y_test, xgb_model_grid.predict(X_test))"
      ],
      "execution_count": 37,
      "outputs": [
        {
          "output_type": "execute_result",
          "data": {
            "text/plain": [
              "0.7857142857142857"
            ]
          },
          "metadata": {
            "tags": []
          },
          "execution_count": 37
        }
      ]
    },
    {
      "metadata": {
        "id": "Yc7jF9IBv3Kg",
        "colab_type": "text"
      },
      "cell_type": "markdown",
      "source": [
        "## ROC Curves\n",
        "\n",
        "From the below chart, we can see that Random Forest model has the higher AUC followed by XGB and least value for GBM. Overall, we choose the middle model to avoid overfitting and underfitting.\n",
        "\n",
        "\n"
      ]
    },
    {
      "metadata": {
        "id": "HdAIGvH1cXtu",
        "colab_type": "code",
        "colab": {
          "base_uri": "https://localhost:8080/",
          "height": 374
        },
        "outputId": "c08d335d-e529-4914-9938-1a101b09606f"
      },
      "cell_type": "code",
      "source": [
        "plt.figure(figsize=(15, 6))\n",
        "plt.plot(xgbfpr,xgbtpr,label=\"XGB, auc=\"+str(round(xgbauc, 2)))\n",
        "plt.plot(gbmfpr,gbmtpr,label=\"GBM, auc=\"+str(round(gbmauc, 2)))\n",
        "plt.plot(randfpr,randtpr,label=\"Rand, auc=\"+str(round(randauc, 2)))\n",
        "plt.legend(loc=0)\n",
        "plt.show()"
      ],
      "execution_count": 38,
      "outputs": [
        {
          "output_type": "display_data",
          "data": {
            "image/png": "[encoded data removed]",
            "text/plain": [
              "<Figure size 1080x432 with 1 Axes>"
            ]
          },
          "metadata": {
            "tags": []
          }
        }
      ]
    },
    {
      "metadata": {
        "id": "grxlCIngipub",
        "colab_type": "text"
      },
      "cell_type": "markdown",
      "source": [
        "## Final Model\n",
        "\n",
        "As such the final model we select is **'XGBoost'**"
      ]
    },
    {
      "metadata": {
        "id": "gXLsX-i2vB9T",
        "colab_type": "code",
        "colab": {}
      },
      "cell_type": "code",
      "source": [
        "pd.DataFrame({\"Loan_ID\":(df_test_copy.Loan_ID), \"Loan_Status\":xgb_model_grid.predict(df_test)}).reset_index(drop = True).to_csv(\"submitTM.csv\")"
      ],
      "execution_count": 0,
      "outputs": []
    },
    {
      "metadata": {
        "id": "DW5ZpEH6s9ZK",
        "colab_type": "text"
      },
      "cell_type": "markdown",
      "source": [
        "## Deploymnet\n",
        "\n",
        "The model can be deployed using python flask, django or other web development tools.   \n",
        "An HTTP API can be build to use it with other services."
      ]
    }
  ]
}