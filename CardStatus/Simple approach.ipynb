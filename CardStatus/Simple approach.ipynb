{
 "cells": [
  {
   "cell_type": "markdown",
   "metadata": {
    "id": "K-6dPY3MkPmu"
   },
   "source": [
    "## Initial Setup"
   ]
  },
  {
   "cell_type": "code",
   "execution_count": 1,
   "metadata": {
    "id": "GveHu4qrkDi6"
   },
   "outputs": [],
   "source": [
    "%%capture\n",
    "#%%script false\n",
    "!pip install shap\n",
    "!pip install xgboost\n",
    "!pip install catboost\n",
    "!pip install lightgbm\n",
    "#!pip install tensorboardcolab\n",
    "# !pip install scikit-optimize==0.6\n",
    "\n",
    "#Restart Runtime"
   ]
  },
  {
   "cell_type": "markdown",
   "metadata": {
    "id": "FKenLVA3kTTb"
   },
   "source": [
    "## Data"
   ]
  },
  {
   "cell_type": "code",
   "execution_count": 2,
   "metadata": {
    "id": "iMu0XDeTkS0F"
   },
   "outputs": [],
   "source": [
    "import pandas as pd\n",
    "import numpy as np\n",
    "import matplotlib.pyplot as plt\n",
    "import seaborn as sns\n",
    "%matplotlib inline\n",
    "plt.rc('figure', figsize=(20.0, 6.0))\n",
    "\n",
    "# import shap\n",
    "# from tqdm import tqdm_notebook as tqdm\n",
    "\n",
    "#from sklearn.externals import joblib\n",
    "from sklearn.model_selection import train_test_split\n",
    "#from sklearn.model_selection import StratifiedShuffleSplit #, RepeatedKFold, StratifiedKFold, RepeatedStratifiedKFold\n",
    "\n",
    "import xgboost as xgb\n",
    "#import lightgbm as lgb\n",
    "#import catboost as cat\n",
    "\n",
    "#import sklearn.svm as svm\n",
    "#import sklearn.neighbors as knn\n",
    "\n",
    "\n",
    "from sklearn.model_selection import cross_val_score\n",
    "from sklearn.model_selection import GridSearchCV\n",
    "from sklearn.metrics import classification_report, confusion_matrix, roc_curve, roc_auc_score, auc\n",
    "from sklearn.metrics import mean_squared_error #, mean_squared_log_error"
   ]
  },
  {
   "cell_type": "code",
   "execution_count": null,
   "metadata": {
    "colab": {
     "base_uri": "https://localhost:8080/",
     "height": 50
    },
    "id": "Bl44tmIbRZ7K",
    "outputId": "7f9b06e0-23e8-4f98-e033-7594b3fcc6bb"
   },
   "outputs": [
    {
     "data": {
      "text/plain": [
       "array([['TN', 'FP'],\n",
       "       ['FN', 'TP']], dtype='<U2')"
      ]
     },
     "execution_count": 3,
     "metadata": {
      "tags": []
     },
     "output_type": "execute_result"
    }
   ],
   "source": [
    "np.array([[\"TN\", \"FP\"],[\"FN\", \"TP\"]])"
   ]
  },
  {
   "cell_type": "code",
   "execution_count": 3,
   "metadata": {
    "id": "psNxenViRs4F"
   },
   "outputs": [],
   "source": [
    "# Change id only\n",
    "train_data_og = pd.read_csv(\"https://drive.google.com/uc?export=download&id=1uLYKLv2sW4ivWIu5LWSzc5EDCiQCq6wR\")\n",
    "sub_data_og = pd.read_csv(\"https://drive.google.com/uc?export=download&id=1pHLevYAF82LDq0TF8F3Uigi7Er5rwuLX\")"
   ]
  },
  {
   "cell_type": "markdown",
   "metadata": {
    "id": "utAyB_I4kvlr"
   },
   "source": [
    "### Manipulation\n",
    "\n",
    "Mean Encoding.  \n",
    "Divide and Multiply columns.  \n",
    "\n",
    "\n",
    "Time Series  \n",
    "Date parts  \n",
    "Lag values  \n",
    "Difference between dates "
   ]
  },
  {
   "cell_type": "code",
   "execution_count": 19,
   "metadata": {
    "colab": {
     "base_uri": "https://localhost:8080/"
    },
    "id": "6J-4aO61h9YK",
    "outputId": "e749713a-0cd3-4286-d995-312a64c7be67"
   },
   "outputs": [
    {
     "name": "stdout",
     "output_type": "stream",
     "text": [
      "(245725, 11)\n",
      "(105312, 10)\n"
     ]
    }
   ],
   "source": [
    "print(train_data_og.shape) ; print(sub_data_og.shape)"
   ]
  },
  {
   "cell_type": "code",
   "execution_count": 17,
   "metadata": {
    "colab": {
     "base_uri": "https://localhost:8080/"
    },
    "id": "ivbQMrE6hmmq",
    "outputId": "a553782d-247b-4d48-ae22-0404e82a5c34"
   },
   "outputs": [
    {
     "name": "stdout",
     "output_type": "stream",
     "text": [
      "ID                         0\n",
      "Gender                     0\n",
      "Age                        0\n",
      "Region_Code                0\n",
      "Occupation                 0\n",
      "Channel_Code               0\n",
      "Vintage                    0\n",
      "Credit_Product         29325\n",
      "Avg_Account_Balance        0\n",
      "Is_Active                  0\n",
      "Is_Lead                    0\n",
      "dtype: int64\n",
      "ID                         0\n",
      "Gender                     0\n",
      "Age                        0\n",
      "Region_Code                0\n",
      "Occupation                 0\n",
      "Channel_Code               0\n",
      "Vintage                    0\n",
      "Credit_Product         12522\n",
      "Avg_Account_Balance        0\n",
      "Is_Active                  0\n",
      "dtype: int64\n"
     ]
    }
   ],
   "source": [
    "print(train_data_og.isna().sum())\n",
    "print(sub_data_og.isna().sum())"
   ]
  },
  {
   "cell_type": "code",
   "execution_count": 154,
   "metadata": {
    "colab": {
     "base_uri": "https://localhost:8080/",
     "height": 195
    },
    "id": "2N6MH3TveLCe",
    "outputId": "664f48c9-eeae-4504-d26a-e521fb94f873"
   },
   "outputs": [
    {
     "data": {
      "text/html": [
       "<div>\n",
       "<style scoped>\n",
       "    .dataframe tbody tr th:only-of-type {\n",
       "        vertical-align: middle;\n",
       "    }\n",
       "\n",
       "    .dataframe tbody tr th {\n",
       "        vertical-align: top;\n",
       "    }\n",
       "\n",
       "    .dataframe thead th {\n",
       "        text-align: right;\n",
       "    }\n",
       "</style>\n",
       "<table border=\"1\" class=\"dataframe\">\n",
       "  <thead>\n",
       "    <tr style=\"text-align: right;\">\n",
       "      <th></th>\n",
       "      <th>ID</th>\n",
       "      <th>Gender</th>\n",
       "      <th>Age</th>\n",
       "      <th>Region_Code</th>\n",
       "      <th>Occupation</th>\n",
       "      <th>Channel_Code</th>\n",
       "      <th>Vintage</th>\n",
       "      <th>Credit_Product</th>\n",
       "      <th>Avg_Account_Balance</th>\n",
       "      <th>Is_Active</th>\n",
       "      <th>Is_Lead</th>\n",
       "    </tr>\n",
       "  </thead>\n",
       "  <tbody>\n",
       "    <tr>\n",
       "      <th>0</th>\n",
       "      <td>NNVBBKZB</td>\n",
       "      <td>Female</td>\n",
       "      <td>73</td>\n",
       "      <td>RG268</td>\n",
       "      <td>Other</td>\n",
       "      <td>X3</td>\n",
       "      <td>43</td>\n",
       "      <td>No</td>\n",
       "      <td>1045696</td>\n",
       "      <td>No</td>\n",
       "      <td>0</td>\n",
       "    </tr>\n",
       "    <tr>\n",
       "      <th>1</th>\n",
       "      <td>IDD62UNG</td>\n",
       "      <td>Female</td>\n",
       "      <td>30</td>\n",
       "      <td>RG277</td>\n",
       "      <td>Salaried</td>\n",
       "      <td>X1</td>\n",
       "      <td>32</td>\n",
       "      <td>No</td>\n",
       "      <td>581988</td>\n",
       "      <td>No</td>\n",
       "      <td>0</td>\n",
       "    </tr>\n",
       "    <tr>\n",
       "      <th>2</th>\n",
       "      <td>HD3DSEMC</td>\n",
       "      <td>Female</td>\n",
       "      <td>56</td>\n",
       "      <td>RG268</td>\n",
       "      <td>Self_Employed</td>\n",
       "      <td>X3</td>\n",
       "      <td>26</td>\n",
       "      <td>No</td>\n",
       "      <td>1484315</td>\n",
       "      <td>Yes</td>\n",
       "      <td>0</td>\n",
       "    </tr>\n",
       "    <tr>\n",
       "      <th>3</th>\n",
       "      <td>BF3NC7KV</td>\n",
       "      <td>Male</td>\n",
       "      <td>34</td>\n",
       "      <td>RG270</td>\n",
       "      <td>Salaried</td>\n",
       "      <td>X1</td>\n",
       "      <td>19</td>\n",
       "      <td>No</td>\n",
       "      <td>470454</td>\n",
       "      <td>No</td>\n",
       "      <td>0</td>\n",
       "    </tr>\n",
       "    <tr>\n",
       "      <th>4</th>\n",
       "      <td>TEASRWXV</td>\n",
       "      <td>Female</td>\n",
       "      <td>30</td>\n",
       "      <td>RG282</td>\n",
       "      <td>Salaried</td>\n",
       "      <td>X1</td>\n",
       "      <td>33</td>\n",
       "      <td>No</td>\n",
       "      <td>886787</td>\n",
       "      <td>No</td>\n",
       "      <td>0</td>\n",
       "    </tr>\n",
       "  </tbody>\n",
       "</table>\n",
       "</div>"
      ],
      "text/plain": [
       "         ID  Gender  Age  ... Avg_Account_Balance Is_Active Is_Lead\n",
       "0  NNVBBKZB  Female   73  ...             1045696        No       0\n",
       "1  IDD62UNG  Female   30  ...              581988        No       0\n",
       "2  HD3DSEMC  Female   56  ...             1484315       Yes       0\n",
       "3  BF3NC7KV    Male   34  ...              470454        No       0\n",
       "4  TEASRWXV  Female   30  ...              886787        No       0\n",
       "\n",
       "[5 rows x 11 columns]"
      ]
     },
     "execution_count": 154,
     "metadata": {
      "tags": []
     },
     "output_type": "execute_result"
    }
   ],
   "source": [
    "train_data = train_data_og.copy()\n",
    "train_data_og.head()"
   ]
  },
  {
   "cell_type": "code",
   "execution_count": 155,
   "metadata": {
    "colab": {
     "base_uri": "https://localhost:8080/",
     "height": 195
    },
    "id": "iZXbwgtoePW5",
    "outputId": "f73d3346-80a7-4f9e-93d1-dbbaa8091323"
   },
   "outputs": [
    {
     "data": {
      "text/html": [
       "<div>\n",
       "<style scoped>\n",
       "    .dataframe tbody tr th:only-of-type {\n",
       "        vertical-align: middle;\n",
       "    }\n",
       "\n",
       "    .dataframe tbody tr th {\n",
       "        vertical-align: top;\n",
       "    }\n",
       "\n",
       "    .dataframe thead th {\n",
       "        text-align: right;\n",
       "    }\n",
       "</style>\n",
       "<table border=\"1\" class=\"dataframe\">\n",
       "  <thead>\n",
       "    <tr style=\"text-align: right;\">\n",
       "      <th></th>\n",
       "      <th>ID</th>\n",
       "      <th>Gender</th>\n",
       "      <th>Age</th>\n",
       "      <th>Region_Code</th>\n",
       "      <th>Occupation</th>\n",
       "      <th>Channel_Code</th>\n",
       "      <th>Vintage</th>\n",
       "      <th>Credit_Product</th>\n",
       "      <th>Avg_Account_Balance</th>\n",
       "      <th>Is_Active</th>\n",
       "    </tr>\n",
       "  </thead>\n",
       "  <tbody>\n",
       "    <tr>\n",
       "      <th>0</th>\n",
       "      <td>VBENBARO</td>\n",
       "      <td>Male</td>\n",
       "      <td>29</td>\n",
       "      <td>RG254</td>\n",
       "      <td>Other</td>\n",
       "      <td>X1</td>\n",
       "      <td>25</td>\n",
       "      <td>Yes</td>\n",
       "      <td>742366</td>\n",
       "      <td>No</td>\n",
       "    </tr>\n",
       "    <tr>\n",
       "      <th>1</th>\n",
       "      <td>CCMEWNKY</td>\n",
       "      <td>Male</td>\n",
       "      <td>43</td>\n",
       "      <td>RG268</td>\n",
       "      <td>Other</td>\n",
       "      <td>X2</td>\n",
       "      <td>49</td>\n",
       "      <td>NaN</td>\n",
       "      <td>925537</td>\n",
       "      <td>No</td>\n",
       "    </tr>\n",
       "    <tr>\n",
       "      <th>2</th>\n",
       "      <td>VK3KGA9M</td>\n",
       "      <td>Male</td>\n",
       "      <td>31</td>\n",
       "      <td>RG270</td>\n",
       "      <td>Salaried</td>\n",
       "      <td>X1</td>\n",
       "      <td>14</td>\n",
       "      <td>No</td>\n",
       "      <td>215949</td>\n",
       "      <td>No</td>\n",
       "    </tr>\n",
       "    <tr>\n",
       "      <th>3</th>\n",
       "      <td>TT8RPZVC</td>\n",
       "      <td>Male</td>\n",
       "      <td>29</td>\n",
       "      <td>RG272</td>\n",
       "      <td>Other</td>\n",
       "      <td>X1</td>\n",
       "      <td>33</td>\n",
       "      <td>No</td>\n",
       "      <td>868070</td>\n",
       "      <td>No</td>\n",
       "    </tr>\n",
       "    <tr>\n",
       "      <th>4</th>\n",
       "      <td>SHQZEYTZ</td>\n",
       "      <td>Female</td>\n",
       "      <td>29</td>\n",
       "      <td>RG270</td>\n",
       "      <td>Other</td>\n",
       "      <td>X1</td>\n",
       "      <td>19</td>\n",
       "      <td>No</td>\n",
       "      <td>657087</td>\n",
       "      <td>No</td>\n",
       "    </tr>\n",
       "  </tbody>\n",
       "</table>\n",
       "</div>"
      ],
      "text/plain": [
       "         ID  Gender  Age  ... Credit_Product Avg_Account_Balance Is_Active\n",
       "0  VBENBARO    Male   29  ...            Yes              742366        No\n",
       "1  CCMEWNKY    Male   43  ...            NaN              925537        No\n",
       "2  VK3KGA9M    Male   31  ...             No              215949        No\n",
       "3  TT8RPZVC    Male   29  ...             No              868070        No\n",
       "4  SHQZEYTZ  Female   29  ...             No              657087        No\n",
       "\n",
       "[5 rows x 10 columns]"
      ]
     },
     "execution_count": 155,
     "metadata": {
      "tags": []
     },
     "output_type": "execute_result"
    }
   ],
   "source": [
    "sub_data = sub_data_og.copy()\n",
    "sub_data_og.head()"
   ]
  },
  {
   "cell_type": "code",
   "execution_count": 27,
   "metadata": {
    "colab": {
     "base_uri": "https://localhost:8080/"
    },
    "id": "IJOfHTnIisYw",
    "outputId": "07394490-ec06-46d9-fba5-59eb34bdf598"
   },
   "outputs": [
    {
     "name": "stdout",
     "output_type": "stream",
     "text": [
      "['Entrepreneur' 'Other' 'Salaried' 'Self_Employed']\n",
      "['Entrepreneur' 'Other' 'Salaried' 'Self_Employed']\n"
     ]
    }
   ],
   "source": [
    "print(np.unique(train_data.Occupation)); print(np.unique(sub_data.Occupation))"
   ]
  },
  {
   "cell_type": "code",
   "execution_count": 28,
   "metadata": {
    "colab": {
     "base_uri": "https://localhost:8080/"
    },
    "id": "LYM1tnhEi4qn",
    "outputId": "808429d3-8177-4eff-d4b8-d3c1846a68e7"
   },
   "outputs": [
    {
     "name": "stdout",
     "output_type": "stream",
     "text": [
      "['X1' 'X2' 'X3' 'X4']\n",
      "['X1' 'X2' 'X3' 'X4']\n"
     ]
    }
   ],
   "source": [
    "print(np.unique(train_data.Channel_Code)); print(np.unique(sub_data.Channel_Code))"
   ]
  },
  {
   "cell_type": "code",
   "execution_count": 29,
   "metadata": {
    "colab": {
     "base_uri": "https://localhost:8080/"
    },
    "id": "gGQbAlkNi7Gp",
    "outputId": "7baacd22-d985-4ca8-a077-f37b81d9be5a"
   },
   "outputs": [
    {
     "name": "stdout",
     "output_type": "stream",
     "text": [
      "['Female' 'Male']\n",
      "['Female' 'Male']\n"
     ]
    }
   ],
   "source": [
    "print(np.unique(train_data.Gender)); print(np.unique(sub_data.Gender))"
   ]
  },
  {
   "cell_type": "code",
   "execution_count": 31,
   "metadata": {
    "colab": {
     "base_uri": "https://localhost:8080/"
    },
    "id": "IPEq0PJnjC7f",
    "outputId": "d11633cc-457d-4df9-a44b-8a77e8314bc7"
   },
   "outputs": [
    {
     "name": "stdout",
     "output_type": "stream",
     "text": [
      "['RG250' 'RG251' 'RG252' 'RG253' 'RG254' 'RG255' 'RG256' 'RG257' 'RG258'\n",
      " 'RG259' 'RG260' 'RG261' 'RG262' 'RG263' 'RG264' 'RG265' 'RG266' 'RG267'\n",
      " 'RG268' 'RG269' 'RG270' 'RG271' 'RG272' 'RG273' 'RG274' 'RG275' 'RG276'\n",
      " 'RG277' 'RG278' 'RG279' 'RG280' 'RG281' 'RG282' 'RG283' 'RG284']\n",
      "['RG250' 'RG251' 'RG252' 'RG253' 'RG254' 'RG255' 'RG256' 'RG257' 'RG258'\n",
      " 'RG259' 'RG260' 'RG261' 'RG262' 'RG263' 'RG264' 'RG265' 'RG266' 'RG267'\n",
      " 'RG268' 'RG269' 'RG270' 'RG271' 'RG272' 'RG273' 'RG274' 'RG275' 'RG276'\n",
      " 'RG277' 'RG278' 'RG279' 'RG280' 'RG281' 'RG282' 'RG283' 'RG284']\n"
     ]
    }
   ],
   "source": [
    "print(np.unique(train_data.Region_Code)); print(np.unique(sub_data.Region_Code))"
   ]
  },
  {
   "cell_type": "code",
   "execution_count": 32,
   "metadata": {
    "colab": {
     "base_uri": "https://localhost:8080/"
    },
    "id": "zTUzdICKj0-m",
    "outputId": "65e9a84d-eaed-4f19-ce25-9c496ca6aad6"
   },
   "outputs": [
    {
     "name": "stdout",
     "output_type": "stream",
     "text": [
      "['No' 'Yes']\n",
      "['No' 'Yes']\n"
     ]
    }
   ],
   "source": [
    "print(np.unique(train_data.Is_Active)); print(np.unique(sub_data.Is_Active))"
   ]
  },
  {
   "cell_type": "code",
   "execution_count": 49,
   "metadata": {
    "colab": {
     "base_uri": "https://localhost:8080/"
    },
    "id": "pIAUNc5blJ8U",
    "outputId": "2bd0a8e2-dc39-4d7b-95a4-ed6faf13e1ad"
   },
   "outputs": [
    {
     "name": "stdout",
     "output_type": "stream",
     "text": [
      "0\n",
      "0\n"
     ]
    }
   ],
   "source": [
    "print((train_data_og.groupby([\"ID\"]).size() > 1).sum()) ; print((sub_data_og.groupby([\"ID\"]).size() > 1).sum())"
   ]
  },
  {
   "cell_type": "code",
   "execution_count": 4,
   "metadata": {
    "colab": {
     "base_uri": "https://localhost:8080/",
     "height": 195
    },
    "id": "e5r2F1xPkuKs",
    "outputId": "113b1a1a-82fc-455c-84ff-6631900fe5cd"
   },
   "outputs": [
    {
     "data": {
      "text/html": [
       "<div>\n",
       "<style scoped>\n",
       "    .dataframe tbody tr th:only-of-type {\n",
       "        vertical-align: middle;\n",
       "    }\n",
       "\n",
       "    .dataframe tbody tr th {\n",
       "        vertical-align: top;\n",
       "    }\n",
       "\n",
       "    .dataframe thead th {\n",
       "        text-align: right;\n",
       "    }\n",
       "</style>\n",
       "<table border=\"1\" class=\"dataframe\">\n",
       "  <thead>\n",
       "    <tr style=\"text-align: right;\">\n",
       "      <th></th>\n",
       "      <th>Gender</th>\n",
       "      <th>Age</th>\n",
       "      <th>Region_Code</th>\n",
       "      <th>Occupation</th>\n",
       "      <th>Channel_Code</th>\n",
       "      <th>Vintage</th>\n",
       "      <th>Credit_Product</th>\n",
       "      <th>Avg_Account_Balance</th>\n",
       "      <th>Is_Active</th>\n",
       "      <th>Is_Lead</th>\n",
       "      <th>log_avg_ac_bal</th>\n",
       "    </tr>\n",
       "  </thead>\n",
       "  <tbody>\n",
       "    <tr>\n",
       "      <th>0</th>\n",
       "      <td>0</td>\n",
       "      <td>73</td>\n",
       "      <td>RG268</td>\n",
       "      <td>Other</td>\n",
       "      <td>X3</td>\n",
       "      <td>43</td>\n",
       "      <td>No</td>\n",
       "      <td>1045696</td>\n",
       "      <td>0</td>\n",
       "      <td>0</td>\n",
       "      <td>13.860193</td>\n",
       "    </tr>\n",
       "    <tr>\n",
       "      <th>1</th>\n",
       "      <td>0</td>\n",
       "      <td>30</td>\n",
       "      <td>RG277</td>\n",
       "      <td>Salaried</td>\n",
       "      <td>X1</td>\n",
       "      <td>32</td>\n",
       "      <td>No</td>\n",
       "      <td>581988</td>\n",
       "      <td>0</td>\n",
       "      <td>0</td>\n",
       "      <td>13.274205</td>\n",
       "    </tr>\n",
       "    <tr>\n",
       "      <th>2</th>\n",
       "      <td>0</td>\n",
       "      <td>56</td>\n",
       "      <td>RG268</td>\n",
       "      <td>Self_Employed</td>\n",
       "      <td>X3</td>\n",
       "      <td>26</td>\n",
       "      <td>No</td>\n",
       "      <td>1484315</td>\n",
       "      <td>1</td>\n",
       "      <td>0</td>\n",
       "      <td>14.210464</td>\n",
       "    </tr>\n",
       "    <tr>\n",
       "      <th>3</th>\n",
       "      <td>1</td>\n",
       "      <td>34</td>\n",
       "      <td>RG270</td>\n",
       "      <td>Salaried</td>\n",
       "      <td>X1</td>\n",
       "      <td>19</td>\n",
       "      <td>No</td>\n",
       "      <td>470454</td>\n",
       "      <td>0</td>\n",
       "      <td>0</td>\n",
       "      <td>13.061453</td>\n",
       "    </tr>\n",
       "    <tr>\n",
       "      <th>4</th>\n",
       "      <td>0</td>\n",
       "      <td>30</td>\n",
       "      <td>RG282</td>\n",
       "      <td>Salaried</td>\n",
       "      <td>X1</td>\n",
       "      <td>33</td>\n",
       "      <td>No</td>\n",
       "      <td>886787</td>\n",
       "      <td>0</td>\n",
       "      <td>0</td>\n",
       "      <td>13.695360</td>\n",
       "    </tr>\n",
       "  </tbody>\n",
       "</table>\n",
       "</div>"
      ],
      "text/plain": [
       "   Gender  Age Region_Code     Occupation Channel_Code  Vintage  \\\n",
       "0       0   73       RG268          Other           X3       43   \n",
       "1       0   30       RG277       Salaried           X1       32   \n",
       "2       0   56       RG268  Self_Employed           X3       26   \n",
       "3       1   34       RG270       Salaried           X1       19   \n",
       "4       0   30       RG282       Salaried           X1       33   \n",
       "\n",
       "  Credit_Product  Avg_Account_Balance  Is_Active  Is_Lead  log_avg_ac_bal  \n",
       "0             No              1045696          0        0       13.860193  \n",
       "1             No               581988          0        0       13.274205  \n",
       "2             No              1484315          1        0       14.210464  \n",
       "3             No               470454          0        0       13.061453  \n",
       "4             No               886787          0        0       13.695360  "
      ]
     },
     "execution_count": 4,
     "metadata": {},
     "output_type": "execute_result"
    }
   ],
   "source": [
    "def clean_data(dataset) :\n",
    "\n",
    "    op_set_1 = (dataset\n",
    "                .assign( log_avg_ac_bal = np.log(dataset.Avg_Account_Balance) ) # use np.where, dataset.replace, dataset.fillna\n",
    "                .assign(Credit_Product = dataset.Credit_Product.fillna(\"NA\"))\n",
    "                .assign(Gender = np.where(dataset.Gender == \"Male\", 1, 0 )) #- mean_enconding\n",
    "                .assign(Is_Active = np.where(dataset.Is_Active == \"Yes\", 1, 0 )) #- mean_enconding\n",
    "                #.query( \"colname = value\" )\n",
    "                .drop( [\"ID\"], axis = 1 )\n",
    "                )\n",
    "\n",
    "    return op_set_1\n",
    "\n",
    "train_data = clean_data(train_data_og)\n",
    "sub_data = clean_data(sub_data_og)\n",
    "\n",
    "train_data.head()"
   ]
  },
  {
   "cell_type": "code",
   "execution_count": 175,
   "metadata": {
    "colab": {
     "base_uri": "https://localhost:8080/",
     "height": 195
    },
    "id": "QOg6MIBUk0f9",
    "outputId": "217b8240-6c01-4834-c864-76461c1552b7"
   },
   "outputs": [
    {
     "data": {
      "text/html": [
       "<div>\n",
       "<style scoped>\n",
       "    .dataframe tbody tr th:only-of-type {\n",
       "        vertical-align: middle;\n",
       "    }\n",
       "\n",
       "    .dataframe tbody tr th {\n",
       "        vertical-align: top;\n",
       "    }\n",
       "\n",
       "    .dataframe thead th {\n",
       "        text-align: right;\n",
       "    }\n",
       "</style>\n",
       "<table border=\"1\" class=\"dataframe\">\n",
       "  <thead>\n",
       "    <tr style=\"text-align: right;\">\n",
       "      <th></th>\n",
       "      <th>Gender</th>\n",
       "      <th>Age</th>\n",
       "      <th>Region_Code</th>\n",
       "      <th>Occupation</th>\n",
       "      <th>Channel_Code</th>\n",
       "      <th>Vintage</th>\n",
       "      <th>Credit_Product</th>\n",
       "      <th>Is_Active</th>\n",
       "      <th>log_avg_ac_bal</th>\n",
       "      <th>VinByBal</th>\n",
       "      <th>perAgeBal</th>\n",
       "      <th>LogVinByBal</th>\n",
       "      <th>LogperAgeBal</th>\n",
       "    </tr>\n",
       "  </thead>\n",
       "  <tbody>\n",
       "    <tr>\n",
       "      <th>0</th>\n",
       "      <td>1</td>\n",
       "      <td>29</td>\n",
       "      <td>RG254</td>\n",
       "      <td>Other</td>\n",
       "      <td>X1</td>\n",
       "      <td>25</td>\n",
       "      <td>Yes</td>\n",
       "      <td>0</td>\n",
       "      <td>13.517598</td>\n",
       "      <td>29694.640000</td>\n",
       "      <td>25598.827586</td>\n",
       "      <td>0.540704</td>\n",
       "      <td>0.466124</td>\n",
       "    </tr>\n",
       "    <tr>\n",
       "      <th>1</th>\n",
       "      <td>1</td>\n",
       "      <td>43</td>\n",
       "      <td>RG268</td>\n",
       "      <td>Other</td>\n",
       "      <td>X2</td>\n",
       "      <td>49</td>\n",
       "      <td>NA</td>\n",
       "      <td>0</td>\n",
       "      <td>13.738129</td>\n",
       "      <td>18888.510204</td>\n",
       "      <td>21524.116279</td>\n",
       "      <td>0.280370</td>\n",
       "      <td>0.319491</td>\n",
       "    </tr>\n",
       "    <tr>\n",
       "      <th>2</th>\n",
       "      <td>1</td>\n",
       "      <td>31</td>\n",
       "      <td>RG270</td>\n",
       "      <td>Salaried</td>\n",
       "      <td>X1</td>\n",
       "      <td>14</td>\n",
       "      <td>No</td>\n",
       "      <td>0</td>\n",
       "      <td>12.282798</td>\n",
       "      <td>15424.928571</td>\n",
       "      <td>6966.096774</td>\n",
       "      <td>0.877343</td>\n",
       "      <td>0.396219</td>\n",
       "    </tr>\n",
       "    <tr>\n",
       "      <th>3</th>\n",
       "      <td>1</td>\n",
       "      <td>29</td>\n",
       "      <td>RG272</td>\n",
       "      <td>Other</td>\n",
       "      <td>X1</td>\n",
       "      <td>33</td>\n",
       "      <td>No</td>\n",
       "      <td>0</td>\n",
       "      <td>13.674028</td>\n",
       "      <td>26305.151515</td>\n",
       "      <td>29933.448276</td>\n",
       "      <td>0.414364</td>\n",
       "      <td>0.471518</td>\n",
       "    </tr>\n",
       "    <tr>\n",
       "      <th>4</th>\n",
       "      <td>0</td>\n",
       "      <td>29</td>\n",
       "      <td>RG270</td>\n",
       "      <td>Other</td>\n",
       "      <td>X1</td>\n",
       "      <td>19</td>\n",
       "      <td>No</td>\n",
       "      <td>0</td>\n",
       "      <td>13.395572</td>\n",
       "      <td>34583.526316</td>\n",
       "      <td>22658.172414</td>\n",
       "      <td>0.705030</td>\n",
       "      <td>0.461916</td>\n",
       "    </tr>\n",
       "  </tbody>\n",
       "</table>\n",
       "</div>"
      ],
      "text/plain": [
       "   Gender  Age Region_Code  ...     perAgeBal LogVinByBal  LogperAgeBal\n",
       "0       1   29       RG254  ...  25598.827586    0.540704      0.466124\n",
       "1       1   43       RG268  ...  21524.116279    0.280370      0.319491\n",
       "2       1   31       RG270  ...   6966.096774    0.877343      0.396219\n",
       "3       1   29       RG272  ...  29933.448276    0.414364      0.471518\n",
       "4       0   29       RG270  ...  22658.172414    0.705030      0.461916\n",
       "\n",
       "[5 rows x 13 columns]"
      ]
     },
     "execution_count": 175,
     "metadata": {
      "tags": []
     },
     "output_type": "execute_result"
    }
   ],
   "source": [
    "sub_data.head()"
   ]
  },
  {
   "cell_type": "markdown",
   "metadata": {
    "id": "ocn6NGJOm7ZX"
   },
   "source": [
    "Feature Enginerring - divide and multiply (A/B, A/B*C, A+B / C^D, etc)"
   ]
  },
  {
   "cell_type": "code",
   "execution_count": 5,
   "metadata": {
    "colab": {
     "base_uri": "https://localhost:8080/",
     "height": 195
    },
    "id": "kpGG32POm9K-",
    "outputId": "766883d2-7f2d-41d6-a149-1459df8c8136"
   },
   "outputs": [
    {
     "data": {
      "text/html": [
       "<div>\n",
       "<style scoped>\n",
       "    .dataframe tbody tr th:only-of-type {\n",
       "        vertical-align: middle;\n",
       "    }\n",
       "\n",
       "    .dataframe tbody tr th {\n",
       "        vertical-align: top;\n",
       "    }\n",
       "\n",
       "    .dataframe thead th {\n",
       "        text-align: right;\n",
       "    }\n",
       "</style>\n",
       "<table border=\"1\" class=\"dataframe\">\n",
       "  <thead>\n",
       "    <tr style=\"text-align: right;\">\n",
       "      <th></th>\n",
       "      <th>Gender</th>\n",
       "      <th>Age</th>\n",
       "      <th>Region_Code</th>\n",
       "      <th>Occupation</th>\n",
       "      <th>Channel_Code</th>\n",
       "      <th>Vintage</th>\n",
       "      <th>Credit_Product</th>\n",
       "      <th>Is_Active</th>\n",
       "      <th>Is_Lead</th>\n",
       "      <th>log_avg_ac_bal</th>\n",
       "      <th>VinByBal</th>\n",
       "      <th>perAgeBal</th>\n",
       "      <th>LogVinByBal</th>\n",
       "      <th>LogperAgeBal</th>\n",
       "    </tr>\n",
       "  </thead>\n",
       "  <tbody>\n",
       "    <tr>\n",
       "      <th>0</th>\n",
       "      <td>0</td>\n",
       "      <td>73</td>\n",
       "      <td>RG268</td>\n",
       "      <td>Other</td>\n",
       "      <td>X3</td>\n",
       "      <td>43</td>\n",
       "      <td>No</td>\n",
       "      <td>0</td>\n",
       "      <td>0</td>\n",
       "      <td>13.860193</td>\n",
       "      <td>24318.511628</td>\n",
       "      <td>14324.602740</td>\n",
       "      <td>0.322330</td>\n",
       "      <td>0.189866</td>\n",
       "    </tr>\n",
       "    <tr>\n",
       "      <th>1</th>\n",
       "      <td>0</td>\n",
       "      <td>30</td>\n",
       "      <td>RG277</td>\n",
       "      <td>Salaried</td>\n",
       "      <td>X1</td>\n",
       "      <td>32</td>\n",
       "      <td>No</td>\n",
       "      <td>0</td>\n",
       "      <td>0</td>\n",
       "      <td>13.274205</td>\n",
       "      <td>18187.125000</td>\n",
       "      <td>19399.600000</td>\n",
       "      <td>0.414819</td>\n",
       "      <td>0.442474</td>\n",
       "    </tr>\n",
       "    <tr>\n",
       "      <th>2</th>\n",
       "      <td>0</td>\n",
       "      <td>56</td>\n",
       "      <td>RG268</td>\n",
       "      <td>Self_Employed</td>\n",
       "      <td>X3</td>\n",
       "      <td>26</td>\n",
       "      <td>No</td>\n",
       "      <td>1</td>\n",
       "      <td>0</td>\n",
       "      <td>14.210464</td>\n",
       "      <td>57089.038462</td>\n",
       "      <td>26505.625000</td>\n",
       "      <td>0.546556</td>\n",
       "      <td>0.253758</td>\n",
       "    </tr>\n",
       "    <tr>\n",
       "      <th>3</th>\n",
       "      <td>1</td>\n",
       "      <td>34</td>\n",
       "      <td>RG270</td>\n",
       "      <td>Salaried</td>\n",
       "      <td>X1</td>\n",
       "      <td>19</td>\n",
       "      <td>No</td>\n",
       "      <td>0</td>\n",
       "      <td>0</td>\n",
       "      <td>13.061453</td>\n",
       "      <td>24760.736842</td>\n",
       "      <td>13836.882353</td>\n",
       "      <td>0.687445</td>\n",
       "      <td>0.384160</td>\n",
       "    </tr>\n",
       "    <tr>\n",
       "      <th>4</th>\n",
       "      <td>0</td>\n",
       "      <td>30</td>\n",
       "      <td>RG282</td>\n",
       "      <td>Salaried</td>\n",
       "      <td>X1</td>\n",
       "      <td>33</td>\n",
       "      <td>No</td>\n",
       "      <td>0</td>\n",
       "      <td>0</td>\n",
       "      <td>13.695360</td>\n",
       "      <td>26872.333333</td>\n",
       "      <td>29559.566667</td>\n",
       "      <td>0.415011</td>\n",
       "      <td>0.456512</td>\n",
       "    </tr>\n",
       "  </tbody>\n",
       "</table>\n",
       "</div>"
      ],
      "text/plain": [
       "   Gender  Age Region_Code     Occupation Channel_Code  Vintage  \\\n",
       "0       0   73       RG268          Other           X3       43   \n",
       "1       0   30       RG277       Salaried           X1       32   \n",
       "2       0   56       RG268  Self_Employed           X3       26   \n",
       "3       1   34       RG270       Salaried           X1       19   \n",
       "4       0   30       RG282       Salaried           X1       33   \n",
       "\n",
       "  Credit_Product  Is_Active  Is_Lead  log_avg_ac_bal      VinByBal  \\\n",
       "0             No          0        0       13.860193  24318.511628   \n",
       "1             No          0        0       13.274205  18187.125000   \n",
       "2             No          1        0       14.210464  57089.038462   \n",
       "3             No          0        0       13.061453  24760.736842   \n",
       "4             No          0        0       13.695360  26872.333333   \n",
       "\n",
       "      perAgeBal  LogVinByBal  LogperAgeBal  \n",
       "0  14324.602740     0.322330      0.189866  \n",
       "1  19399.600000     0.414819      0.442474  \n",
       "2  26505.625000     0.546556      0.253758  \n",
       "3  13836.882353     0.687445      0.384160  \n",
       "4  29559.566667     0.415011      0.456512  "
      ]
     },
     "execution_count": 5,
     "metadata": {},
     "output_type": "execute_result"
    }
   ],
   "source": [
    "def feature_eng(dataset) :\n",
    "    \n",
    "    op_set_2 = (dataset\n",
    "                .assign( VinByBal = dataset.Avg_Account_Balance / dataset.Vintage )\n",
    "                .assign(perAgeBal = dataset.Avg_Account_Balance / dataset.Age)\n",
    "                .assign( LogVinByBal = dataset.log_avg_ac_bal / dataset.Vintage )\n",
    "                .assign(LogperAgeBal = dataset.log_avg_ac_bal / dataset.Age)\n",
    "                .drop([\"Avg_Account_Balance\"], axis = 1)\n",
    "               )\n",
    "    \n",
    "    return op_set_2\n",
    "\n",
    "train_data = feature_eng(train_data)\n",
    "sub_data = feature_eng(sub_data)\n",
    "train_data.head()"
   ]
  },
  {
   "cell_type": "code",
   "execution_count": 198,
   "metadata": {
    "colab": {
     "base_uri": "https://localhost:8080/",
     "height": 195
    },
    "id": "wiRO-B81_GR3",
    "outputId": "d290623d-4be8-40f1-9429-2914508a5ac9"
   },
   "outputs": [
    {
     "data": {
      "text/html": [
       "<div>\n",
       "<style scoped>\n",
       "    .dataframe tbody tr th:only-of-type {\n",
       "        vertical-align: middle;\n",
       "    }\n",
       "\n",
       "    .dataframe tbody tr th {\n",
       "        vertical-align: top;\n",
       "    }\n",
       "\n",
       "    .dataframe thead th {\n",
       "        text-align: right;\n",
       "    }\n",
       "</style>\n",
       "<table border=\"1\" class=\"dataframe\">\n",
       "  <thead>\n",
       "    <tr style=\"text-align: right;\">\n",
       "      <th></th>\n",
       "      <th>Gender</th>\n",
       "      <th>Age</th>\n",
       "      <th>Region_Code</th>\n",
       "      <th>Occupation</th>\n",
       "      <th>Channel_Code</th>\n",
       "      <th>Vintage</th>\n",
       "      <th>Credit_Product</th>\n",
       "      <th>Is_Active</th>\n",
       "      <th>log_avg_ac_bal</th>\n",
       "      <th>VinByBal</th>\n",
       "      <th>perAgeBal</th>\n",
       "      <th>LogVinByBal</th>\n",
       "      <th>LogperAgeBal</th>\n",
       "    </tr>\n",
       "  </thead>\n",
       "  <tbody>\n",
       "    <tr>\n",
       "      <th>0</th>\n",
       "      <td>1</td>\n",
       "      <td>29</td>\n",
       "      <td>RG254</td>\n",
       "      <td>Other</td>\n",
       "      <td>X1</td>\n",
       "      <td>25</td>\n",
       "      <td>Yes</td>\n",
       "      <td>0</td>\n",
       "      <td>13.517598</td>\n",
       "      <td>29694.640000</td>\n",
       "      <td>25598.827586</td>\n",
       "      <td>0.540704</td>\n",
       "      <td>0.466124</td>\n",
       "    </tr>\n",
       "    <tr>\n",
       "      <th>1</th>\n",
       "      <td>1</td>\n",
       "      <td>43</td>\n",
       "      <td>RG268</td>\n",
       "      <td>Other</td>\n",
       "      <td>X2</td>\n",
       "      <td>49</td>\n",
       "      <td>NA</td>\n",
       "      <td>0</td>\n",
       "      <td>13.738129</td>\n",
       "      <td>18888.510204</td>\n",
       "      <td>21524.116279</td>\n",
       "      <td>0.280370</td>\n",
       "      <td>0.319491</td>\n",
       "    </tr>\n",
       "    <tr>\n",
       "      <th>2</th>\n",
       "      <td>1</td>\n",
       "      <td>31</td>\n",
       "      <td>RG270</td>\n",
       "      <td>Salaried</td>\n",
       "      <td>X1</td>\n",
       "      <td>14</td>\n",
       "      <td>No</td>\n",
       "      <td>0</td>\n",
       "      <td>12.282798</td>\n",
       "      <td>15424.928571</td>\n",
       "      <td>6966.096774</td>\n",
       "      <td>0.877343</td>\n",
       "      <td>0.396219</td>\n",
       "    </tr>\n",
       "    <tr>\n",
       "      <th>3</th>\n",
       "      <td>1</td>\n",
       "      <td>29</td>\n",
       "      <td>RG272</td>\n",
       "      <td>Other</td>\n",
       "      <td>X1</td>\n",
       "      <td>33</td>\n",
       "      <td>No</td>\n",
       "      <td>0</td>\n",
       "      <td>13.674028</td>\n",
       "      <td>26305.151515</td>\n",
       "      <td>29933.448276</td>\n",
       "      <td>0.414364</td>\n",
       "      <td>0.471518</td>\n",
       "    </tr>\n",
       "    <tr>\n",
       "      <th>4</th>\n",
       "      <td>0</td>\n",
       "      <td>29</td>\n",
       "      <td>RG270</td>\n",
       "      <td>Other</td>\n",
       "      <td>X1</td>\n",
       "      <td>19</td>\n",
       "      <td>No</td>\n",
       "      <td>0</td>\n",
       "      <td>13.395572</td>\n",
       "      <td>34583.526316</td>\n",
       "      <td>22658.172414</td>\n",
       "      <td>0.705030</td>\n",
       "      <td>0.461916</td>\n",
       "    </tr>\n",
       "  </tbody>\n",
       "</table>\n",
       "</div>"
      ],
      "text/plain": [
       "   Gender  Age Region_Code  ...     perAgeBal LogVinByBal  LogperAgeBal\n",
       "0       1   29       RG254  ...  25598.827586    0.540704      0.466124\n",
       "1       1   43       RG268  ...  21524.116279    0.280370      0.319491\n",
       "2       1   31       RG270  ...   6966.096774    0.877343      0.396219\n",
       "3       1   29       RG272  ...  29933.448276    0.414364      0.471518\n",
       "4       0   29       RG270  ...  22658.172414    0.705030      0.461916\n",
       "\n",
       "[5 rows x 13 columns]"
      ]
     },
     "execution_count": 198,
     "metadata": {
      "tags": []
     },
     "output_type": "execute_result"
    }
   ],
   "source": [
    "sub_data.head()"
   ]
  },
  {
   "cell_type": "markdown",
   "metadata": {
    "id": "LIr82FI6kylK"
   },
   "source": [
    "## EDA\n",
    "\n",
    "seaborn or pandas plot as required.  \n",
    "verify labels truth (balanced class) - a new column called sample_weights may be helpful for noisy data.\n",
    "Remember length of decimal was important (leakage) in a competition."
   ]
  },
  {
   "cell_type": "markdown",
   "metadata": {
    "id": "MKQBxCpY95ao"
   },
   "source": [
    "Make all charts automated!"
   ]
  },
  {
   "cell_type": "code",
   "execution_count": null,
   "metadata": {
    "id": "zTDSxd2Y94bp"
   },
   "outputs": [],
   "source": []
  },
  {
   "cell_type": "markdown",
   "metadata": {
    "id": "-8RfdmJcvA5l"
   },
   "source": [
    "### Distribution"
   ]
  },
  {
   "cell_type": "code",
   "execution_count": 9,
   "metadata": {
    "colab": {
     "base_uri": "https://localhost:8080/"
    },
    "id": "jDJWMoRLg-HP",
    "outputId": "d1dfd7dd-334c-49e6-eda4-e19c7123f17f"
   },
   "outputs": [
    {
     "data": {
      "text/plain": [
       "Index(['ID', 'Gender', 'Age', 'Region_Code', 'Occupation', 'Channel_Code',\n",
       "       'Vintage', 'Credit_Product', 'Avg_Account_Balance', 'Is_Active',\n",
       "       'Is_Lead'],\n",
       "      dtype='object')"
      ]
     },
     "execution_count": 9,
     "metadata": {
      "tags": []
     },
     "output_type": "execute_result"
    }
   ],
   "source": [
    "train_data.columns"
   ]
  },
  {
   "cell_type": "code",
   "execution_count": 33,
   "metadata": {
    "colab": {
     "base_uri": "https://localhost:8080/",
     "height": 442
    },
    "id": "LH1_wN1Og9Sy",
    "outputId": "070cd1a1-cccf-409b-a043-bc5de9c5dc89"
   },
   "outputs": [
    {
     "name": "stderr",
     "output_type": "stream",
     "text": [
      "`distplot` is a deprecated function and will be removed in a future version. Please adapt your code to use either `displot` (a figure-level function with similar flexibility) or `histplot` (an axes-level function for histograms).\n"
     ]
    },
    {
     "data": {
      "text/plain": [
       "<matplotlib.axes._subplots.AxesSubplot at 0x7fcd7ffd1410>"
      ]
     },
     "execution_count": 33,
     "metadata": {
      "tags": []
     },
     "output_type": "execute_result"
    },
    {
     "data": {
      "image/png": "[encoded data removed]",
      "text/plain": [
       "<Figure size 1440x432 with 1 Axes>"
      ]
     },
     "metadata": {
      "needs_background": "light",
      "tags": []
     },
     "output_type": "display_data"
    }
   ],
   "source": [
    "sns.distplot(train_data.Age)"
   ]
  },
  {
   "cell_type": "code",
   "execution_count": 35,
   "metadata": {
    "colab": {
     "base_uri": "https://localhost:8080/",
     "height": 442
    },
    "id": "n6e1GhiDkOvg",
    "outputId": "ab7e9b02-0814-41bb-daf8-8a5ae98893f4"
   },
   "outputs": [
    {
     "name": "stderr",
     "output_type": "stream",
     "text": [
      "`distplot` is a deprecated function and will be removed in a future version. Please adapt your code to use either `displot` (a figure-level function with similar flexibility) or `histplot` (an axes-level function for histograms).\n"
     ]
    },
    {
     "data": {
      "text/plain": [
       "<matplotlib.axes._subplots.AxesSubplot at 0x7fcd80d11e10>"
      ]
     },
     "execution_count": 35,
     "metadata": {
      "tags": []
     },
     "output_type": "execute_result"
    },
    {
     "data": {
      "image/png": "[encoded data removed]",
      "text/plain": [
       "<Figure size 1440x432 with 1 Axes>"
      ]
     },
     "metadata": {
      "needs_background": "light",
      "tags": []
     },
     "output_type": "display_data"
    }
   ],
   "source": [
    "sns.distplot(np.log(train_data.Avg_Account_Balance))"
   ]
  },
  {
   "cell_type": "code",
   "execution_count": 41,
   "metadata": {
    "colab": {
     "base_uri": "https://localhost:8080/",
     "height": 442
    },
    "id": "IuW-PJ-Dk5yh",
    "outputId": "a4aa8414-139d-4acd-8e72-8fe6c42d34cf"
   },
   "outputs": [
    {
     "name": "stderr",
     "output_type": "stream",
     "text": [
      "`distplot` is a deprecated function and will be removed in a future version. Please adapt your code to use either `displot` (a figure-level function with similar flexibility) or `histplot` (an axes-level function for histograms).\n"
     ]
    },
    {
     "data": {
      "text/plain": [
       "<matplotlib.axes._subplots.AxesSubplot at 0x7fcd80403d90>"
      ]
     },
     "execution_count": 41,
     "metadata": {
      "tags": []
     },
     "output_type": "execute_result"
    },
    {
     "data": {
      "image/png": "[encoded data removed]",
      "text/plain": [
       "<Figure size 1440x432 with 1 Axes>"
      ]
     },
     "metadata": {
      "needs_background": "light",
      "tags": []
     },
     "output_type": "display_data"
    }
   ],
   "source": [
    "sns.distplot(np.log(train_data.Vintage))"
   ]
  },
  {
   "cell_type": "markdown",
   "metadata": {
    "id": "1CwMozOik13K"
   },
   "source": [
    "### Univariate\n",
    "\n",
    "Distributions, Outliers"
   ]
  },
  {
   "cell_type": "code",
   "execution_count": 25,
   "metadata": {
    "colab": {
     "base_uri": "https://localhost:8080/",
     "height": 426
    },
    "id": "LBwNYdi6k3uy",
    "outputId": "50f48fd0-30b9-4688-fa62-9859f3a6e23a"
   },
   "outputs": [
    {
     "name": "stderr",
     "output_type": "stream",
     "text": [
      "Pass the following variable as a keyword arg: x. From version 0.12, the only valid positional argument will be `data`, and passing other arguments without an explicit keyword will result in an error or misinterpretation.\n"
     ]
    },
    {
     "data": {
      "image/png": "[encoded data removed]",
      "text/plain": [
       "<Figure size 1440x432 with 1 Axes>"
      ]
     },
     "metadata": {
      "needs_background": "light",
      "tags": []
     },
     "output_type": "display_data"
    }
   ],
   "source": [
    "#plt.subplot(1,2,1)\n",
    "sns.countplot(train_data.Is_Lead, order = train_data.Is_Lead.value_counts().index )\n",
    "#plt.subplot(1,2,2)\n",
    "#sns.countplot(sub_data.Is_Lead, order = [1,2,3,4])\n",
    "plt.show()"
   ]
  },
  {
   "cell_type": "code",
   "execution_count": 24,
   "metadata": {
    "colab": {
     "base_uri": "https://localhost:8080/",
     "height": 442
    },
    "id": "LhwbKUeZiUug",
    "outputId": "77317c3e-8489-4ee7-faf1-cf21f918b013"
   },
   "outputs": [
    {
     "name": "stderr",
     "output_type": "stream",
     "text": [
      "Pass the following variable as a keyword arg: x. From version 0.12, the only valid positional argument will be `data`, and passing other arguments without an explicit keyword will result in an error or misinterpretation.\n",
      "Pass the following variable as a keyword arg: x. From version 0.12, the only valid positional argument will be `data`, and passing other arguments without an explicit keyword will result in an error or misinterpretation.\n"
     ]
    },
    {
     "data": {
      "image/png": "[encoded data removed]",
      "text/plain": [
       "<Figure size 1440x432 with 2 Axes>"
      ]
     },
     "metadata": {
      "needs_background": "light",
      "tags": []
     },
     "output_type": "display_data"
    }
   ],
   "source": [
    "plt.subplot(1,2,1)\n",
    "sns.countplot(train_data.Region_Code )\n",
    "plt.subplot(1,2,2)\n",
    "sns.countplot(sub_data.Region_Code)\n",
    "plt.show()"
   ]
  },
  {
   "cell_type": "markdown",
   "metadata": {
    "id": "oWDE2fUvk4Gi"
   },
   "source": [
    "### Bivariate\n",
    "\n",
    "Comparision, corelation"
   ]
  },
  {
   "cell_type": "code",
   "execution_count": null,
   "metadata": {
    "id": "ZRRAHHJ9k9uZ"
   },
   "outputs": [],
   "source": [
    "plt.subplot(1,2,1)\n",
    "sns.countplot(train_data.XXX, order = train_data.xxx.values_count().index )\n",
    "plt.subplot(1,2,2)\n",
    "sns.countplot(sub_data.XXX, order = [1,2,3,4])\n",
    "plt.show()"
   ]
  },
  {
   "cell_type": "markdown",
   "metadata": {
    "id": "a2LwraaKk-f2"
   },
   "source": [
    "### With sub_data\n",
    "\n",
    "Submit pattern, cv on, splitted on"
   ]
  },
  {
   "cell_type": "code",
   "execution_count": null,
   "metadata": {
    "id": "PHvJLxC3lDC-"
   },
   "outputs": [],
   "source": []
  },
  {
   "cell_type": "markdown",
   "metadata": {
    "id": "POPDGccol9av"
   },
   "source": [
    "## Data Validation\n",
    "\n",
    "Replace xxx with proper data  \n",
    "\n",
    "1) Random split\n",
    "2) Catogorical split\n",
    "3) Time based split"
   ]
  },
  {
   "cell_type": "code",
   "execution_count": 6,
   "metadata": {
    "id": "PjZWAWq3mA6_"
   },
   "outputs": [],
   "source": [
    "X = train_data.drop(['Is_Lead'], axis = 1)\n",
    "y = train_data[\"Is_Lead\"]\n",
    "\n",
    "cat_train, cat_test, y_train, y_test = train_test_split(X, y, test_size = 0.25, train_size = 0.75, stratify = train_data[\"Is_Lead\"], random_state = 42)\n",
    "\n",
    "X = train_data.drop(['Is_Lead', 'Region_Code'], axis = 1)\n",
    "X = pd.get_dummies(X) #, dummy_na = True\n",
    "X_sub = sub_data.drop([\"Region_Code\"], axis = 1)\n",
    "X_sub = pd.get_dummies(X_sub)\n",
    "\n",
    "X_train, X_test, y_train, y_test = train_test_split(X, y, test_size = 0.25, train_size = 0.75, stratify = train_data[\"Is_Lead\"], random_state = 42)"
   ]
  },
  {
   "cell_type": "code",
   "execution_count": 7,
   "metadata": {
    "colab": {
     "base_uri": "https://localhost:8080/"
    },
    "id": "oWov4F1X4fS4",
    "outputId": "9c80b831-1e4a-47b9-b3ce-995b559fe553"
   },
   "outputs": [
    {
     "name": "stdout",
     "output_type": "stream",
     "text": [
      "Train set rows 184293, cols 20 and y is 184293\n",
      "Test set rows 61432, cols 20 and y is 61432\n",
      "Submission set rows 105312, cols 20 and y is to be predicted\n"
     ]
    }
   ],
   "source": [
    "print(\"Train set rows %s, cols %s and y is %s\" % (X_train.shape[0], X_train.shape[1], y_train.shape[0]))\n",
    "print(\"Test set rows %s, cols %s and y is %s\" % (X_test.shape[0], X_test.shape[1], y_test.shape[0]))\n",
    "print(\"Submission set rows %s, cols %s and y is to be predicted\" % (X_sub.shape[0], X_sub.shape[1]))"
   ]
  },
  {
   "cell_type": "code",
   "execution_count": 225,
   "metadata": {
    "colab": {
     "base_uri": "https://localhost:8080/",
     "height": 195
    },
    "id": "FDYFlgFDH-b9",
    "outputId": "ae480c67-14af-470b-b795-5c8014543d2f"
   },
   "outputs": [
    {
     "data": {
      "text/html": [
       "<div>\n",
       "<style scoped>\n",
       "    .dataframe tbody tr th:only-of-type {\n",
       "        vertical-align: middle;\n",
       "    }\n",
       "\n",
       "    .dataframe tbody tr th {\n",
       "        vertical-align: top;\n",
       "    }\n",
       "\n",
       "    .dataframe thead th {\n",
       "        text-align: right;\n",
       "    }\n",
       "</style>\n",
       "<table border=\"1\" class=\"dataframe\">\n",
       "  <thead>\n",
       "    <tr style=\"text-align: right;\">\n",
       "      <th></th>\n",
       "      <th>Gender</th>\n",
       "      <th>Age</th>\n",
       "      <th>Region_Code</th>\n",
       "      <th>Occupation</th>\n",
       "      <th>Channel_Code</th>\n",
       "      <th>Vintage</th>\n",
       "      <th>Credit_Product</th>\n",
       "      <th>Is_Active</th>\n",
       "      <th>log_avg_ac_bal</th>\n",
       "      <th>VinByBal</th>\n",
       "      <th>perAgeBal</th>\n",
       "      <th>LogVinByBal</th>\n",
       "      <th>LogperAgeBal</th>\n",
       "    </tr>\n",
       "  </thead>\n",
       "  <tbody>\n",
       "    <tr>\n",
       "      <th>194686</th>\n",
       "      <td>0</td>\n",
       "      <td>58</td>\n",
       "      <td>RG268</td>\n",
       "      <td>Self_Employed</td>\n",
       "      <td>X3</td>\n",
       "      <td>104</td>\n",
       "      <td>Yes</td>\n",
       "      <td>0</td>\n",
       "      <td>14.760818</td>\n",
       "      <td>24746.192308</td>\n",
       "      <td>44372.482759</td>\n",
       "      <td>0.141931</td>\n",
       "      <td>0.254497</td>\n",
       "    </tr>\n",
       "    <tr>\n",
       "      <th>118406</th>\n",
       "      <td>0</td>\n",
       "      <td>62</td>\n",
       "      <td>RG268</td>\n",
       "      <td>Other</td>\n",
       "      <td>X1</td>\n",
       "      <td>20</td>\n",
       "      <td>Yes</td>\n",
       "      <td>0</td>\n",
       "      <td>14.512880</td>\n",
       "      <td>100423.150000</td>\n",
       "      <td>32394.564516</td>\n",
       "      <td>0.725644</td>\n",
       "      <td>0.234079</td>\n",
       "    </tr>\n",
       "    <tr>\n",
       "      <th>148269</th>\n",
       "      <td>0</td>\n",
       "      <td>51</td>\n",
       "      <td>RG254</td>\n",
       "      <td>Other</td>\n",
       "      <td>X3</td>\n",
       "      <td>128</td>\n",
       "      <td>No</td>\n",
       "      <td>1</td>\n",
       "      <td>14.140844</td>\n",
       "      <td>10816.343750</td>\n",
       "      <td>27146.901961</td>\n",
       "      <td>0.110475</td>\n",
       "      <td>0.277271</td>\n",
       "    </tr>\n",
       "    <tr>\n",
       "      <th>11222</th>\n",
       "      <td>1</td>\n",
       "      <td>28</td>\n",
       "      <td>RG254</td>\n",
       "      <td>Other</td>\n",
       "      <td>X1</td>\n",
       "      <td>26</td>\n",
       "      <td>No</td>\n",
       "      <td>0</td>\n",
       "      <td>14.624520</td>\n",
       "      <td>86372.423077</td>\n",
       "      <td>80202.964286</td>\n",
       "      <td>0.562482</td>\n",
       "      <td>0.522304</td>\n",
       "    </tr>\n",
       "    <tr>\n",
       "      <th>44128</th>\n",
       "      <td>0</td>\n",
       "      <td>26</td>\n",
       "      <td>RG268</td>\n",
       "      <td>Salaried</td>\n",
       "      <td>X1</td>\n",
       "      <td>15</td>\n",
       "      <td>No</td>\n",
       "      <td>1</td>\n",
       "      <td>14.640057</td>\n",
       "      <td>152056.466667</td>\n",
       "      <td>87724.884615</td>\n",
       "      <td>0.976004</td>\n",
       "      <td>0.563079</td>\n",
       "    </tr>\n",
       "  </tbody>\n",
       "</table>\n",
       "</div>"
      ],
      "text/plain": [
       "        Gender  Age Region_Code  ...     perAgeBal LogVinByBal  LogperAgeBal\n",
       "194686       0   58       RG268  ...  44372.482759    0.141931      0.254497\n",
       "118406       0   62       RG268  ...  32394.564516    0.725644      0.234079\n",
       "148269       0   51       RG254  ...  27146.901961    0.110475      0.277271\n",
       "11222        1   28       RG254  ...  80202.964286    0.562482      0.522304\n",
       "44128        0   26       RG268  ...  87724.884615    0.976004      0.563079\n",
       "\n",
       "[5 rows x 13 columns]"
      ]
     },
     "execution_count": 225,
     "metadata": {
      "tags": []
     },
     "output_type": "execute_result"
    }
   ],
   "source": [
    "cat_train.head()"
   ]
  },
  {
   "cell_type": "code",
   "execution_count": 226,
   "metadata": {
    "colab": {
     "base_uri": "https://localhost:8080/",
     "height": 215
    },
    "id": "UY9B9dwrIAxo",
    "outputId": "c23b6b5e-35aa-4952-c970-87e1a28854b8"
   },
   "outputs": [
    {
     "data": {
      "text/html": [
       "<div>\n",
       "<style scoped>\n",
       "    .dataframe tbody tr th:only-of-type {\n",
       "        vertical-align: middle;\n",
       "    }\n",
       "\n",
       "    .dataframe tbody tr th {\n",
       "        vertical-align: top;\n",
       "    }\n",
       "\n",
       "    .dataframe thead th {\n",
       "        text-align: right;\n",
       "    }\n",
       "</style>\n",
       "<table border=\"1\" class=\"dataframe\">\n",
       "  <thead>\n",
       "    <tr style=\"text-align: right;\">\n",
       "      <th></th>\n",
       "      <th>Gender</th>\n",
       "      <th>Age</th>\n",
       "      <th>Vintage</th>\n",
       "      <th>Is_Active</th>\n",
       "      <th>log_avg_ac_bal</th>\n",
       "      <th>VinByBal</th>\n",
       "      <th>perAgeBal</th>\n",
       "      <th>LogVinByBal</th>\n",
       "      <th>LogperAgeBal</th>\n",
       "      <th>Occupation_Entrepreneur</th>\n",
       "      <th>Occupation_Other</th>\n",
       "      <th>Occupation_Salaried</th>\n",
       "      <th>Occupation_Self_Employed</th>\n",
       "      <th>Channel_Code_X1</th>\n",
       "      <th>Channel_Code_X2</th>\n",
       "      <th>Channel_Code_X3</th>\n",
       "      <th>Channel_Code_X4</th>\n",
       "      <th>Credit_Product_NA</th>\n",
       "      <th>Credit_Product_No</th>\n",
       "      <th>Credit_Product_Yes</th>\n",
       "    </tr>\n",
       "  </thead>\n",
       "  <tbody>\n",
       "    <tr>\n",
       "      <th>194686</th>\n",
       "      <td>0</td>\n",
       "      <td>58</td>\n",
       "      <td>104</td>\n",
       "      <td>0</td>\n",
       "      <td>14.760818</td>\n",
       "      <td>24746.192308</td>\n",
       "      <td>44372.482759</td>\n",
       "      <td>0.141931</td>\n",
       "      <td>0.254497</td>\n",
       "      <td>0</td>\n",
       "      <td>0</td>\n",
       "      <td>0</td>\n",
       "      <td>1</td>\n",
       "      <td>0</td>\n",
       "      <td>0</td>\n",
       "      <td>1</td>\n",
       "      <td>0</td>\n",
       "      <td>0</td>\n",
       "      <td>0</td>\n",
       "      <td>1</td>\n",
       "    </tr>\n",
       "    <tr>\n",
       "      <th>118406</th>\n",
       "      <td>0</td>\n",
       "      <td>62</td>\n",
       "      <td>20</td>\n",
       "      <td>0</td>\n",
       "      <td>14.512880</td>\n",
       "      <td>100423.150000</td>\n",
       "      <td>32394.564516</td>\n",
       "      <td>0.725644</td>\n",
       "      <td>0.234079</td>\n",
       "      <td>0</td>\n",
       "      <td>1</td>\n",
       "      <td>0</td>\n",
       "      <td>0</td>\n",
       "      <td>1</td>\n",
       "      <td>0</td>\n",
       "      <td>0</td>\n",
       "      <td>0</td>\n",
       "      <td>0</td>\n",
       "      <td>0</td>\n",
       "      <td>1</td>\n",
       "    </tr>\n",
       "    <tr>\n",
       "      <th>148269</th>\n",
       "      <td>0</td>\n",
       "      <td>51</td>\n",
       "      <td>128</td>\n",
       "      <td>1</td>\n",
       "      <td>14.140844</td>\n",
       "      <td>10816.343750</td>\n",
       "      <td>27146.901961</td>\n",
       "      <td>0.110475</td>\n",
       "      <td>0.277271</td>\n",
       "      <td>0</td>\n",
       "      <td>1</td>\n",
       "      <td>0</td>\n",
       "      <td>0</td>\n",
       "      <td>0</td>\n",
       "      <td>0</td>\n",
       "      <td>1</td>\n",
       "      <td>0</td>\n",
       "      <td>0</td>\n",
       "      <td>1</td>\n",
       "      <td>0</td>\n",
       "    </tr>\n",
       "    <tr>\n",
       "      <th>11222</th>\n",
       "      <td>1</td>\n",
       "      <td>28</td>\n",
       "      <td>26</td>\n",
       "      <td>0</td>\n",
       "      <td>14.624520</td>\n",
       "      <td>86372.423077</td>\n",
       "      <td>80202.964286</td>\n",
       "      <td>0.562482</td>\n",
       "      <td>0.522304</td>\n",
       "      <td>0</td>\n",
       "      <td>1</td>\n",
       "      <td>0</td>\n",
       "      <td>0</td>\n",
       "      <td>1</td>\n",
       "      <td>0</td>\n",
       "      <td>0</td>\n",
       "      <td>0</td>\n",
       "      <td>0</td>\n",
       "      <td>1</td>\n",
       "      <td>0</td>\n",
       "    </tr>\n",
       "    <tr>\n",
       "      <th>44128</th>\n",
       "      <td>0</td>\n",
       "      <td>26</td>\n",
       "      <td>15</td>\n",
       "      <td>1</td>\n",
       "      <td>14.640057</td>\n",
       "      <td>152056.466667</td>\n",
       "      <td>87724.884615</td>\n",
       "      <td>0.976004</td>\n",
       "      <td>0.563079</td>\n",
       "      <td>0</td>\n",
       "      <td>0</td>\n",
       "      <td>1</td>\n",
       "      <td>0</td>\n",
       "      <td>1</td>\n",
       "      <td>0</td>\n",
       "      <td>0</td>\n",
       "      <td>0</td>\n",
       "      <td>0</td>\n",
       "      <td>1</td>\n",
       "      <td>0</td>\n",
       "    </tr>\n",
       "  </tbody>\n",
       "</table>\n",
       "</div>"
      ],
      "text/plain": [
       "        Gender  Age  ...  Credit_Product_No  Credit_Product_Yes\n",
       "194686       0   58  ...                  0                   1\n",
       "118406       0   62  ...                  0                   1\n",
       "148269       0   51  ...                  1                   0\n",
       "11222        1   28  ...                  1                   0\n",
       "44128        0   26  ...                  1                   0\n",
       "\n",
       "[5 rows x 20 columns]"
      ]
     },
     "execution_count": 226,
     "metadata": {
      "tags": []
     },
     "output_type": "execute_result"
    }
   ],
   "source": [
    "X_train.head()"
   ]
  },
  {
   "cell_type": "code",
   "execution_count": null,
   "metadata": {
    "id": "E4srHMrg256_"
   },
   "outputs": [],
   "source": [
    "# # Run only if required\n",
    "\n",
    "# for x in set(X_train.columns) - set(X_sub.columns) :\n",
    "#     X_sub[x] = 0\n",
    "\n",
    "# X_sub = X_sub[X.columns]\n",
    "    \n",
    "# print(\"Submission set rows %s, cols %s and y is to be predicted\" % (X_sub.shape[0], X_sub.shape[1]))"
   ]
  },
  {
   "cell_type": "markdown",
   "metadata": {
    "id": "gqUF0Yarmi1n"
   },
   "source": [
    "### Mean Encoding\n",
    "- shouldn't ME be only on train data. Average from Validation causes leakages."
   ]
  },
  {
   "cell_type": "code",
   "execution_count": 220,
   "metadata": {
    "colab": {
     "base_uri": "https://localhost:8080/",
     "height": 195
    },
    "id": "_qDz9Fdrnx6Q",
    "outputId": "c56b553e-c4b5-4385-a91b-607e68f2fc0f"
   },
   "outputs": [
    {
     "data": {
      "text/html": [
       "<div>\n",
       "<style scoped>\n",
       "    .dataframe tbody tr th:only-of-type {\n",
       "        vertical-align: middle;\n",
       "    }\n",
       "\n",
       "    .dataframe tbody tr th {\n",
       "        vertical-align: top;\n",
       "    }\n",
       "\n",
       "    .dataframe thead th {\n",
       "        text-align: right;\n",
       "    }\n",
       "</style>\n",
       "<table border=\"1\" class=\"dataframe\">\n",
       "  <thead>\n",
       "    <tr style=\"text-align: right;\">\n",
       "      <th></th>\n",
       "      <th>Gender</th>\n",
       "      <th>Age</th>\n",
       "      <th>Occupation</th>\n",
       "      <th>Channel_Code</th>\n",
       "      <th>Vintage</th>\n",
       "      <th>Credit_Product</th>\n",
       "      <th>Is_Active</th>\n",
       "      <th>log_avg_ac_bal</th>\n",
       "      <th>VinByBal</th>\n",
       "      <th>perAgeBal</th>\n",
       "      <th>LogVinByBal</th>\n",
       "      <th>LogperAgeBal</th>\n",
       "    </tr>\n",
       "  </thead>\n",
       "  <tbody>\n",
       "    <tr>\n",
       "      <th>194686</th>\n",
       "      <td>0</td>\n",
       "      <td>58</td>\n",
       "      <td>Self_Employed</td>\n",
       "      <td>X3</td>\n",
       "      <td>104</td>\n",
       "      <td>Yes</td>\n",
       "      <td>0</td>\n",
       "      <td>14.760818</td>\n",
       "      <td>24746.192308</td>\n",
       "      <td>44372.482759</td>\n",
       "      <td>0.141931</td>\n",
       "      <td>0.254497</td>\n",
       "    </tr>\n",
       "    <tr>\n",
       "      <th>118406</th>\n",
       "      <td>0</td>\n",
       "      <td>62</td>\n",
       "      <td>Other</td>\n",
       "      <td>X1</td>\n",
       "      <td>20</td>\n",
       "      <td>Yes</td>\n",
       "      <td>0</td>\n",
       "      <td>14.512880</td>\n",
       "      <td>100423.150000</td>\n",
       "      <td>32394.564516</td>\n",
       "      <td>0.725644</td>\n",
       "      <td>0.234079</td>\n",
       "    </tr>\n",
       "    <tr>\n",
       "      <th>148269</th>\n",
       "      <td>0</td>\n",
       "      <td>51</td>\n",
       "      <td>Other</td>\n",
       "      <td>X3</td>\n",
       "      <td>128</td>\n",
       "      <td>No</td>\n",
       "      <td>1</td>\n",
       "      <td>14.140844</td>\n",
       "      <td>10816.343750</td>\n",
       "      <td>27146.901961</td>\n",
       "      <td>0.110475</td>\n",
       "      <td>0.277271</td>\n",
       "    </tr>\n",
       "    <tr>\n",
       "      <th>11222</th>\n",
       "      <td>1</td>\n",
       "      <td>28</td>\n",
       "      <td>Other</td>\n",
       "      <td>X1</td>\n",
       "      <td>26</td>\n",
       "      <td>No</td>\n",
       "      <td>0</td>\n",
       "      <td>14.624520</td>\n",
       "      <td>86372.423077</td>\n",
       "      <td>80202.964286</td>\n",
       "      <td>0.562482</td>\n",
       "      <td>0.522304</td>\n",
       "    </tr>\n",
       "    <tr>\n",
       "      <th>44128</th>\n",
       "      <td>0</td>\n",
       "      <td>26</td>\n",
       "      <td>Salaried</td>\n",
       "      <td>X1</td>\n",
       "      <td>15</td>\n",
       "      <td>No</td>\n",
       "      <td>1</td>\n",
       "      <td>14.640057</td>\n",
       "      <td>152056.466667</td>\n",
       "      <td>87724.884615</td>\n",
       "      <td>0.976004</td>\n",
       "      <td>0.563079</td>\n",
       "    </tr>\n",
       "  </tbody>\n",
       "</table>\n",
       "</div>"
      ],
      "text/plain": [
       "        Gender  Age     Occupation  ...     perAgeBal  LogVinByBal LogperAgeBal\n",
       "194686       0   58  Self_Employed  ...  44372.482759     0.141931     0.254497\n",
       "118406       0   62          Other  ...  32394.564516     0.725644     0.234079\n",
       "148269       0   51          Other  ...  27146.901961     0.110475     0.277271\n",
       "11222        1   28          Other  ...  80202.964286     0.562482     0.522304\n",
       "44128        0   26       Salaried  ...  87724.884615     0.976004     0.563079\n",
       "\n",
       "[5 rows x 12 columns]"
      ]
     },
     "execution_count": 220,
     "metadata": {
      "tags": []
     },
     "output_type": "execute_result"
    }
   ],
   "source": [
    "cat_train.head()"
   ]
  },
  {
   "cell_type": "code",
   "execution_count": 227,
   "metadata": {
    "id": "lMSip61Rnunu"
   },
   "outputs": [],
   "source": [
    "# Give a loop instead\n",
    "def mean_enconde(trainset, testset, on_test, colname, target=\"Top-up Month\"):\n",
    "    ntrain = trainset.copy()\n",
    "    ntest = testset.copy()\n",
    "    for col in colname:\n",
    "        # cat_train.assign(target = y_train).groupby([\"Gender\"])[\"target\"].count()\n",
    "        name_me = trainset.groupby(col)[target].mean()\n",
    "        if on_test == False:\n",
    "            ntrain[col] = ntrain[col].replace(name_me.index, name_me.values)\n",
    "        else:\n",
    "            ntest[col] = ntest[col].replace(name_me.index, name_me.values)\n",
    "    return ntrain if on_test == False else ntest"
   ]
  },
  {
   "cell_type": "code",
   "execution_count": 228,
   "metadata": {
    "id": "D3g1GHjrowiR"
   },
   "outputs": [],
   "source": [
    "X_train_me = mean_enconde(cat_train.assign(target = y_train), cat_test, on_test=False, colname = [\"Region_Code\"], target=\"target\").drop([\"target\"], axis = 1)\n",
    "X_test_me = mean_enconde(cat_train.assign(target = y_train), cat_test, on_test=True, colname = [\"Region_Code\"], target=\"target\")\n",
    "\n",
    "X_train_me = pd.get_dummies(X_train_me)\n",
    "X_test_me = pd.get_dummies(X_test_me)"
   ]
  },
  {
   "cell_type": "code",
   "execution_count": 242,
   "metadata": {
    "id": "PVr64RjQMljt"
   },
   "outputs": [],
   "source": [
    "X_Sub_me = mean_enconde(cat_train.assign(target = y_train), sub_data, on_test=True, colname = [\"Region_Code\"], target=\"target\")\n",
    "X_Sub_me = pd.get_dummies(X_test_me)"
   ]
  },
  {
   "cell_type": "markdown",
   "metadata": {
    "id": "cSz7pIFUrPlB"
   },
   "source": [
    "Pending"
   ]
  },
  {
   "cell_type": "code",
   "execution_count": null,
   "metadata": {
    "id": "GnPYbv-UrDnY"
   },
   "outputs": [],
   "source": [
    "# X_sub_me = mean_enconde(X_sub.assign(target = y_train), cat_test, on_test=True, colname = [\"Gender\", \"Region_Code\", \"Occupation\", \"Channel_Code\", \"Credit_Product\", \"Is_Active\"], target=\"target\")"
   ]
  },
  {
   "cell_type": "code",
   "execution_count": 229,
   "metadata": {
    "colab": {
     "base_uri": "https://localhost:8080/"
    },
    "id": "QOBg-gPwpanB",
    "outputId": "33ada429-257c-4b8e-c609-aca8706d7f62"
   },
   "outputs": [
    {
     "name": "stdout",
     "output_type": "stream",
     "text": [
      "Train set rows 184293, cols 21 and y is 184293\n",
      "Test set rows 61432, cols 21 and y is 61432\n"
     ]
    }
   ],
   "source": [
    "print(\"Train set rows %s, cols %s and y is %s\" % (X_train_me.shape[0], X_train_me.shape[1], y_train.shape[0]))\n",
    "print(\"Test set rows %s, cols %s and y is %s\" % (X_test_me.shape[0], X_test_me.shape[1], y_test.shape[0]))\n",
    "# print(\"Submission set rows %s, cols %s and y is to be predicted\" % (X_sub.shape[0], X_sub.shape[1]))"
   ]
  },
  {
   "cell_type": "code",
   "execution_count": 230,
   "metadata": {
    "colab": {
     "base_uri": "https://localhost:8080/",
     "height": 215
    },
    "id": "RPWxiJZDrUhn",
    "outputId": "59993fa8-0b40-43f9-ccf9-bac5350f6a62"
   },
   "outputs": [
    {
     "data": {
      "text/html": [
       "<div>\n",
       "<style scoped>\n",
       "    .dataframe tbody tr th:only-of-type {\n",
       "        vertical-align: middle;\n",
       "    }\n",
       "\n",
       "    .dataframe tbody tr th {\n",
       "        vertical-align: top;\n",
       "    }\n",
       "\n",
       "    .dataframe thead th {\n",
       "        text-align: right;\n",
       "    }\n",
       "</style>\n",
       "<table border=\"1\" class=\"dataframe\">\n",
       "  <thead>\n",
       "    <tr style=\"text-align: right;\">\n",
       "      <th></th>\n",
       "      <th>Gender</th>\n",
       "      <th>Age</th>\n",
       "      <th>Region_Code</th>\n",
       "      <th>Vintage</th>\n",
       "      <th>Is_Active</th>\n",
       "      <th>log_avg_ac_bal</th>\n",
       "      <th>VinByBal</th>\n",
       "      <th>perAgeBal</th>\n",
       "      <th>LogVinByBal</th>\n",
       "      <th>LogperAgeBal</th>\n",
       "      <th>Occupation_Entrepreneur</th>\n",
       "      <th>Occupation_Other</th>\n",
       "      <th>Occupation_Salaried</th>\n",
       "      <th>Occupation_Self_Employed</th>\n",
       "      <th>Channel_Code_X1</th>\n",
       "      <th>Channel_Code_X2</th>\n",
       "      <th>Channel_Code_X3</th>\n",
       "      <th>Channel_Code_X4</th>\n",
       "      <th>Credit_Product_NA</th>\n",
       "      <th>Credit_Product_No</th>\n",
       "      <th>Credit_Product_Yes</th>\n",
       "    </tr>\n",
       "  </thead>\n",
       "  <tbody>\n",
       "    <tr>\n",
       "      <th>194686</th>\n",
       "      <td>0</td>\n",
       "      <td>58</td>\n",
       "      <td>0.300189</td>\n",
       "      <td>104</td>\n",
       "      <td>0</td>\n",
       "      <td>14.760818</td>\n",
       "      <td>24746.192308</td>\n",
       "      <td>44372.482759</td>\n",
       "      <td>0.141931</td>\n",
       "      <td>0.254497</td>\n",
       "      <td>0</td>\n",
       "      <td>0</td>\n",
       "      <td>0</td>\n",
       "      <td>1</td>\n",
       "      <td>0</td>\n",
       "      <td>0</td>\n",
       "      <td>1</td>\n",
       "      <td>0</td>\n",
       "      <td>0</td>\n",
       "      <td>0</td>\n",
       "      <td>1</td>\n",
       "    </tr>\n",
       "    <tr>\n",
       "      <th>118406</th>\n",
       "      <td>0</td>\n",
       "      <td>62</td>\n",
       "      <td>0.300189</td>\n",
       "      <td>20</td>\n",
       "      <td>0</td>\n",
       "      <td>14.512880</td>\n",
       "      <td>100423.150000</td>\n",
       "      <td>32394.564516</td>\n",
       "      <td>0.725644</td>\n",
       "      <td>0.234079</td>\n",
       "      <td>0</td>\n",
       "      <td>1</td>\n",
       "      <td>0</td>\n",
       "      <td>0</td>\n",
       "      <td>1</td>\n",
       "      <td>0</td>\n",
       "      <td>0</td>\n",
       "      <td>0</td>\n",
       "      <td>0</td>\n",
       "      <td>0</td>\n",
       "      <td>1</td>\n",
       "    </tr>\n",
       "    <tr>\n",
       "      <th>148269</th>\n",
       "      <td>0</td>\n",
       "      <td>51</td>\n",
       "      <td>0.211394</td>\n",
       "      <td>128</td>\n",
       "      <td>1</td>\n",
       "      <td>14.140844</td>\n",
       "      <td>10816.343750</td>\n",
       "      <td>27146.901961</td>\n",
       "      <td>0.110475</td>\n",
       "      <td>0.277271</td>\n",
       "      <td>0</td>\n",
       "      <td>1</td>\n",
       "      <td>0</td>\n",
       "      <td>0</td>\n",
       "      <td>0</td>\n",
       "      <td>0</td>\n",
       "      <td>1</td>\n",
       "      <td>0</td>\n",
       "      <td>0</td>\n",
       "      <td>1</td>\n",
       "      <td>0</td>\n",
       "    </tr>\n",
       "    <tr>\n",
       "      <th>11222</th>\n",
       "      <td>1</td>\n",
       "      <td>28</td>\n",
       "      <td>0.211394</td>\n",
       "      <td>26</td>\n",
       "      <td>0</td>\n",
       "      <td>14.624520</td>\n",
       "      <td>86372.423077</td>\n",
       "      <td>80202.964286</td>\n",
       "      <td>0.562482</td>\n",
       "      <td>0.522304</td>\n",
       "      <td>0</td>\n",
       "      <td>1</td>\n",
       "      <td>0</td>\n",
       "      <td>0</td>\n",
       "      <td>1</td>\n",
       "      <td>0</td>\n",
       "      <td>0</td>\n",
       "      <td>0</td>\n",
       "      <td>0</td>\n",
       "      <td>1</td>\n",
       "      <td>0</td>\n",
       "    </tr>\n",
       "    <tr>\n",
       "      <th>44128</th>\n",
       "      <td>0</td>\n",
       "      <td>26</td>\n",
       "      <td>0.300189</td>\n",
       "      <td>15</td>\n",
       "      <td>1</td>\n",
       "      <td>14.640057</td>\n",
       "      <td>152056.466667</td>\n",
       "      <td>87724.884615</td>\n",
       "      <td>0.976004</td>\n",
       "      <td>0.563079</td>\n",
       "      <td>0</td>\n",
       "      <td>0</td>\n",
       "      <td>1</td>\n",
       "      <td>0</td>\n",
       "      <td>1</td>\n",
       "      <td>0</td>\n",
       "      <td>0</td>\n",
       "      <td>0</td>\n",
       "      <td>0</td>\n",
       "      <td>1</td>\n",
       "      <td>0</td>\n",
       "    </tr>\n",
       "  </tbody>\n",
       "</table>\n",
       "</div>"
      ],
      "text/plain": [
       "        Gender  Age  ...  Credit_Product_No  Credit_Product_Yes\n",
       "194686       0   58  ...                  0                   1\n",
       "118406       0   62  ...                  0                   1\n",
       "148269       0   51  ...                  1                   0\n",
       "11222        1   28  ...                  1                   0\n",
       "44128        0   26  ...                  1                   0\n",
       "\n",
       "[5 rows x 21 columns]"
      ]
     },
     "execution_count": 230,
     "metadata": {
      "tags": []
     },
     "output_type": "execute_result"
    }
   ],
   "source": [
    "X_train_me.head()"
   ]
  },
  {
   "cell_type": "code",
   "execution_count": 231,
   "metadata": {
    "colab": {
     "base_uri": "https://localhost:8080/",
     "height": 215
    },
    "id": "RJTAT5B6rXEX",
    "outputId": "e418f9be-12b0-4c06-87d4-8897c4545d79"
   },
   "outputs": [
    {
     "data": {
      "text/html": [
       "<div>\n",
       "<style scoped>\n",
       "    .dataframe tbody tr th:only-of-type {\n",
       "        vertical-align: middle;\n",
       "    }\n",
       "\n",
       "    .dataframe tbody tr th {\n",
       "        vertical-align: top;\n",
       "    }\n",
       "\n",
       "    .dataframe thead th {\n",
       "        text-align: right;\n",
       "    }\n",
       "</style>\n",
       "<table border=\"1\" class=\"dataframe\">\n",
       "  <thead>\n",
       "    <tr style=\"text-align: right;\">\n",
       "      <th></th>\n",
       "      <th>Gender</th>\n",
       "      <th>Age</th>\n",
       "      <th>Region_Code</th>\n",
       "      <th>Vintage</th>\n",
       "      <th>Is_Active</th>\n",
       "      <th>log_avg_ac_bal</th>\n",
       "      <th>VinByBal</th>\n",
       "      <th>perAgeBal</th>\n",
       "      <th>LogVinByBal</th>\n",
       "      <th>LogperAgeBal</th>\n",
       "      <th>Occupation_Entrepreneur</th>\n",
       "      <th>Occupation_Other</th>\n",
       "      <th>Occupation_Salaried</th>\n",
       "      <th>Occupation_Self_Employed</th>\n",
       "      <th>Channel_Code_X1</th>\n",
       "      <th>Channel_Code_X2</th>\n",
       "      <th>Channel_Code_X3</th>\n",
       "      <th>Channel_Code_X4</th>\n",
       "      <th>Credit_Product_NA</th>\n",
       "      <th>Credit_Product_No</th>\n",
       "      <th>Credit_Product_Yes</th>\n",
       "    </tr>\n",
       "  </thead>\n",
       "  <tbody>\n",
       "    <tr>\n",
       "      <th>89079</th>\n",
       "      <td>1</td>\n",
       "      <td>51</td>\n",
       "      <td>0.302269</td>\n",
       "      <td>92</td>\n",
       "      <td>1</td>\n",
       "      <td>14.748777</td>\n",
       "      <td>27639.141304</td>\n",
       "      <td>49858.843137</td>\n",
       "      <td>0.160313</td>\n",
       "      <td>0.289192</td>\n",
       "      <td>0</td>\n",
       "      <td>0</td>\n",
       "      <td>0</td>\n",
       "      <td>1</td>\n",
       "      <td>0</td>\n",
       "      <td>0</td>\n",
       "      <td>1</td>\n",
       "      <td>0</td>\n",
       "      <td>0</td>\n",
       "      <td>1</td>\n",
       "      <td>0</td>\n",
       "    </tr>\n",
       "    <tr>\n",
       "      <th>120964</th>\n",
       "      <td>1</td>\n",
       "      <td>60</td>\n",
       "      <td>0.235484</td>\n",
       "      <td>19</td>\n",
       "      <td>1</td>\n",
       "      <td>13.448577</td>\n",
       "      <td>36466.105263</td>\n",
       "      <td>11547.600000</td>\n",
       "      <td>0.707820</td>\n",
       "      <td>0.224143</td>\n",
       "      <td>0</td>\n",
       "      <td>0</td>\n",
       "      <td>0</td>\n",
       "      <td>1</td>\n",
       "      <td>0</td>\n",
       "      <td>1</td>\n",
       "      <td>0</td>\n",
       "      <td>0</td>\n",
       "      <td>0</td>\n",
       "      <td>0</td>\n",
       "      <td>1</td>\n",
       "    </tr>\n",
       "    <tr>\n",
       "      <th>219091</th>\n",
       "      <td>1</td>\n",
       "      <td>58</td>\n",
       "      <td>0.300189</td>\n",
       "      <td>104</td>\n",
       "      <td>1</td>\n",
       "      <td>13.442043</td>\n",
       "      <td>6618.682692</td>\n",
       "      <td>11867.982759</td>\n",
       "      <td>0.129250</td>\n",
       "      <td>0.231759</td>\n",
       "      <td>0</td>\n",
       "      <td>0</td>\n",
       "      <td>0</td>\n",
       "      <td>1</td>\n",
       "      <td>0</td>\n",
       "      <td>0</td>\n",
       "      <td>1</td>\n",
       "      <td>0</td>\n",
       "      <td>0</td>\n",
       "      <td>1</td>\n",
       "      <td>0</td>\n",
       "    </tr>\n",
       "    <tr>\n",
       "      <th>13972</th>\n",
       "      <td>0</td>\n",
       "      <td>51</td>\n",
       "      <td>0.300189</td>\n",
       "      <td>115</td>\n",
       "      <td>0</td>\n",
       "      <td>14.334913</td>\n",
       "      <td>14617.591304</td>\n",
       "      <td>32961.235294</td>\n",
       "      <td>0.124651</td>\n",
       "      <td>0.281077</td>\n",
       "      <td>0</td>\n",
       "      <td>0</td>\n",
       "      <td>0</td>\n",
       "      <td>1</td>\n",
       "      <td>0</td>\n",
       "      <td>0</td>\n",
       "      <td>1</td>\n",
       "      <td>0</td>\n",
       "      <td>0</td>\n",
       "      <td>1</td>\n",
       "      <td>0</td>\n",
       "    </tr>\n",
       "    <tr>\n",
       "      <th>212175</th>\n",
       "      <td>1</td>\n",
       "      <td>61</td>\n",
       "      <td>0.171101</td>\n",
       "      <td>33</td>\n",
       "      <td>0</td>\n",
       "      <td>13.439181</td>\n",
       "      <td>20799.272727</td>\n",
       "      <td>11252.065574</td>\n",
       "      <td>0.407248</td>\n",
       "      <td>0.220314</td>\n",
       "      <td>0</td>\n",
       "      <td>0</td>\n",
       "      <td>0</td>\n",
       "      <td>1</td>\n",
       "      <td>1</td>\n",
       "      <td>0</td>\n",
       "      <td>0</td>\n",
       "      <td>0</td>\n",
       "      <td>0</td>\n",
       "      <td>0</td>\n",
       "      <td>1</td>\n",
       "    </tr>\n",
       "  </tbody>\n",
       "</table>\n",
       "</div>"
      ],
      "text/plain": [
       "        Gender  Age  ...  Credit_Product_No  Credit_Product_Yes\n",
       "89079        1   51  ...                  1                   0\n",
       "120964       1   60  ...                  0                   1\n",
       "219091       1   58  ...                  1                   0\n",
       "13972        0   51  ...                  1                   0\n",
       "212175       1   61  ...                  0                   1\n",
       "\n",
       "[5 rows x 21 columns]"
      ]
     },
     "execution_count": 231,
     "metadata": {
      "tags": []
     },
     "output_type": "execute_result"
    }
   ],
   "source": [
    "X_test_me.head()"
   ]
  },
  {
   "cell_type": "code",
   "execution_count": 243,
   "metadata": {
    "colab": {
     "base_uri": "https://localhost:8080/",
     "height": 215
    },
    "id": "WUm9zJ42NF8d",
    "outputId": "66130e76-f90f-44ab-dc45-d2d7959fc4f9"
   },
   "outputs": [
    {
     "data": {
      "text/html": [
       "<div>\n",
       "<style scoped>\n",
       "    .dataframe tbody tr th:only-of-type {\n",
       "        vertical-align: middle;\n",
       "    }\n",
       "\n",
       "    .dataframe tbody tr th {\n",
       "        vertical-align: top;\n",
       "    }\n",
       "\n",
       "    .dataframe thead th {\n",
       "        text-align: right;\n",
       "    }\n",
       "</style>\n",
       "<table border=\"1\" class=\"dataframe\">\n",
       "  <thead>\n",
       "    <tr style=\"text-align: right;\">\n",
       "      <th></th>\n",
       "      <th>Gender</th>\n",
       "      <th>Age</th>\n",
       "      <th>Region_Code</th>\n",
       "      <th>Vintage</th>\n",
       "      <th>Is_Active</th>\n",
       "      <th>log_avg_ac_bal</th>\n",
       "      <th>VinByBal</th>\n",
       "      <th>perAgeBal</th>\n",
       "      <th>LogVinByBal</th>\n",
       "      <th>LogperAgeBal</th>\n",
       "      <th>Occupation_Entrepreneur</th>\n",
       "      <th>Occupation_Other</th>\n",
       "      <th>Occupation_Salaried</th>\n",
       "      <th>Occupation_Self_Employed</th>\n",
       "      <th>Channel_Code_X1</th>\n",
       "      <th>Channel_Code_X2</th>\n",
       "      <th>Channel_Code_X3</th>\n",
       "      <th>Channel_Code_X4</th>\n",
       "      <th>Credit_Product_NA</th>\n",
       "      <th>Credit_Product_No</th>\n",
       "      <th>Credit_Product_Yes</th>\n",
       "    </tr>\n",
       "  </thead>\n",
       "  <tbody>\n",
       "    <tr>\n",
       "      <th>89079</th>\n",
       "      <td>1</td>\n",
       "      <td>51</td>\n",
       "      <td>0.302269</td>\n",
       "      <td>92</td>\n",
       "      <td>1</td>\n",
       "      <td>14.748777</td>\n",
       "      <td>27639.141304</td>\n",
       "      <td>49858.843137</td>\n",
       "      <td>0.160313</td>\n",
       "      <td>0.289192</td>\n",
       "      <td>0</td>\n",
       "      <td>0</td>\n",
       "      <td>0</td>\n",
       "      <td>1</td>\n",
       "      <td>0</td>\n",
       "      <td>0</td>\n",
       "      <td>1</td>\n",
       "      <td>0</td>\n",
       "      <td>0</td>\n",
       "      <td>1</td>\n",
       "      <td>0</td>\n",
       "    </tr>\n",
       "    <tr>\n",
       "      <th>120964</th>\n",
       "      <td>1</td>\n",
       "      <td>60</td>\n",
       "      <td>0.235484</td>\n",
       "      <td>19</td>\n",
       "      <td>1</td>\n",
       "      <td>13.448577</td>\n",
       "      <td>36466.105263</td>\n",
       "      <td>11547.600000</td>\n",
       "      <td>0.707820</td>\n",
       "      <td>0.224143</td>\n",
       "      <td>0</td>\n",
       "      <td>0</td>\n",
       "      <td>0</td>\n",
       "      <td>1</td>\n",
       "      <td>0</td>\n",
       "      <td>1</td>\n",
       "      <td>0</td>\n",
       "      <td>0</td>\n",
       "      <td>0</td>\n",
       "      <td>0</td>\n",
       "      <td>1</td>\n",
       "    </tr>\n",
       "    <tr>\n",
       "      <th>219091</th>\n",
       "      <td>1</td>\n",
       "      <td>58</td>\n",
       "      <td>0.300189</td>\n",
       "      <td>104</td>\n",
       "      <td>1</td>\n",
       "      <td>13.442043</td>\n",
       "      <td>6618.682692</td>\n",
       "      <td>11867.982759</td>\n",
       "      <td>0.129250</td>\n",
       "      <td>0.231759</td>\n",
       "      <td>0</td>\n",
       "      <td>0</td>\n",
       "      <td>0</td>\n",
       "      <td>1</td>\n",
       "      <td>0</td>\n",
       "      <td>0</td>\n",
       "      <td>1</td>\n",
       "      <td>0</td>\n",
       "      <td>0</td>\n",
       "      <td>1</td>\n",
       "      <td>0</td>\n",
       "    </tr>\n",
       "    <tr>\n",
       "      <th>13972</th>\n",
       "      <td>0</td>\n",
       "      <td>51</td>\n",
       "      <td>0.300189</td>\n",
       "      <td>115</td>\n",
       "      <td>0</td>\n",
       "      <td>14.334913</td>\n",
       "      <td>14617.591304</td>\n",
       "      <td>32961.235294</td>\n",
       "      <td>0.124651</td>\n",
       "      <td>0.281077</td>\n",
       "      <td>0</td>\n",
       "      <td>0</td>\n",
       "      <td>0</td>\n",
       "      <td>1</td>\n",
       "      <td>0</td>\n",
       "      <td>0</td>\n",
       "      <td>1</td>\n",
       "      <td>0</td>\n",
       "      <td>0</td>\n",
       "      <td>1</td>\n",
       "      <td>0</td>\n",
       "    </tr>\n",
       "    <tr>\n",
       "      <th>212175</th>\n",
       "      <td>1</td>\n",
       "      <td>61</td>\n",
       "      <td>0.171101</td>\n",
       "      <td>33</td>\n",
       "      <td>0</td>\n",
       "      <td>13.439181</td>\n",
       "      <td>20799.272727</td>\n",
       "      <td>11252.065574</td>\n",
       "      <td>0.407248</td>\n",
       "      <td>0.220314</td>\n",
       "      <td>0</td>\n",
       "      <td>0</td>\n",
       "      <td>0</td>\n",
       "      <td>1</td>\n",
       "      <td>1</td>\n",
       "      <td>0</td>\n",
       "      <td>0</td>\n",
       "      <td>0</td>\n",
       "      <td>0</td>\n",
       "      <td>0</td>\n",
       "      <td>1</td>\n",
       "    </tr>\n",
       "  </tbody>\n",
       "</table>\n",
       "</div>"
      ],
      "text/plain": [
       "        Gender  Age  ...  Credit_Product_No  Credit_Product_Yes\n",
       "89079        1   51  ...                  1                   0\n",
       "120964       1   60  ...                  0                   1\n",
       "219091       1   58  ...                  1                   0\n",
       "13972        0   51  ...                  1                   0\n",
       "212175       1   61  ...                  0                   1\n",
       "\n",
       "[5 rows x 21 columns]"
      ]
     },
     "execution_count": 243,
     "metadata": {
      "tags": []
     },
     "output_type": "execute_result"
    }
   ],
   "source": [
    "X_Sub_me.head()"
   ]
  },
  {
   "cell_type": "markdown",
   "metadata": {
    "id": "TUu75iqsy2VW"
   },
   "source": [
    "### Validataion EDA"
   ]
  },
  {
   "cell_type": "code",
   "execution_count": null,
   "metadata": {
    "id": "hdCMjXFJy1wc"
   },
   "outputs": [],
   "source": []
  },
  {
   "cell_type": "markdown",
   "metadata": {
    "id": "QOYLC_QQyISa"
   },
   "source": [
    "## Modeling\n",
    "\n",
    "For Regression verify distribution.  \n",
    "For Classification verify confusion matrix.  \n",
    "Use 10 fold cross validation to verify final model.  "
   ]
  },
  {
   "cell_type": "markdown",
   "metadata": {
    "id": "wMG4MTEvza_Z"
   },
   "source": [
    "### Submission Part\n",
    "\n",
    "Ensure that model is trained on whole set"
   ]
  },
  {
   "cell_type": "code",
   "execution_count": null,
   "metadata": {
    "id": "TTj3iigPQ43n"
   },
   "outputs": [],
   "source": [
    "pd.concat([sub_data_og.ID, sub_data_og.ID], axis = 1)"
   ]
  },
  {
   "cell_type": "code",
   "execution_count": 9,
   "metadata": {
    "colab": {
     "base_uri": "https://localhost:8080/"
    },
    "id": "fh274m4HzbfZ",
    "outputId": "6335228c-370c-4397-d904-24f10583c059"
   },
   "outputs": [
    {
     "name": "stdout",
     "output_type": "stream",
     "text": [
      "418\n"
     ]
    },
    {
     "name": "stderr",
     "output_type": "stream",
     "text": [
      "The use of label encoder in XGBClassifier is deprecated and will be removed in a future release. To remove this warning, do the following: 1) Pass option use_label_encoder=False when constructing XGBClassifier object; and 2) Encode your labels (y) as integers starting with 0, i.e. 0, 1, 2, ..., [num_class - 1].\n"
     ]
    },
    {
     "name": "stdout",
     "output_type": "stream",
     "text": [
      "889\n",
      "430\n",
      "95\n",
      "903\n",
      "684\n",
      "292\n",
      "729\n",
      "345\n",
      "907\n"
     ]
    }
   ],
   "source": [
    "weights = y.value_counts() / y.value_counts().sum()\n",
    "pddf = pd.DataFrame({\"A\": sub_data_og.ID})\n",
    "\n",
    "# 1400 rounds based on train_test_split\n",
    "\n",
    "for i in range(10):\n",
    "    rs = np.random.randint(1000)\n",
    "    print(rs)\n",
    "    xgb_model = xgb.XGBClassifier(learning_rate=0.01, scale_pos_weight = weights[0], n_estimators = 1350, subsample=.90)\n",
    "    xgb_model.fit(X, y, eval_metric = \"auc\")\n",
    "    prediction = pd.DataFrame({rs:xgb_model.predict(X_sub)})\n",
    "    pddf = pd.concat([pddf, prediction], axis = 1)"
   ]
  },
  {
   "cell_type": "code",
   "execution_count": 10,
   "metadata": {
    "id": "oKw9AUCqVYx-"
   },
   "outputs": [
    {
     "data": {
      "text/html": [
       "<div>\n",
       "<style scoped>\n",
       "    .dataframe tbody tr th:only-of-type {\n",
       "        vertical-align: middle;\n",
       "    }\n",
       "\n",
       "    .dataframe tbody tr th {\n",
       "        vertical-align: top;\n",
       "    }\n",
       "\n",
       "    .dataframe thead th {\n",
       "        text-align: right;\n",
       "    }\n",
       "</style>\n",
       "<table border=\"1\" class=\"dataframe\">\n",
       "  <thead>\n",
       "    <tr style=\"text-align: right;\">\n",
       "      <th></th>\n",
       "      <th>A</th>\n",
       "      <th>418</th>\n",
       "      <th>889</th>\n",
       "      <th>430</th>\n",
       "      <th>95</th>\n",
       "      <th>903</th>\n",
       "      <th>684</th>\n",
       "      <th>292</th>\n",
       "      <th>729</th>\n",
       "      <th>345</th>\n",
       "      <th>907</th>\n",
       "    </tr>\n",
       "  </thead>\n",
       "  <tbody>\n",
       "    <tr>\n",
       "      <th>0</th>\n",
       "      <td>VBENBARO</td>\n",
       "      <td>0</td>\n",
       "      <td>0</td>\n",
       "      <td>0</td>\n",
       "      <td>0</td>\n",
       "      <td>0</td>\n",
       "      <td>0</td>\n",
       "      <td>0</td>\n",
       "      <td>0</td>\n",
       "      <td>0</td>\n",
       "      <td>0</td>\n",
       "    </tr>\n",
       "    <tr>\n",
       "      <th>1</th>\n",
       "      <td>CCMEWNKY</td>\n",
       "      <td>1</td>\n",
       "      <td>1</td>\n",
       "      <td>1</td>\n",
       "      <td>1</td>\n",
       "      <td>1</td>\n",
       "      <td>1</td>\n",
       "      <td>1</td>\n",
       "      <td>1</td>\n",
       "      <td>1</td>\n",
       "      <td>1</td>\n",
       "    </tr>\n",
       "    <tr>\n",
       "      <th>2</th>\n",
       "      <td>VK3KGA9M</td>\n",
       "      <td>0</td>\n",
       "      <td>0</td>\n",
       "      <td>0</td>\n",
       "      <td>0</td>\n",
       "      <td>0</td>\n",
       "      <td>0</td>\n",
       "      <td>0</td>\n",
       "      <td>0</td>\n",
       "      <td>0</td>\n",
       "      <td>0</td>\n",
       "    </tr>\n",
       "    <tr>\n",
       "      <th>3</th>\n",
       "      <td>TT8RPZVC</td>\n",
       "      <td>0</td>\n",
       "      <td>0</td>\n",
       "      <td>0</td>\n",
       "      <td>0</td>\n",
       "      <td>0</td>\n",
       "      <td>0</td>\n",
       "      <td>0</td>\n",
       "      <td>0</td>\n",
       "      <td>0</td>\n",
       "      <td>0</td>\n",
       "    </tr>\n",
       "    <tr>\n",
       "      <th>4</th>\n",
       "      <td>SHQZEYTZ</td>\n",
       "      <td>0</td>\n",
       "      <td>0</td>\n",
       "      <td>0</td>\n",
       "      <td>0</td>\n",
       "      <td>0</td>\n",
       "      <td>0</td>\n",
       "      <td>0</td>\n",
       "      <td>0</td>\n",
       "      <td>0</td>\n",
       "      <td>0</td>\n",
       "    </tr>\n",
       "  </tbody>\n",
       "</table>\n",
       "</div>"
      ],
      "text/plain": [
       "          A  418  889  430  95  903  684  292  729  345  907\n",
       "0  VBENBARO    0    0    0   0    0    0    0    0    0    0\n",
       "1  CCMEWNKY    1    1    1   1    1    1    1    1    1    1\n",
       "2  VK3KGA9M    0    0    0   0    0    0    0    0    0    0\n",
       "3  TT8RPZVC    0    0    0   0    0    0    0    0    0    0\n",
       "4  SHQZEYTZ    0    0    0   0    0    0    0    0    0    0"
      ]
     },
     "execution_count": 10,
     "metadata": {},
     "output_type": "execute_result"
    }
   ],
   "source": [
    "pddf.head()"
   ]
  },
  {
   "cell_type": "code",
   "execution_count": 15,
   "metadata": {},
   "outputs": [
    {
     "data": {
      "text/plain": [
       "0.13947128532360983"
      ]
     },
     "execution_count": 15,
     "metadata": {},
     "output_type": "execute_result"
    }
   ],
   "source": [
    "pddf.mean(axis = 1).sum() / pddf.mean(axis = 1).count()"
   ]
  },
  {
   "cell_type": "code",
   "execution_count": 17,
   "metadata": {
    "id": "psQKFYE8M0PP"
   },
   "outputs": [],
   "source": [
    "pd.DataFrame({'ID': sub_data_og.ID, \"Is_Lead\": pddf.mean(axis = 1)}).to_csv(\"sub01.csv\", index=False)"
   ]
  },
  {
   "cell_type": "markdown",
   "metadata": {
    "id": "7bUgq588y6cz"
   },
   "source": [
    "### XGBoost\n",
    "\n",
    "Monitor metric performance on both train and test.  "
   ]
  },
  {
   "cell_type": "code",
   "execution_count": 232,
   "metadata": {
    "colab": {
     "base_uri": "https://localhost:8080/",
     "height": 215
    },
    "id": "AzIcG-uvFq73",
    "outputId": "d76a57d4-24bd-45e7-f7d2-fcd2f026db98"
   },
   "outputs": [
    {
     "data": {
      "text/html": [
       "<div>\n",
       "<style scoped>\n",
       "    .dataframe tbody tr th:only-of-type {\n",
       "        vertical-align: middle;\n",
       "    }\n",
       "\n",
       "    .dataframe tbody tr th {\n",
       "        vertical-align: top;\n",
       "    }\n",
       "\n",
       "    .dataframe thead th {\n",
       "        text-align: right;\n",
       "    }\n",
       "</style>\n",
       "<table border=\"1\" class=\"dataframe\">\n",
       "  <thead>\n",
       "    <tr style=\"text-align: right;\">\n",
       "      <th></th>\n",
       "      <th>Gender</th>\n",
       "      <th>Age</th>\n",
       "      <th>Region_Code</th>\n",
       "      <th>Vintage</th>\n",
       "      <th>Is_Active</th>\n",
       "      <th>log_avg_ac_bal</th>\n",
       "      <th>VinByBal</th>\n",
       "      <th>perAgeBal</th>\n",
       "      <th>LogVinByBal</th>\n",
       "      <th>LogperAgeBal</th>\n",
       "      <th>Occupation_Entrepreneur</th>\n",
       "      <th>Occupation_Other</th>\n",
       "      <th>Occupation_Salaried</th>\n",
       "      <th>Occupation_Self_Employed</th>\n",
       "      <th>Channel_Code_X1</th>\n",
       "      <th>Channel_Code_X2</th>\n",
       "      <th>Channel_Code_X3</th>\n",
       "      <th>Channel_Code_X4</th>\n",
       "      <th>Credit_Product_NA</th>\n",
       "      <th>Credit_Product_No</th>\n",
       "      <th>Credit_Product_Yes</th>\n",
       "    </tr>\n",
       "  </thead>\n",
       "  <tbody>\n",
       "    <tr>\n",
       "      <th>194686</th>\n",
       "      <td>0</td>\n",
       "      <td>58</td>\n",
       "      <td>0.300189</td>\n",
       "      <td>104</td>\n",
       "      <td>0</td>\n",
       "      <td>14.760818</td>\n",
       "      <td>24746.192308</td>\n",
       "      <td>44372.482759</td>\n",
       "      <td>0.141931</td>\n",
       "      <td>0.254497</td>\n",
       "      <td>0</td>\n",
       "      <td>0</td>\n",
       "      <td>0</td>\n",
       "      <td>1</td>\n",
       "      <td>0</td>\n",
       "      <td>0</td>\n",
       "      <td>1</td>\n",
       "      <td>0</td>\n",
       "      <td>0</td>\n",
       "      <td>0</td>\n",
       "      <td>1</td>\n",
       "    </tr>\n",
       "    <tr>\n",
       "      <th>118406</th>\n",
       "      <td>0</td>\n",
       "      <td>62</td>\n",
       "      <td>0.300189</td>\n",
       "      <td>20</td>\n",
       "      <td>0</td>\n",
       "      <td>14.512880</td>\n",
       "      <td>100423.150000</td>\n",
       "      <td>32394.564516</td>\n",
       "      <td>0.725644</td>\n",
       "      <td>0.234079</td>\n",
       "      <td>0</td>\n",
       "      <td>1</td>\n",
       "      <td>0</td>\n",
       "      <td>0</td>\n",
       "      <td>1</td>\n",
       "      <td>0</td>\n",
       "      <td>0</td>\n",
       "      <td>0</td>\n",
       "      <td>0</td>\n",
       "      <td>0</td>\n",
       "      <td>1</td>\n",
       "    </tr>\n",
       "    <tr>\n",
       "      <th>148269</th>\n",
       "      <td>0</td>\n",
       "      <td>51</td>\n",
       "      <td>0.211394</td>\n",
       "      <td>128</td>\n",
       "      <td>1</td>\n",
       "      <td>14.140844</td>\n",
       "      <td>10816.343750</td>\n",
       "      <td>27146.901961</td>\n",
       "      <td>0.110475</td>\n",
       "      <td>0.277271</td>\n",
       "      <td>0</td>\n",
       "      <td>1</td>\n",
       "      <td>0</td>\n",
       "      <td>0</td>\n",
       "      <td>0</td>\n",
       "      <td>0</td>\n",
       "      <td>1</td>\n",
       "      <td>0</td>\n",
       "      <td>0</td>\n",
       "      <td>1</td>\n",
       "      <td>0</td>\n",
       "    </tr>\n",
       "    <tr>\n",
       "      <th>11222</th>\n",
       "      <td>1</td>\n",
       "      <td>28</td>\n",
       "      <td>0.211394</td>\n",
       "      <td>26</td>\n",
       "      <td>0</td>\n",
       "      <td>14.624520</td>\n",
       "      <td>86372.423077</td>\n",
       "      <td>80202.964286</td>\n",
       "      <td>0.562482</td>\n",
       "      <td>0.522304</td>\n",
       "      <td>0</td>\n",
       "      <td>1</td>\n",
       "      <td>0</td>\n",
       "      <td>0</td>\n",
       "      <td>1</td>\n",
       "      <td>0</td>\n",
       "      <td>0</td>\n",
       "      <td>0</td>\n",
       "      <td>0</td>\n",
       "      <td>1</td>\n",
       "      <td>0</td>\n",
       "    </tr>\n",
       "    <tr>\n",
       "      <th>44128</th>\n",
       "      <td>0</td>\n",
       "      <td>26</td>\n",
       "      <td>0.300189</td>\n",
       "      <td>15</td>\n",
       "      <td>1</td>\n",
       "      <td>14.640057</td>\n",
       "      <td>152056.466667</td>\n",
       "      <td>87724.884615</td>\n",
       "      <td>0.976004</td>\n",
       "      <td>0.563079</td>\n",
       "      <td>0</td>\n",
       "      <td>0</td>\n",
       "      <td>1</td>\n",
       "      <td>0</td>\n",
       "      <td>1</td>\n",
       "      <td>0</td>\n",
       "      <td>0</td>\n",
       "      <td>0</td>\n",
       "      <td>0</td>\n",
       "      <td>1</td>\n",
       "      <td>0</td>\n",
       "    </tr>\n",
       "  </tbody>\n",
       "</table>\n",
       "</div>"
      ],
      "text/plain": [
       "        Gender  Age  ...  Credit_Product_No  Credit_Product_Yes\n",
       "194686       0   58  ...                  0                   1\n",
       "118406       0   62  ...                  0                   1\n",
       "148269       0   51  ...                  1                   0\n",
       "11222        1   28  ...                  1                   0\n",
       "44128        0   26  ...                  1                   0\n",
       "\n",
       "[5 rows x 21 columns]"
      ]
     },
     "execution_count": 232,
     "metadata": {
      "tags": []
     },
     "output_type": "execute_result"
    }
   ],
   "source": [
    "X_train_me.head()"
   ]
  },
  {
   "cell_type": "code",
   "execution_count": 233,
   "metadata": {
    "colab": {
     "base_uri": "https://localhost:8080/",
     "height": 215
    },
    "id": "snRbw59hFtcJ",
    "outputId": "8ecd37c0-6591-4c84-c84b-f635b8e3c9ab"
   },
   "outputs": [
    {
     "data": {
      "text/html": [
       "<div>\n",
       "<style scoped>\n",
       "    .dataframe tbody tr th:only-of-type {\n",
       "        vertical-align: middle;\n",
       "    }\n",
       "\n",
       "    .dataframe tbody tr th {\n",
       "        vertical-align: top;\n",
       "    }\n",
       "\n",
       "    .dataframe thead th {\n",
       "        text-align: right;\n",
       "    }\n",
       "</style>\n",
       "<table border=\"1\" class=\"dataframe\">\n",
       "  <thead>\n",
       "    <tr style=\"text-align: right;\">\n",
       "      <th></th>\n",
       "      <th>Gender</th>\n",
       "      <th>Age</th>\n",
       "      <th>Vintage</th>\n",
       "      <th>Is_Active</th>\n",
       "      <th>log_avg_ac_bal</th>\n",
       "      <th>VinByBal</th>\n",
       "      <th>perAgeBal</th>\n",
       "      <th>LogVinByBal</th>\n",
       "      <th>LogperAgeBal</th>\n",
       "      <th>Occupation_Entrepreneur</th>\n",
       "      <th>Occupation_Other</th>\n",
       "      <th>Occupation_Salaried</th>\n",
       "      <th>Occupation_Self_Employed</th>\n",
       "      <th>Channel_Code_X1</th>\n",
       "      <th>Channel_Code_X2</th>\n",
       "      <th>Channel_Code_X3</th>\n",
       "      <th>Channel_Code_X4</th>\n",
       "      <th>Credit_Product_NA</th>\n",
       "      <th>Credit_Product_No</th>\n",
       "      <th>Credit_Product_Yes</th>\n",
       "    </tr>\n",
       "  </thead>\n",
       "  <tbody>\n",
       "    <tr>\n",
       "      <th>194686</th>\n",
       "      <td>0</td>\n",
       "      <td>58</td>\n",
       "      <td>104</td>\n",
       "      <td>0</td>\n",
       "      <td>14.760818</td>\n",
       "      <td>24746.192308</td>\n",
       "      <td>44372.482759</td>\n",
       "      <td>0.141931</td>\n",
       "      <td>0.254497</td>\n",
       "      <td>0</td>\n",
       "      <td>0</td>\n",
       "      <td>0</td>\n",
       "      <td>1</td>\n",
       "      <td>0</td>\n",
       "      <td>0</td>\n",
       "      <td>1</td>\n",
       "      <td>0</td>\n",
       "      <td>0</td>\n",
       "      <td>0</td>\n",
       "      <td>1</td>\n",
       "    </tr>\n",
       "    <tr>\n",
       "      <th>118406</th>\n",
       "      <td>0</td>\n",
       "      <td>62</td>\n",
       "      <td>20</td>\n",
       "      <td>0</td>\n",
       "      <td>14.512880</td>\n",
       "      <td>100423.150000</td>\n",
       "      <td>32394.564516</td>\n",
       "      <td>0.725644</td>\n",
       "      <td>0.234079</td>\n",
       "      <td>0</td>\n",
       "      <td>1</td>\n",
       "      <td>0</td>\n",
       "      <td>0</td>\n",
       "      <td>1</td>\n",
       "      <td>0</td>\n",
       "      <td>0</td>\n",
       "      <td>0</td>\n",
       "      <td>0</td>\n",
       "      <td>0</td>\n",
       "      <td>1</td>\n",
       "    </tr>\n",
       "    <tr>\n",
       "      <th>148269</th>\n",
       "      <td>0</td>\n",
       "      <td>51</td>\n",
       "      <td>128</td>\n",
       "      <td>1</td>\n",
       "      <td>14.140844</td>\n",
       "      <td>10816.343750</td>\n",
       "      <td>27146.901961</td>\n",
       "      <td>0.110475</td>\n",
       "      <td>0.277271</td>\n",
       "      <td>0</td>\n",
       "      <td>1</td>\n",
       "      <td>0</td>\n",
       "      <td>0</td>\n",
       "      <td>0</td>\n",
       "      <td>0</td>\n",
       "      <td>1</td>\n",
       "      <td>0</td>\n",
       "      <td>0</td>\n",
       "      <td>1</td>\n",
       "      <td>0</td>\n",
       "    </tr>\n",
       "    <tr>\n",
       "      <th>11222</th>\n",
       "      <td>1</td>\n",
       "      <td>28</td>\n",
       "      <td>26</td>\n",
       "      <td>0</td>\n",
       "      <td>14.624520</td>\n",
       "      <td>86372.423077</td>\n",
       "      <td>80202.964286</td>\n",
       "      <td>0.562482</td>\n",
       "      <td>0.522304</td>\n",
       "      <td>0</td>\n",
       "      <td>1</td>\n",
       "      <td>0</td>\n",
       "      <td>0</td>\n",
       "      <td>1</td>\n",
       "      <td>0</td>\n",
       "      <td>0</td>\n",
       "      <td>0</td>\n",
       "      <td>0</td>\n",
       "      <td>1</td>\n",
       "      <td>0</td>\n",
       "    </tr>\n",
       "    <tr>\n",
       "      <th>44128</th>\n",
       "      <td>0</td>\n",
       "      <td>26</td>\n",
       "      <td>15</td>\n",
       "      <td>1</td>\n",
       "      <td>14.640057</td>\n",
       "      <td>152056.466667</td>\n",
       "      <td>87724.884615</td>\n",
       "      <td>0.976004</td>\n",
       "      <td>0.563079</td>\n",
       "      <td>0</td>\n",
       "      <td>0</td>\n",
       "      <td>1</td>\n",
       "      <td>0</td>\n",
       "      <td>1</td>\n",
       "      <td>0</td>\n",
       "      <td>0</td>\n",
       "      <td>0</td>\n",
       "      <td>0</td>\n",
       "      <td>1</td>\n",
       "      <td>0</td>\n",
       "    </tr>\n",
       "  </tbody>\n",
       "</table>\n",
       "</div>"
      ],
      "text/plain": [
       "        Gender  Age  ...  Credit_Product_No  Credit_Product_Yes\n",
       "194686       0   58  ...                  0                   1\n",
       "118406       0   62  ...                  0                   1\n",
       "148269       0   51  ...                  1                   0\n",
       "11222        1   28  ...                  1                   0\n",
       "44128        0   26  ...                  1                   0\n",
       "\n",
       "[5 rows x 20 columns]"
      ]
     },
     "execution_count": 233,
     "metadata": {
      "tags": []
     },
     "output_type": "execute_result"
    }
   ],
   "source": [
    "X_train.head()"
   ]
  },
  {
   "cell_type": "code",
   "execution_count": 234,
   "metadata": {
    "id": "lWyomOrqr7Ty"
   },
   "outputs": [],
   "source": [
    "weights = y_train.value_counts() / y_train.value_counts().sum()"
   ]
  },
  {
   "cell_type": "code",
   "execution_count": 235,
   "metadata": {
    "colab": {
     "base_uri": "https://localhost:8080/"
    },
    "id": "HyojzW0Jt0oQ",
    "outputId": "14df3533-6b40-4c06-904f-89cc2d15da12"
   },
   "outputs": [
    {
     "name": "stdout",
     "output_type": "stream",
     "text": [
      "[0]\tvalidation_0-auc:0.84774\tvalidation_1-auc:0.844262\n",
      "Multiple eval metrics have been passed: 'validation_1-auc' will be used for early stopping.\n",
      "\n",
      "Will train until validation_1-auc hasn't improved in 50 rounds.\n",
      "[1000]\tvalidation_0-auc:0.874331\tvalidation_1-auc:0.871431\n",
      "Stopping. Best iteration:\n",
      "[1377]\tvalidation_0-auc:0.875342\tvalidation_1-auc:0.871623\n",
      "\n"
     ]
    },
    {
     "data": {
      "text/plain": [
       "XGBClassifier(base_score=0.5, booster='gbtree', colsample_bylevel=1,\n",
       "              colsample_bynode=1, colsample_bytree=1, gamma=0,\n",
       "              learning_rate=0.01, max_delta_step=0, max_depth=3,\n",
       "              min_child_weight=1, missing=None, n_estimators=100000, n_jobs=1,\n",
       "              nthread=None, objective='binary:logistic', random_state=0,\n",
       "              reg_alpha=0, reg_lambda=1, scale_pos_weight=0.7627907733880288,\n",
       "              seed=None, silent=None, subsample=1, verbosity=1)"
      ]
     },
     "execution_count": 235,
     "metadata": {
      "tags": []
     },
     "output_type": "execute_result"
    }
   ],
   "source": [
    "# xgb.XGBRegressor or xgb.XGBClassifier\n",
    "xgb_model = xgb.XGBClassifier(learning_rate=0.01, scale_pos_weight = weights[0], n_estimators = 100000)\n",
    "xgb_model.fit(X_train_me, y_train, eval_metric = \"auc\", eval_set = [(X_train_me, y_train), (X_test_me, y_test)], verbose = 1000, early_stopping_rounds=50)\n",
    "\n",
    "#joblib.dump(xgb_model, \"drive/My Drive/PyColab Work/xxx/xgb_model.sav\")\n",
    "#confusion_matrix(y_train, xgb_model.predict(X_train))"
   ]
  },
  {
   "cell_type": "code",
   "execution_count": 236,
   "metadata": {
    "colab": {
     "base_uri": "https://localhost:8080/"
    },
    "id": "xqJPgCuA1pyB",
    "outputId": "62b4cc52-13b3-4f51-cd26-07f59489aa0b"
   },
   "outputs": [
    {
     "data": {
      "text/plain": [
       "array([[136926,   3651],\n",
       "       [ 22299,  21417]])"
      ]
     },
     "execution_count": 236,
     "metadata": {
      "tags": []
     },
     "output_type": "execute_result"
    }
   ],
   "source": [
    "#classification_report()\n",
    "confusion_matrix(y_train, xgb_model.predict(X_train_me))"
   ]
  },
  {
   "cell_type": "code",
   "execution_count": null,
   "metadata": {
    "id": "l26fUXA-15GK"
   },
   "outputs": [],
   "source": [
    "#classification_report()\n",
    "# confusion_matrix(y_test, xgb_model.predict(X_test_me))"
   ]
  },
  {
   "cell_type": "code",
   "execution_count": null,
   "metadata": {
    "id": "berHY8Ws2q5w"
   },
   "outputs": [],
   "source": [
    "# groups = X_train[[\"Transmission\", \"Fuel_Type_CNG\", \"Fuel_Type_Diesel\", \"Fuel_Type_Electric\", \"Fuel_Type_LPG\", \"Fuel_Type_Petrol\"]]\n",
    "### DATA LEAKAGE\n",
    "# cvscores = cross_val_score(xgb_model, X_train_me, y_train, cv = 5, scoring=\"roc_auc\", n_jobs=4) # Add Fuel Type as well"
   ]
  },
  {
   "cell_type": "code",
   "execution_count": 237,
   "metadata": {
    "colab": {
     "base_uri": "https://localhost:8080/",
     "height": 496
    },
    "id": "6j2M1Nh008Ei",
    "outputId": "f282ab67-6333-4552-fe44-fb6b092b6013"
   },
   "outputs": [
    {
     "name": "stderr",
     "output_type": "stream",
     "text": [
      "Pass the following variables as keyword args: x, y. From version 0.12, the only valid positional argument will be `data`, and passing other arguments without an explicit keyword will result in an error or misinterpretation.\n"
     ]
    },
    {
     "data": {
      "image/png": "[encoded data removed]",
      "text/plain": [
       "<Figure size 1440x360 with 1 Axes>"
      ]
     },
     "metadata": {
      "needs_background": "light",
      "tags": []
     },
     "output_type": "display_data"
    }
   ],
   "source": [
    "plt.figure(figsize = (20, 5))\n",
    "sns.barplot(\"feature\", \"imp\", data = pd.DataFrame( {'feature' : X_train_me.columns, 'imp' : xgb_model.feature_importances_ }).sort_values(\"imp\", ascending = False) )\n",
    "plt.xticks(rotation = 90)\n",
    "plt.show()"
   ]
  },
  {
   "cell_type": "code",
   "execution_count": 239,
   "metadata": {
    "colab": {
     "base_uri": "https://localhost:8080/"
    },
    "id": "EUX8dVQfB22R",
    "outputId": "2a98d052-909e-4745-be61-d5da361a690b"
   },
   "outputs": [
    {
     "data": {
      "text/plain": [
       "array([[45582,  1278],\n",
       "       [ 7414,  7158]])"
      ]
     },
     "execution_count": 239,
     "metadata": {
      "tags": []
     },
     "output_type": "execute_result"
    }
   ],
   "source": [
    "#classification_report()\n",
    "confusion_matrix(y_test, xgb_model.predict(X_test_me))"
   ]
  },
  {
   "cell_type": "code",
   "execution_count": 195,
   "metadata": {
    "colab": {
     "base_uri": "https://localhost:8080/"
    },
    "id": "RGDoMIaiEgYo",
    "outputId": "f84fd1fd-211a-41d3-e118-f3a6d455e9fe"
   },
   "outputs": [
    {
     "data": {
      "text/plain": [
       "array([[45585,  1275],\n",
       "       [ 7383,  7189]])"
      ]
     },
     "execution_count": 195,
     "metadata": {
      "tags": []
     },
     "output_type": "execute_result"
    }
   ],
   "source": [
    "#classification_report()\n",
    "confusion_matrix(y_test, xgb_model.predict(X_test))"
   ]
  },
  {
   "cell_type": "markdown",
   "metadata": {
    "id": "tcqsa8qGz-HH"
   },
   "source": [
    "#### SHAP"
   ]
  },
  {
   "cell_type": "code",
   "execution_count": null,
   "metadata": {
    "id": "lkAGzGL6z9vF"
   },
   "outputs": [],
   "source": [
    "explainer = shap.TreeExplainer(xgb_model)\n",
    "\n",
    "nsize = 1000\n",
    "\n",
    "shap_values = explainer.shap_values(X_train.iloc[0:nsize,:])\n",
    "shap.summary_plot(shap_values, X_train.iloc[0:nsize,:])\n",
    "\n",
    "plt.show()"
   ]
  },
  {
   "cell_type": "code",
   "execution_count": null,
   "metadata": {
    "id": "Gypbmna9uTil"
   },
   "outputs": [],
   "source": [
    "shap_values = explainer.shap_values(X_test.iloc[0:nsize,:])\n",
    "b = shap.summary_plot(shap_values, X_test.iloc[0:nsize,:])"
   ]
  },
  {
   "cell_type": "markdown",
   "metadata": {
    "id": "zxBRjn_R1tnL"
   },
   "source": [
    "#### Hyperparameter Tuning\n",
    "\n",
    "Draw appropriate graph to understand impact of two hyperparameters.  \n",
    "eg: rounds to maxdepth can give an idea where it overfits."
   ]
  },
  {
   "cell_type": "markdown",
   "metadata": {
    "id": "sf0xtdx_0OM8"
   },
   "source": [
    "##### GridSearchCV"
   ]
  },
  {
   "cell_type": "code",
   "execution_count": null,
   "metadata": {
    "id": "mUf0tNJs0N86"
   },
   "outputs": [],
   "source": [
    "cv= RepeatedKFold(2, 2)\n",
    "xgb_engine = xgb.XGBRegressor() #n_estimator not used\n",
    "xgb_params = {'booster' : ['gbtree'],\n",
    "              'max_depth' : [3, 4], \n",
    "              'gamma' : [0], \n",
    "              'learning_rate' : [0.3], \n",
    "              \"n_estimators\" : [100000], \n",
    "              'min_child_weight' : [5, 10], \n",
    "              'subsample' : [1], \n",
    "              'colsample_bytree' : [0.7, 1], \n",
    "              'colsample_bylevel' : [1], \n",
    "              'colsample_bynode' : [1], \n",
    "              'reg_lambda' : [0, 1], \n",
    "              'reg_alpha' : [0, 1]}\n",
    "\n",
    "xgb_grid = GridSearchCV(xgb_engine, xgb_params, cv = cv, n_jobs = 4, verbose = 0, return_train_score  = True)\n",
    "xgb_grid.fit(X_train, y_train, eval_set = [(X_train, y_train)], early_stopping_rounds=10, verbose = 1000)\n",
    "\n",
    "#joblib.dump(xgb_grid, \"F:/Vasim/Python Stuff/Flight/gridxgboost.sav\")\n",
    "\n",
    "#print( np.sqrt( -cross_val_score(xgb_grid.best_estimator_, X_train, y_train, cv = cv, scoring = \"neg_mean_squared_error\") ) )\n",
    "#print( np.sqrt( mean_squared_error(y_test, xgb_grid.predict(X_test)) ) )"
   ]
  },
  {
   "cell_type": "markdown",
   "metadata": {
    "id": "rU9QzdS4Qzgi"
   },
   "source": [
    "##### Skopt"
   ]
  },
  {
   "cell_type": "code",
   "execution_count": null,
   "metadata": {
    "id": "XxdS8V-6QyyW"
   },
   "outputs": [],
   "source": [
    "from skopt.space import Integer, Categorical, Real\n",
    "from skopt.utils import use_named_args\n",
    "from skopt import gp_minimize\n",
    "\n",
    "# set up hyperparameter space\n",
    "space = [Integer(3, 50, name='max_depth'),\n",
    "         Integer(8, 200, name='n_estimators'),\n",
    "         Integer(3, 50, name='min_child_weight'),\n",
    "         Real(0.001, 1.0, name='learning_rate')]\n",
    "\n",
    "regressor = xgb.XGBRegressor()\n",
    "\n",
    "from sklearn.model_selection import cross_val_score\n",
    "\n",
    "@use_named_args(space)\n",
    "def objective(**params):\n",
    "    regressor.set_params(**params)\n",
    "    return -np.mean(cross_val_score(regressor, X_train, y_train, cv=5, n_jobs=1, scoring='neg_mean_squared_error'))"
   ]
  },
  {
   "cell_type": "code",
   "execution_count": null,
   "metadata": {
    "id": "ZI0edKA0Q2v9"
   },
   "outputs": [],
   "source": [
    "reg_gp = gp_minimize(objective, space, verbose=False)\n",
    "\n",
    "print('best score: {}'.format(reg_gp.fun))\n",
    "\n",
    "print('best params:')\n",
    "print('        max_depth: {}'.format(reg_gp.x[0]))\n",
    "print('     n_estimators: {}'.format(reg_gp.x[1]))\n",
    "print(' min_child_weight: {}'.format(reg_gp.x[2]))\n",
    "print('    learning_rate: {}'.format(reg_gp.x[3]))"
   ]
  },
  {
   "cell_type": "code",
   "execution_count": null,
   "metadata": {
    "id": "F-JY6U5rQ4jX"
   },
   "outputs": [],
   "source": [
    "import skopt.plots\n",
    "skopt.plots.plot_convergence(reg_gp)"
   ]
  },
  {
   "cell_type": "code",
   "execution_count": null,
   "metadata": {
    "id": "oDO1SkeOQ6Cc"
   },
   "outputs": [],
   "source": [
    "skopt.plots.plot_evaluations(reg_gp, bins = 20)\n",
    "plt.show()"
   ]
  },
  {
   "cell_type": "code",
   "execution_count": null,
   "metadata": {
    "id": "U4KPJyRrQ8TC"
   },
   "outputs": [],
   "source": [
    "skopt.plots.plot_objective(reg_gp)\n",
    "plt.show()"
   ]
  },
  {
   "cell_type": "markdown",
   "metadata": {
    "id": "XNj62WgORNi5"
   },
   "source": [
    "##### Hyperopt"
   ]
  },
  {
   "cell_type": "code",
   "execution_count": null,
   "metadata": {
    "id": "kFsi83NARPw4"
   },
   "outputs": [],
   "source": []
  },
  {
   "cell_type": "markdown",
   "metadata": {
    "id": "RARcaL1Iy88i"
   },
   "source": [
    "### LightGBM\n",
    "Inbuilt Categorical features"
   ]
  },
  {
   "cell_type": "code",
   "execution_count": null,
   "metadata": {
    "id": "7B1rRAyVy-_y"
   },
   "outputs": [],
   "source": [
    "lgbm_model = lgb.LGBMRegressor(learning_rate=0.01, n_estimators=100000)\n",
    "lgbm_model.fit(X_train, y_train, eval_set = [(X_test, y_test)], early_stopping_rounds=100, verbose = 1000)"
   ]
  },
  {
   "cell_type": "markdown",
   "metadata": {
    "id": "pgavaNvY0IZm"
   },
   "source": [
    "#### SHAP"
   ]
  },
  {
   "cell_type": "code",
   "execution_count": null,
   "metadata": {
    "id": "C7wBWbN90IZn"
   },
   "outputs": [],
   "source": [
    "explainer = shap.TreeExplainer(lgbm_model)\n",
    "\n",
    "nsize = 1000\n",
    "\n",
    "shap_values = explainer.shap_values(X_train.iloc[0:nsize,:])\n",
    "shap.summary_plot(shap_values, X_train.iloc[0:nsize,:])\n",
    "\n",
    "plt.show()"
   ]
  },
  {
   "cell_type": "markdown",
   "metadata": {
    "id": "nTyrMKfY0VG8"
   },
   "source": [
    "#### Hyperparamter Tuning"
   ]
  },
  {
   "cell_type": "code",
   "execution_count": null,
   "metadata": {
    "id": "IfEqthrB0VG9"
   },
   "outputs": [],
   "source": [
    "lgbm_engine = lgb.LGBMRegressor()\n",
    "lgbm_params = {'max_depth' : [17], 'learning_rate' : [0.05], 'n_estimators': [100000],  'min_child_samples' : [3], 'num_leaves' : [40], 'min_child_weight' : [0.001], \n",
    "               'min_split_gain' : [0], 'colsample_bytree' : [0.3], 'reg_alpha' : [0], 'reg_lamba' : [0], 'importance_type' : ['split'] }\n",
    "\n",
    "lgbm_grid = GridSearchCV(lgbm_engine, lgbm_params, cv = 4, n_jobs = 4, verbose = 0)\n",
    "lgbm_grid.fit(X_train, y_train, eval_set = [(X_test, y_test)], early_stopping_rounds=100, verbose = 1000)\n",
    "#print( np.sqrt( -cross_val_score(lgbm_grid.best_estimator_, X_train, y_train, cv = 5, scoring = \"neg_mean_squared_error\") ) )\n",
    "#print( np.sqrt( mean_squared_error(y_test, lgbm_grid.predict(X_test)) ) )"
   ]
  },
  {
   "cell_type": "markdown",
   "metadata": {
    "id": "cVcYEsZhy_si"
   },
   "source": [
    "### CatBoost\n",
    "\n",
    "Inbuilt Categorical features  \n",
    "\n",
    "The cat.cv - inbuilt cross validation gives cross validated result on each iterations.   \n",
    "The only hyperparameter we can select from in built cv is no of iteration.  \n",
    "Try sklearn cv type with for loop for cv score or skopt or hyperopt module.  "
   ]
  },
  {
   "cell_type": "code",
   "execution_count": null,
   "metadata": {
    "id": "8S5NYLszzAIS"
   },
   "outputs": [],
   "source": [
    "from catboost import CatBoostRegressor, Pool\n",
    "categorical_features_indices = np.where(cat_train.dtypes == 'object')[0]\n",
    "\n",
    "cat_model = CatBoostRegressor(iterations = 100000, learning_rate = 0.01)\n",
    "cat_model.fit(cat_train, y_train, eval_set = (cat_test, y_test), cat_features = categorical_features_indices, plot = True, verbose = 1000, early_stopping_rounds=100)\n",
    "\n",
    "#print( np.sqrt( -cross_val_score(cat_model, X_train, y_train, cv = 5, scoring = \"neg_mean_squared_error\", verbose = False) ) )\n",
    "#np.sqrt(mean_squared_error(y_test, cat_model.predict(X_test)))"
   ]
  },
  {
   "cell_type": "markdown",
   "metadata": {
    "id": "oQWOgbKL0Gji"
   },
   "source": [
    "#### SHAP"
   ]
  },
  {
   "cell_type": "code",
   "execution_count": null,
   "metadata": {
    "id": "TjAHY8u-0Gjj"
   },
   "outputs": [],
   "source": [
    "explainer = shap.TreeExplainer(cat_model)\n",
    "\n",
    "nsize = 1000\n",
    "\n",
    "shap_values = explainer.shap_values(X_train.iloc[0:nsize,:])\n",
    "shap.summary_plot(shap_values, X_train.iloc[0:nsize,:])\n",
    "\n",
    "plt.show()"
   ]
  },
  {
   "cell_type": "markdown",
   "metadata": {
    "id": "pLT0C72m0Vjh"
   },
   "source": [
    "#### Hyperparamter Tuning"
   ]
  },
  {
   "cell_type": "code",
   "execution_count": null,
   "metadata": {
    "id": "9X3_BBk50Vji"
   },
   "outputs": [],
   "source": [
    "cat_engine = CatBoostRegressor()\n",
    "cat_params = {'max_depth' : [4], 'learning_rate' : [0.1], 'iterations': [100000], 'colsample_bylevel' : [1]}\n",
    "    \n",
    "cat_grid = GridSearchCV(cat_engine, cat_params, cv = 4, n_jobs = 4, verbose = False)\n",
    "cat_grid.fit(cat_train, y_train, eval_set = (cat_val, y_val), cat_features = categorical_features_indices, plot = True, verbose = 1000, early_stopping_rounds=100)"
   ]
  },
  {
   "cell_type": "markdown",
   "metadata": {
    "id": "6sN6540ezFEh"
   },
   "source": [
    "### SVM\n",
    "\n",
    "Apply scaling"
   ]
  },
  {
   "cell_type": "code",
   "execution_count": null,
   "metadata": {
    "id": "8q_mgTlJzEqJ"
   },
   "outputs": [],
   "source": [
    "#%%script false\n",
    "\n",
    "from sklearn.svm import SVR\n",
    "from sklearn.preprocessing import StandardScaler, MinMaxScaler\n",
    "\n",
    "#Scaling only on numeric data.\n",
    "svmpipe = Pipeline([ ( \"std\", StandardScaler() ), (\"mimax\", MinMaxScaler()) , ( \"svm\", SVR(gamma = 'scale', kernel = 'rbf', C = 1.5, epsilon = 0.1, max_iter=-1) ) ])\n",
    "svmpipe.fit(X_train, y_train)\n",
    "\n",
    "#np.sqrt( -cross_val_score(svmpipe, X_train.astype(float), y_train.astype(float), cv = 5, scoring = \"neg_mean_squared_error\") )\n",
    "np.sqrt( mean_squared_error(y_test, svmpipe.predict(X_test))) "
   ]
  },
  {
   "cell_type": "markdown",
   "metadata": {
    "id": "FiK9TDZ80JTa"
   },
   "source": [
    "#### SHAP"
   ]
  },
  {
   "cell_type": "code",
   "execution_count": null,
   "metadata": {
    "id": "1PEvvBai0JTb"
   },
   "outputs": [],
   "source": []
  },
  {
   "cell_type": "markdown",
   "metadata": {
    "id": "0bUKbEY00WjY"
   },
   "source": [
    "#### Hyperparamter Tuning"
   ]
  },
  {
   "cell_type": "code",
   "execution_count": null,
   "metadata": {
    "id": "F-Otyq-80WjZ"
   },
   "outputs": [],
   "source": []
  },
  {
   "cell_type": "markdown",
   "metadata": {
    "id": "W4S_DeexzHOp"
   },
   "source": [
    "### KNN\n",
    "\n",
    "Apply scaling"
   ]
  },
  {
   "cell_type": "code",
   "execution_count": null,
   "metadata": {
    "id": "EVi3EkpIzG7J"
   },
   "outputs": [],
   "source": [
    "from sklearn.neighbors import KNeighborsRegressor\n",
    "from sklearn.preprocessing import StandardScaler, normalize, MinMaxScaler\n",
    "\n",
    "#Scaling on numeric data only\n",
    "neigh = KNeighborsRegressor(n_neighbors=5)\n",
    "knnpipe = Pipeline([ ( \"std\", StandardScaler() ), (\"minmax\", MinMaxScaler() ), ( \"knn\", neigh ) ])\n",
    "\n",
    "#scale data\n",
    "knnpipe.fit(X_train, y_train) \n",
    "print( np.sqrt( -cross_val_score(neigh, X_train, y_train, cv = 5, scoring = \"neg_mean_squared_error\") ) )\n",
    "#np.sqrt(mean_squared_error(y_test, neigh.predict(X_test)))"
   ]
  },
  {
   "cell_type": "markdown",
   "metadata": {
    "id": "-gk4sQqE0J4Q"
   },
   "source": [
    "#### SHAP"
   ]
  },
  {
   "cell_type": "code",
   "execution_count": null,
   "metadata": {
    "id": "4stKspHI0J4T"
   },
   "outputs": [],
   "source": []
  },
  {
   "cell_type": "markdown",
   "metadata": {
    "id": "zAxVM-R40XKX"
   },
   "source": [
    "#### Hyperparamter Tuning"
   ]
  },
  {
   "cell_type": "code",
   "execution_count": null,
   "metadata": {
    "id": "s08daRE-0XKY"
   },
   "outputs": [],
   "source": []
  },
  {
   "cell_type": "markdown",
   "metadata": {
    "id": "pvtU9jGszJGQ"
   },
   "source": [
    "### Keras\n",
    "\n",
    "Apply scaling"
   ]
  },
  {
   "cell_type": "code",
   "execution_count": null,
   "metadata": {
    "id": "FDS42j5JzI6p"
   },
   "outputs": [],
   "source": [
    "#!pip install tensorboardcolab\n",
    "# Apply scaling\n",
    "\n",
    "from tensorboardcolab import TensorBoardColab, TensorBoardColabCallback\n",
    "from keras.models import Sequential\n",
    "from keras.layers import Dense, Dropout\n",
    "#tbc=TensorBoardColab()\n",
    "\n",
    "model2 = Sequential()\n",
    "model2.add(Dense(200, input_dim=X_train.shape[1], kernel_initializer='normal', activation='relu'))\n",
    "model2.add(Dense(30, kernel_initializer='normal', activation='relu'))\n",
    "model2.add(Dropout(.10))\n",
    "#model.add(Dense(10, kernel_initializer='normal', activation='relu'))\n",
    "#model.add(Dropout(.10))\n",
    "model2.add(Dense(1, kernel_initializer='normal'))\n",
    "\n",
    "model2.compile(loss='mean_squared_error', optimizer='adam')\n",
    "\n",
    "model2.fit(X_train, y_train, epochs = 18, verbose = 0) #callbacks=[TensorBoardColabCallback(tbc)]\n",
    "pd.DataFrame( {\"Actual\" : np.exp(y_test), \"Predict\" : np.exp(model2.predict(X_test)[0:,0])} ).describe()"
   ]
  },
  {
   "cell_type": "markdown",
   "metadata": {
    "id": "GrzRndbU0LVT"
   },
   "source": [
    "#### SHAP"
   ]
  },
  {
   "cell_type": "code",
   "execution_count": null,
   "metadata": {
    "id": "rJm320f60LVU"
   },
   "outputs": [],
   "source": []
  },
  {
   "cell_type": "markdown",
   "metadata": {
    "id": "AzzWA0wb0Xt2"
   },
   "source": [
    "#### Hyperparamter Tuning"
   ]
  },
  {
   "cell_type": "code",
   "execution_count": null,
   "metadata": {
    "id": "dTxCbRg80Xt4"
   },
   "outputs": [],
   "source": []
  },
  {
   "cell_type": "markdown",
   "metadata": {
    "id": "EZEQP33kzN7Y"
   },
   "source": [
    "### Linear\n",
    "\n",
    "inludes - Logistic  \n",
    "Panelty - Ridge, Lasso and ElasticNet  \n"
   ]
  },
  {
   "cell_type": "code",
   "execution_count": null,
   "metadata": {
    "id": "K1ROVFVuzNrh"
   },
   "outputs": [],
   "source": []
  },
  {
   "cell_type": "markdown",
   "metadata": {
    "id": "IW29Sc0R0LFQ"
   },
   "source": [
    "#### SHAP"
   ]
  },
  {
   "cell_type": "code",
   "execution_count": null,
   "metadata": {
    "id": "Ot0Fme0_0LFR"
   },
   "outputs": [],
   "source": []
  },
  {
   "cell_type": "markdown",
   "metadata": {
    "id": "yyUOr-dt0YkB"
   },
   "source": [
    "#### Hyperparamter Tuning"
   ]
  },
  {
   "cell_type": "code",
   "execution_count": null,
   "metadata": {
    "id": "8jP8Ft880YkC"
   },
   "outputs": [],
   "source": []
  },
  {
   "cell_type": "markdown",
   "metadata": {
    "id": "0Q1tsQyYzTYS"
   },
   "source": [
    "## Stacking"
   ]
  },
  {
   "cell_type": "code",
   "execution_count": null,
   "metadata": {
    "id": "p_XTtKjLzTMB"
   },
   "outputs": [],
   "source": [
    "#mlextend"
   ]
  }
 ],
 "metadata": {
  "colab": {
   "collapsed_sections": [
    "K-6dPY3MkPmu",
    "LIr82FI6kylK",
    "-8RfdmJcvA5l",
    "oWDE2fUvk4Gi",
    "tcqsa8qGz-HH",
    "zxBRjn_R1tnL",
    "sf0xtdx_0OM8",
    "rU9QzdS4Qzgi",
    "XNj62WgORNi5",
    "RARcaL1Iy88i",
    "pgavaNvY0IZm",
    "nTyrMKfY0VG8",
    "cVcYEsZhy_si",
    "oQWOgbKL0Gji",
    "pLT0C72m0Vjh",
    "6sN6540ezFEh",
    "FiK9TDZ80JTa",
    "0bUKbEY00WjY",
    "W4S_DeexzHOp",
    "-gk4sQqE0J4Q",
    "zAxVM-R40XKX",
    "pvtU9jGszJGQ",
    "GrzRndbU0LVT",
    "AzzWA0wb0Xt2",
    "EZEQP33kzN7Y",
    "IW29Sc0R0LFQ",
    "yyUOr-dt0YkB",
    "0Q1tsQyYzTYS"
   ],
   "name": "Copy of 1 Simple Template.ipynb",
   "provenance": []
  },
  "kernelspec": {
   "display_name": "Python 3",
   "language": "python",
   "name": "python3"
  },
  "language_info": {
   "codemirror_mode": {
    "name": "ipython",
    "version": 3
   },
   "file_extension": ".py",
   "mimetype": "text/x-python",
   "name": "python",
   "nbconvert_exporter": "python",
   "pygments_lexer": "ipython3",
   "version": "3.7.7"
  }
 },
 "nbformat": 4,
 "nbformat_minor": 1
}
